{
 "cells": [
  {
   "cell_type": "code",
   "execution_count": 1,
   "id": "910fdad9-f632-414c-aa6e-980968cce90d",
   "metadata": {},
   "outputs": [],
   "source": [
    "from transformers import AutoModelForCausalLM, AutoTokenizer\n",
    "import torch"
   ]
  },
  {
   "cell_type": "code",
   "execution_count": 3,
   "id": "55343431-13ce-4ab5-a56a-0a50491f3835",
   "metadata": {},
   "outputs": [
    {
     "name": "stderr",
     "output_type": "stream",
     "text": [
      "`config.hidden_act` is ignored, you should use `config.hidden_activation` instead.\n",
      "Gemma's activation function will be set to `gelu_pytorch_tanh`. Please, use\n",
      "`config.hidden_activation` if you want to override this behaviour.\n",
      "See https://github.com/huggingface/transformers/pull/29402 for more details.\n"
     ]
    },
    {
     "name": "stdout",
     "output_type": "stream",
     "text": [
      "in oss file\n"
     ]
    },
    {
     "data": {
      "application/vnd.jupyter.widget-view+json": {
       "model_id": "7004508f37424a84814746df11bbc7bd",
       "version_major": 2,
       "version_minor": 0
      },
      "text/plain": [
       "Loading checkpoint shards:   0%|          | 0/2 [00:00<?, ?it/s]"
      ]
     },
     "metadata": {},
     "output_type": "display_data"
    }
   ],
   "source": [
    "gpu = torch.device('cuda:0')\n",
    "model_id = \"google/codegemma-1.1-2b\"\n",
    "tokenizer = AutoTokenizer.from_pretrained(model_id)\n",
    "model = AutoModelForCausalLM.from_pretrained(model_id, device_map='auto', torch_dtype=torch.bfloat16)"
   ]
  },
  {
   "cell_type": "code",
   "execution_count": 11,
   "id": "94213819-3a5e-4f3d-b1d0-a75ccb9c0ed3",
   "metadata": {},
   "outputs": [],
   "source": [
    "# create sample input"
   ]
  },
  {
   "cell_type": "code",
   "execution_count": 12,
   "id": "d878f987-e00a-4f04-a631-cdb24d696120",
   "metadata": {},
   "outputs": [],
   "source": [
    "import requests\n",
    "sample = requests.get('https://raw.githubusercontent.com/pallets/flask/main/tests/test_basic.py').content.decode('utf-8')"
   ]
  },
  {
   "cell_type": "code",
   "execution_count": 48,
   "id": "00d35e4e-3ea9-489f-b744-82bf37151ed0",
   "metadata": {},
   "outputs": [],
   "source": [
    "def infer_batch(prompt, prompt_tokens=-1, max_new_tokens=128, top_p=0.9, temperature=0.1, num_return_sequences=1):\n",
    "    inputs = tokenizer(prompt, return_tensors=\"pt\").to(device)\n",
    "    if prompt_tokens < 0:\n",
    "        prompt_tokens = len(inputs.input_ids[0])\n",
    "    with torch.no_grad():\n",
    "        generated_ids = model.generate(input_ids=inputs.input_ids[:,-prompt_tokens:],\n",
    "                                       attention_mask=inputs.attention_mask[:,-prompt_tokens:],\n",
    "                                       max_new_tokens=max_new_tokens, \n",
    "                                       #stopping_criteria=stopper, \n",
    "                                       top_p=top_p,\n",
    "                                       temperature=temperature,\n",
    "                                       do_sample=True,\n",
    "                                       num_return_sequences=num_return_sequences)\n",
    "    output = tokenizer.batch_decode(generated_ids, skip_special_tokens=True)\n",
    "    del generated_ids\n",
    "    del inputs\n",
    "    return output"
   ]
  },
  {
   "cell_type": "code",
   "execution_count": 52,
   "id": "0c0d4a98-728c-4677-a44d-3a839b00b71a",
   "metadata": {},
   "outputs": [],
   "source": [
    "import time\n",
    "from tqdm import tqdm\n",
    "import random\n",
    "\n",
    "\n",
    "def last_tokens(prompt, tokens):\n",
    "    return tokenizer.decode(tokenizer(prompt, return_tensors='pt').input_ids[:,-tokens:][0])\n",
    "\n",
    "def benchmark(prompt, tokens_in, tokens_out, batch_sizes, n_iter):\n",
    "    experiments = []\n",
    "    results = []\n",
    "    for num_in in tokens_in:\n",
    "        for num_out in tokens_out:\n",
    "            for batch_size in batch_sizes:\n",
    "                for n in range(n_iter):\n",
    "                    if batch_size * (num_in + num_out) <= LIMIT:\n",
    "                        experiments.append((num_in, num_out, batch_size, n))\n",
    "    print(f'{len(experiments)=}')\n",
    "    \n",
    "    random.shuffle(experiments)\n",
    "    \n",
    "    for num_in, num_out, batch_size, n in tqdm(experiments):\n",
    "        print(f'{num_in=}, {num_out=}, {batch_size=}')\n",
    "        input = last_tokens(prompt, num_in)\n",
    "        torch.cuda.empty_cache()\n",
    "        t = time.time()\n",
    "        infer_batch(input, \n",
    "                    max_new_tokens=num_out, \n",
    "                    num_return_sequences=batch_size)\n",
    "        t = time.time() - t\n",
    "        results.append((num_in, num_out, batch_size, n, t))\n",
    "    return results"
   ]
  },
  {
   "cell_type": "code",
   "execution_count": 62,
   "id": "c397d02a-6693-457f-a472-aec459e08555",
   "metadata": {},
   "outputs": [
    {
     "name": "stdout",
     "output_type": "stream",
     "text": [
      "len(experiments)=760\n"
     ]
    },
    {
     "name": "stderr",
     "output_type": "stream",
     "text": [
      "  0%|          | 0/760 [00:00<?, ?it/s]"
     ]
    },
    {
     "name": "stdout",
     "output_type": "stream",
     "text": [
      "num_in=896, num_out=256, batch_size=1\n"
     ]
    },
    {
     "name": "stderr",
     "output_type": "stream",
     "text": [
      "  0%|          | 1/760 [00:02<31:27,  2.49s/it]"
     ]
    },
    {
     "name": "stdout",
     "output_type": "stream",
     "text": [
      "num_in=896, num_out=512, batch_size=1\n"
     ]
    },
    {
     "name": "stderr",
     "output_type": "stream",
     "text": [
      "  0%|          | 2/760 [00:07<48:17,  3.82s/it]"
     ]
    },
    {
     "name": "stdout",
     "output_type": "stream",
     "text": [
      "num_in=1024, num_out=256, batch_size=1\n"
     ]
    },
    {
     "name": "stderr",
     "output_type": "stream",
     "text": [
      "  0%|          | 3/760 [00:09<40:08,  3.18s/it]"
     ]
    },
    {
     "name": "stdout",
     "output_type": "stream",
     "text": [
      "num_in=256, num_out=128, batch_size=1\n",
      "num_in=1024, num_out=64, batch_size=1\n"
     ]
    },
    {
     "name": "stderr",
     "output_type": "stream",
     "text": [
      "  1%|          | 5/760 [00:10<19:53,  1.58s/it]"
     ]
    },
    {
     "name": "stdout",
     "output_type": "stream",
     "text": [
      "num_in=640, num_out=192, batch_size=1\n"
     ]
    },
    {
     "name": "stderr",
     "output_type": "stream",
     "text": [
      "  1%|          | 6/760 [00:12<20:43,  1.65s/it]"
     ]
    },
    {
     "name": "stdout",
     "output_type": "stream",
     "text": [
      "num_in=128, num_out=128, batch_size=1\n",
      "num_in=384, num_out=192, batch_size=1\n"
     ]
    },
    {
     "name": "stderr",
     "output_type": "stream",
     "text": [
      "  1%|▏         | 11/760 [00:14<08:39,  1.44it/s]"
     ]
    },
    {
     "name": "stdout",
     "output_type": "stream",
     "text": [
      "num_in=128, num_out=128, batch_size=1\n",
      "num_in=128, num_out=192, batch_size=4\n",
      "num_in=256, num_out=448, batch_size=1\n",
      "num_in=384, num_out=384, batch_size=1\n"
     ]
    },
    {
     "name": "stderr",
     "output_type": "stream",
     "text": [
      "  2%|▏         | 15/760 [00:17<08:43,  1.42it/s]"
     ]
    },
    {
     "name": "stdout",
     "output_type": "stream",
     "text": [
      "num_in=128, num_out=256, batch_size=1\n",
      "num_in=128, num_out=128, batch_size=4\n",
      "num_in=128, num_out=192, batch_size=4\n",
      "num_in=640, num_out=128, batch_size=1\n"
     ]
    },
    {
     "name": "stderr",
     "output_type": "stream",
     "text": [
      "  2%|▏         | 16/760 [00:19<09:50,  1.26it/s]"
     ]
    },
    {
     "name": "stdout",
     "output_type": "stream",
     "text": [
      "num_in=896, num_out=256, batch_size=1\n"
     ]
    },
    {
     "name": "stderr",
     "output_type": "stream",
     "text": [
      "  2%|▏         | 17/760 [00:21<13:50,  1.12s/it]"
     ]
    },
    {
     "name": "stdout",
     "output_type": "stream",
     "text": [
      "num_in=512, num_out=192, batch_size=1\n"
     ]
    },
    {
     "name": "stderr",
     "output_type": "stream",
     "text": [
      "  2%|▏         | 18/760 [00:23<15:44,  1.27s/it]"
     ]
    },
    {
     "name": "stdout",
     "output_type": "stream",
     "text": [
      "num_in=1024, num_out=64, batch_size=1\n"
     ]
    },
    {
     "name": "stderr",
     "output_type": "stream",
     "text": [
      "  2%|▎         | 19/760 [00:23<13:51,  1.12s/it]"
     ]
    },
    {
     "name": "stdout",
     "output_type": "stream",
     "text": [
      "num_in=512, num_out=64, batch_size=1\n"
     ]
    },
    {
     "name": "stderr",
     "output_type": "stream",
     "text": [
      "  3%|▎         | 20/760 [00:24<12:19,  1.00it/s]"
     ]
    },
    {
     "name": "stdout",
     "output_type": "stream",
     "text": [
      "num_in=512, num_out=448, batch_size=1\n"
     ]
    },
    {
     "name": "stderr",
     "output_type": "stream",
     "text": [
      "  3%|▎         | 21/760 [00:28<22:42,  1.84s/it]"
     ]
    },
    {
     "name": "stdout",
     "output_type": "stream",
     "text": [
      "num_in=512, num_out=512, batch_size=1\n"
     ]
    },
    {
     "name": "stderr",
     "output_type": "stream",
     "text": [
      "  3%|▎         | 22/760 [00:33<32:31,  2.64s/it]"
     ]
    },
    {
     "name": "stdout",
     "output_type": "stream",
     "text": [
      "num_in=128, num_out=448, batch_size=1\n",
      "num_in=384, num_out=384, batch_size=1\n"
     ]
    },
    {
     "name": "stderr",
     "output_type": "stream",
     "text": [
      "  3%|▎         | 24/760 [00:37<27:49,  2.27s/it]"
     ]
    },
    {
     "name": "stdout",
     "output_type": "stream",
     "text": [
      "num_in=256, num_out=448, batch_size=1\n",
      "num_in=256, num_out=384, batch_size=1\n",
      "num_in=512, num_out=128, batch_size=1\n"
     ]
    },
    {
     "name": "stderr",
     "output_type": "stream",
     "text": [
      "  4%|▍         | 29/760 [00:38<11:41,  1.04it/s]"
     ]
    },
    {
     "name": "stdout",
     "output_type": "stream",
     "text": [
      "num_in=128, num_out=64, batch_size=1\n",
      "num_in=1024, num_out=192, batch_size=1\n",
      "num_in=896, num_out=128, batch_size=1\n"
     ]
    },
    {
     "name": "stderr",
     "output_type": "stream",
     "text": [
      "  4%|▍         | 30/760 [00:39<12:18,  1.01s/it]"
     ]
    },
    {
     "name": "stdout",
     "output_type": "stream",
     "text": [
      "num_in=512, num_out=64, batch_size=1\n"
     ]
    },
    {
     "name": "stderr",
     "output_type": "stream",
     "text": [
      "  4%|▍         | 31/760 [00:40<11:21,  1.07it/s]"
     ]
    },
    {
     "name": "stdout",
     "output_type": "stream",
     "text": [
      "num_in=896, num_out=192, batch_size=1\n"
     ]
    },
    {
     "name": "stderr",
     "output_type": "stream",
     "text": [
      "  4%|▍         | 32/760 [00:42<13:47,  1.14s/it]"
     ]
    },
    {
     "name": "stdout",
     "output_type": "stream",
     "text": [
      "num_in=512, num_out=512, batch_size=1\n"
     ]
    },
    {
     "name": "stderr",
     "output_type": "stream",
     "text": [
      "  4%|▍         | 33/760 [00:46<24:31,  2.02s/it]"
     ]
    },
    {
     "name": "stdout",
     "output_type": "stream",
     "text": [
      "num_in=256, num_out=512, batch_size=1\n",
      "num_in=768, num_out=256, batch_size=1\n"
     ]
    },
    {
     "name": "stderr",
     "output_type": "stream",
     "text": [
      "  5%|▍         | 37/760 [00:49<13:02,  1.08s/it]"
     ]
    },
    {
     "name": "stdout",
     "output_type": "stream",
     "text": [
      "num_in=256, num_out=64, batch_size=1\n",
      "num_in=256, num_out=128, batch_size=1\n",
      "num_in=512, num_out=192, batch_size=1\n"
     ]
    },
    {
     "name": "stderr",
     "output_type": "stream",
     "text": [
      "  5%|▌         | 38/760 [00:51<14:49,  1.23s/it]"
     ]
    },
    {
     "name": "stdout",
     "output_type": "stream",
     "text": [
      "num_in=1024, num_out=320, batch_size=1\n",
      "num_in=768, num_out=448, batch_size=1\n"
     ]
    },
    {
     "name": "stderr",
     "output_type": "stream",
     "text": [
      "  5%|▌         | 40/760 [00:55<18:49,  1.57s/it]"
     ]
    },
    {
     "name": "stdout",
     "output_type": "stream",
     "text": [
      "num_in=128, num_out=192, batch_size=1\n",
      "num_in=128, num_out=384, batch_size=1\n",
      "num_in=1024, num_out=256, batch_size=1\n"
     ]
    },
    {
     "name": "stderr",
     "output_type": "stream",
     "text": [
      "  6%|▌         | 43/760 [00:57<14:48,  1.24s/it]"
     ]
    },
    {
     "name": "stdout",
     "output_type": "stream",
     "text": [
      "num_in=768, num_out=320, batch_size=1\n"
     ]
    },
    {
     "name": "stderr",
     "output_type": "stream",
     "text": [
      "  6%|▌         | 46/760 [01:01<12:29,  1.05s/it]"
     ]
    },
    {
     "name": "stdout",
     "output_type": "stream",
     "text": [
      "num_in=256, num_out=512, batch_size=1\n",
      "num_in=256, num_out=192, batch_size=1\n",
      "num_in=384, num_out=128, batch_size=1\n"
     ]
    },
    {
     "name": "stderr",
     "output_type": "stream",
     "text": [
      "  6%|▌         | 47/760 [01:02<12:49,  1.08s/it]"
     ]
    },
    {
     "name": "stdout",
     "output_type": "stream",
     "text": [
      "num_in=384, num_out=448, batch_size=1\n"
     ]
    },
    {
     "name": "stderr",
     "output_type": "stream",
     "text": [
      "  6%|▋         | 48/760 [01:06<20:39,  1.74s/it]"
     ]
    },
    {
     "name": "stdout",
     "output_type": "stream",
     "text": [
      "num_in=896, num_out=512, batch_size=1\n"
     ]
    },
    {
     "name": "stderr",
     "output_type": "stream",
     "text": [
      "  6%|▋         | 49/760 [01:11<29:03,  2.45s/it]"
     ]
    },
    {
     "name": "stdout",
     "output_type": "stream",
     "text": [
      "num_in=640, num_out=64, batch_size=1\n"
     ]
    },
    {
     "name": "stderr",
     "output_type": "stream",
     "text": [
      "  7%|▋         | 50/760 [01:11<23:38,  2.00s/it]"
     ]
    },
    {
     "name": "stdout",
     "output_type": "stream",
     "text": [
      "num_in=1024, num_out=64, batch_size=1\n"
     ]
    },
    {
     "name": "stderr",
     "output_type": "stream",
     "text": [
      "  7%|▋         | 51/760 [01:12<19:24,  1.64s/it]"
     ]
    },
    {
     "name": "stdout",
     "output_type": "stream",
     "text": [
      "num_in=768, num_out=448, batch_size=1\n"
     ]
    },
    {
     "name": "stderr",
     "output_type": "stream",
     "text": [
      "  7%|▋         | 52/760 [01:16<27:37,  2.34s/it]"
     ]
    },
    {
     "name": "stdout",
     "output_type": "stream",
     "text": [
      "num_in=1024, num_out=384, batch_size=1\n"
     ]
    },
    {
     "name": "stderr",
     "output_type": "stream",
     "text": [
      "  7%|▋         | 53/760 [01:20<31:46,  2.70s/it]"
     ]
    },
    {
     "name": "stdout",
     "output_type": "stream",
     "text": [
      "num_in=1024, num_out=448, batch_size=1\n"
     ]
    },
    {
     "name": "stderr",
     "output_type": "stream",
     "text": [
      "  7%|▋         | 54/760 [01:24<36:49,  3.13s/it]"
     ]
    },
    {
     "name": "stdout",
     "output_type": "stream",
     "text": [
      "num_in=384, num_out=64, batch_size=1\n"
     ]
    },
    {
     "name": "stderr",
     "output_type": "stream",
     "text": [
      "  7%|▋         | 55/760 [01:25<28:17,  2.41s/it]"
     ]
    },
    {
     "name": "stdout",
     "output_type": "stream",
     "text": [
      "num_in=128, num_out=64, batch_size=4\n",
      "num_in=640, num_out=512, batch_size=1\n"
     ]
    },
    {
     "name": "stderr",
     "output_type": "stream",
     "text": [
      "  8%|▊         | 59/760 [01:30<17:20,  1.48s/it]"
     ]
    },
    {
     "name": "stdout",
     "output_type": "stream",
     "text": [
      "num_in=256, num_out=192, batch_size=1\n",
      "num_in=128, num_out=384, batch_size=4\n",
      "num_in=256, num_out=384, batch_size=1\n",
      "num_in=768, num_out=64, batch_size=1\n"
     ]
    },
    {
     "name": "stderr",
     "output_type": "stream",
     "text": [
      "  8%|▊         | 61/760 [01:30<12:30,  1.07s/it]"
     ]
    },
    {
     "name": "stdout",
     "output_type": "stream",
     "text": [
      "num_in=1024, num_out=448, batch_size=1\n"
     ]
    },
    {
     "name": "stderr",
     "output_type": "stream",
     "text": [
      "  8%|▊         | 62/760 [01:34<19:55,  1.71s/it]"
     ]
    },
    {
     "name": "stdout",
     "output_type": "stream",
     "text": [
      "num_in=896, num_out=320, batch_size=1\n"
     ]
    },
    {
     "name": "stderr",
     "output_type": "stream",
     "text": [
      "  9%|▊         | 65/760 [01:38<14:29,  1.25s/it]"
     ]
    },
    {
     "name": "stdout",
     "output_type": "stream",
     "text": [
      "num_in=128, num_out=128, batch_size=4\n",
      "num_in=1024, num_out=64, batch_size=1\n",
      "num_in=512, num_out=512, batch_size=1\n"
     ]
    },
    {
     "name": "stderr",
     "output_type": "stream",
     "text": [
      "  9%|▊         | 66/760 [01:42<23:24,  2.02s/it]"
     ]
    },
    {
     "name": "stdout",
     "output_type": "stream",
     "text": [
      "num_in=384, num_out=448, batch_size=1\n"
     ]
    },
    {
     "name": "stderr",
     "output_type": "stream",
     "text": [
      "  9%|▉         | 67/760 [01:47<29:17,  2.54s/it]"
     ]
    },
    {
     "name": "stdout",
     "output_type": "stream",
     "text": [
      "num_in=128, num_out=320, batch_size=4\n",
      "num_in=384, num_out=320, batch_size=1\n"
     ]
    },
    {
     "name": "stderr",
     "output_type": "stream",
     "text": [
      "  9%|▉         | 69/760 [01:50<24:29,  2.13s/it]"
     ]
    },
    {
     "name": "stdout",
     "output_type": "stream",
     "text": [
      "num_in=768, num_out=512, batch_size=1\n"
     ]
    },
    {
     "name": "stderr",
     "output_type": "stream",
     "text": [
      "  9%|▉         | 70/760 [01:54<31:17,  2.72s/it]"
     ]
    },
    {
     "name": "stdout",
     "output_type": "stream",
     "text": [
      "num_in=128, num_out=192, batch_size=4\n",
      "num_in=384, num_out=448, batch_size=1\n"
     ]
    },
    {
     "name": "stderr",
     "output_type": "stream",
     "text": [
      "  9%|▉         | 72/760 [01:59<28:30,  2.49s/it]"
     ]
    },
    {
     "name": "stdout",
     "output_type": "stream",
     "text": [
      "num_in=384, num_out=192, batch_size=1\n"
     ]
    },
    {
     "name": "stderr",
     "output_type": "stream",
     "text": [
      " 10%|▉         | 73/760 [02:00<26:45,  2.34s/it]"
     ]
    },
    {
     "name": "stdout",
     "output_type": "stream",
     "text": [
      "num_in=768, num_out=512, batch_size=1\n"
     ]
    },
    {
     "name": "stderr",
     "output_type": "stream",
     "text": [
      " 10%|▉         | 74/760 [02:05<33:20,  2.92s/it]"
     ]
    },
    {
     "name": "stdout",
     "output_type": "stream",
     "text": [
      "num_in=512, num_out=512, batch_size=1\n"
     ]
    },
    {
     "name": "stderr",
     "output_type": "stream",
     "text": [
      " 10%|▉         | 75/760 [02:10<38:40,  3.39s/it]"
     ]
    },
    {
     "name": "stdout",
     "output_type": "stream",
     "text": [
      "num_in=256, num_out=256, batch_size=4\n",
      "num_in=896, num_out=512, batch_size=1\n"
     ]
    },
    {
     "name": "stderr",
     "output_type": "stream",
     "text": [
      " 10%|█         | 77/760 [02:15<34:03,  2.99s/it]"
     ]
    },
    {
     "name": "stdout",
     "output_type": "stream",
     "text": [
      "num_in=128, num_out=192, batch_size=1\n",
      "num_in=640, num_out=448, batch_size=1\n"
     ]
    },
    {
     "name": "stderr",
     "output_type": "stream",
     "text": [
      " 10%|█         | 79/760 [02:19<30:12,  2.66s/it]"
     ]
    },
    {
     "name": "stdout",
     "output_type": "stream",
     "text": [
      "num_in=128, num_out=320, batch_size=4\n",
      "num_in=512, num_out=384, batch_size=1\n"
     ]
    },
    {
     "name": "stderr",
     "output_type": "stream",
     "text": [
      " 11%|█         | 81/760 [02:23<26:49,  2.37s/it]"
     ]
    },
    {
     "name": "stdout",
     "output_type": "stream",
     "text": [
      "num_in=128, num_out=64, batch_size=4\n",
      "num_in=384, num_out=128, batch_size=1\n"
     ]
    },
    {
     "name": "stderr",
     "output_type": "stream",
     "text": [
      " 11%|█         | 83/760 [02:24<20:15,  1.80s/it]"
     ]
    },
    {
     "name": "stdout",
     "output_type": "stream",
     "text": [
      "num_in=128, num_out=256, batch_size=4\n",
      "num_in=896, num_out=512, batch_size=1\n"
     ]
    },
    {
     "name": "stderr",
     "output_type": "stream",
     "text": [
      " 11%|█         | 85/760 [02:29<22:29,  2.00s/it]"
     ]
    },
    {
     "name": "stdout",
     "output_type": "stream",
     "text": [
      "num_in=256, num_out=256, batch_size=4\n",
      "num_in=384, num_out=192, batch_size=1\n"
     ]
    },
    {
     "name": "stderr",
     "output_type": "stream",
     "text": [
      " 11%|█▏        | 87/760 [02:31<18:44,  1.67s/it]"
     ]
    },
    {
     "name": "stdout",
     "output_type": "stream",
     "text": [
      "num_in=1024, num_out=320, batch_size=1\n"
     ]
    },
    {
     "name": "stderr",
     "output_type": "stream",
     "text": [
      " 12%|█▏        | 88/760 [02:34<21:29,  1.92s/it]"
     ]
    },
    {
     "name": "stdout",
     "output_type": "stream",
     "text": [
      "num_in=640, num_out=256, batch_size=1\n"
     ]
    },
    {
     "name": "stderr",
     "output_type": "stream",
     "text": [
      " 12%|█▏        | 89/760 [02:36<22:38,  2.02s/it]"
     ]
    },
    {
     "name": "stdout",
     "output_type": "stream",
     "text": [
      "num_in=768, num_out=448, batch_size=1\n"
     ]
    },
    {
     "name": "stderr",
     "output_type": "stream",
     "text": [
      " 12%|█▏        | 90/760 [02:41<28:10,  2.52s/it]"
     ]
    },
    {
     "name": "stdout",
     "output_type": "stream",
     "text": [
      "num_in=128, num_out=320, batch_size=1\n",
      "num_in=384, num_out=256, batch_size=1\n"
     ]
    },
    {
     "name": "stderr",
     "output_type": "stream",
     "text": [
      " 12%|█▏        | 92/760 [02:43<22:21,  2.01s/it]"
     ]
    },
    {
     "name": "stdout",
     "output_type": "stream",
     "text": [
      "num_in=896, num_out=320, batch_size=1\n"
     ]
    },
    {
     "name": "stderr",
     "output_type": "stream",
     "text": [
      " 12%|█▏        | 93/760 [02:45<23:30,  2.12s/it]"
     ]
    },
    {
     "name": "stdout",
     "output_type": "stream",
     "text": [
      "num_in=1024, num_out=192, batch_size=1\n"
     ]
    },
    {
     "name": "stderr",
     "output_type": "stream",
     "text": [
      " 12%|█▏        | 94/760 [02:47<22:46,  2.05s/it]"
     ]
    },
    {
     "name": "stdout",
     "output_type": "stream",
     "text": [
      "num_in=128, num_out=64, batch_size=1\n",
      "num_in=640, num_out=192, batch_size=1\n"
     ]
    },
    {
     "name": "stderr",
     "output_type": "stream",
     "text": [
      " 13%|█▎        | 96/760 [02:49<17:41,  1.60s/it]"
     ]
    },
    {
     "name": "stdout",
     "output_type": "stream",
     "text": [
      "num_in=512, num_out=320, batch_size=1\n"
     ]
    },
    {
     "name": "stderr",
     "output_type": "stream",
     "text": [
      " 13%|█▎        | 97/760 [02:52<21:09,  1.92s/it]"
     ]
    },
    {
     "name": "stdout",
     "output_type": "stream",
     "text": [
      "num_in=896, num_out=448, batch_size=1\n"
     ]
    },
    {
     "name": "stderr",
     "output_type": "stream",
     "text": [
      " 13%|█▎        | 98/760 [02:56<27:15,  2.47s/it]"
     ]
    },
    {
     "name": "stdout",
     "output_type": "stream",
     "text": [
      "num_in=384, num_out=128, batch_size=1\n"
     ]
    },
    {
     "name": "stderr",
     "output_type": "stream",
     "text": [
      " 13%|█▎        | 99/760 [02:58<23:41,  2.15s/it]"
     ]
    },
    {
     "name": "stdout",
     "output_type": "stream",
     "text": [
      "num_in=896, num_out=128, batch_size=1\n"
     ]
    },
    {
     "name": "stderr",
     "output_type": "stream",
     "text": [
      " 13%|█▎        | 102/760 [02:59<12:06,  1.10s/it]"
     ]
    },
    {
     "name": "stdout",
     "output_type": "stream",
     "text": [
      "num_in=128, num_out=384, batch_size=1\n",
      "num_in=256, num_out=192, batch_size=4\n",
      "num_in=128, num_out=512, batch_size=1\n",
      "num_in=768, num_out=384, batch_size=1\n"
     ]
    },
    {
     "name": "stderr",
     "output_type": "stream",
     "text": [
      " 14%|█▎        | 104/760 [03:03<15:05,  1.38s/it]"
     ]
    },
    {
     "name": "stdout",
     "output_type": "stream",
     "text": [
      "num_in=384, num_out=128, batch_size=4\n"
     ]
    },
    {
     "name": "stderr",
     "output_type": "stream",
     "text": [
      " 14%|█▍        | 105/760 [03:04<15:04,  1.38s/it]"
     ]
    },
    {
     "name": "stdout",
     "output_type": "stream",
     "text": [
      "num_in=384, num_out=384, batch_size=1\n"
     ]
    },
    {
     "name": "stderr",
     "output_type": "stream",
     "text": [
      " 14%|█▍        | 106/760 [03:08<20:45,  1.90s/it]"
     ]
    },
    {
     "name": "stdout",
     "output_type": "stream",
     "text": [
      "num_in=640, num_out=320, batch_size=1\n"
     ]
    },
    {
     "name": "stderr",
     "output_type": "stream",
     "text": [
      " 14%|█▍        | 107/760 [03:11<23:44,  2.18s/it]"
     ]
    },
    {
     "name": "stdout",
     "output_type": "stream",
     "text": [
      "num_in=1024, num_out=320, batch_size=1\n",
      "num_in=896, num_out=512, batch_size=1\n"
     ]
    },
    {
     "name": "stderr",
     "output_type": "stream",
     "text": [
      " 14%|█▍        | 109/760 [03:16<24:55,  2.30s/it]"
     ]
    },
    {
     "name": "stdout",
     "output_type": "stream",
     "text": [
      "num_in=384, num_out=320, batch_size=1\n"
     ]
    },
    {
     "name": "stderr",
     "output_type": "stream",
     "text": [
      " 14%|█▍        | 110/760 [03:19<26:39,  2.46s/it]"
     ]
    },
    {
     "name": "stdout",
     "output_type": "stream",
     "text": [
      "num_in=640, num_out=384, batch_size=1\n"
     ]
    },
    {
     "name": "stderr",
     "output_type": "stream",
     "text": [
      " 15%|█▍        | 111/760 [03:22<29:39,  2.74s/it]"
     ]
    },
    {
     "name": "stdout",
     "output_type": "stream",
     "text": [
      "num_in=128, num_out=256, batch_size=1\n",
      "num_in=768, num_out=128, batch_size=1\n"
     ]
    },
    {
     "name": "stderr",
     "output_type": "stream",
     "text": [
      " 15%|█▍        | 113/760 [03:23<20:11,  1.87s/it]"
     ]
    },
    {
     "name": "stdout",
     "output_type": "stream",
     "text": [
      "num_in=256, num_out=64, batch_size=4\n",
      "num_in=384, num_out=512, batch_size=1\n"
     ]
    },
    {
     "name": "stderr",
     "output_type": "stream",
     "text": [
      " 15%|█▌        | 115/760 [03:28<22:24,  2.08s/it]"
     ]
    },
    {
     "name": "stdout",
     "output_type": "stream",
     "text": [
      "num_in=1024, num_out=128, batch_size=1\n",
      "num_in=384, num_out=128, batch_size=4\n"
     ]
    },
    {
     "name": "stderr",
     "output_type": "stream",
     "text": [
      " 15%|█▌        | 117/760 [03:30<17:19,  1.62s/it]"
     ]
    },
    {
     "name": "stdout",
     "output_type": "stream",
     "text": [
      "num_in=640, num_out=128, batch_size=1\n"
     ]
    },
    {
     "name": "stderr",
     "output_type": "stream",
     "text": [
      " 16%|█▌        | 118/760 [03:31<16:32,  1.55s/it]"
     ]
    },
    {
     "name": "stdout",
     "output_type": "stream",
     "text": [
      "num_in=256, num_out=128, batch_size=1\n",
      "num_in=384, num_out=384, batch_size=1\n"
     ]
    },
    {
     "name": "stderr",
     "output_type": "stream",
     "text": [
      " 16%|█▌        | 120/760 [03:35<17:33,  1.65s/it]"
     ]
    },
    {
     "name": "stdout",
     "output_type": "stream",
     "text": [
      "num_in=640, num_out=320, batch_size=1\n"
     ]
    },
    {
     "name": "stderr",
     "output_type": "stream",
     "text": [
      " 16%|█▌        | 121/760 [03:38<20:31,  1.93s/it]"
     ]
    },
    {
     "name": "stdout",
     "output_type": "stream",
     "text": [
      "num_in=128, num_out=192, batch_size=4\n",
      "num_in=384, num_out=320, batch_size=1\n"
     ]
    },
    {
     "name": "stderr",
     "output_type": "stream",
     "text": [
      " 16%|█▌        | 123/760 [03:41<18:56,  1.78s/it]"
     ]
    },
    {
     "name": "stdout",
     "output_type": "stream",
     "text": [
      "num_in=512, num_out=256, batch_size=1\n"
     ]
    },
    {
     "name": "stderr",
     "output_type": "stream",
     "text": [
      " 16%|█▋        | 124/760 [03:43<20:18,  1.92s/it]"
     ]
    },
    {
     "name": "stdout",
     "output_type": "stream",
     "text": [
      "num_in=640, num_out=512, batch_size=1\n"
     ]
    },
    {
     "name": "stderr",
     "output_type": "stream",
     "text": [
      " 16%|█▋        | 125/760 [03:48<27:17,  2.58s/it]"
     ]
    },
    {
     "name": "stdout",
     "output_type": "stream",
     "text": [
      "num_in=768, num_out=128, batch_size=1\n"
     ]
    },
    {
     "name": "stderr",
     "output_type": "stream",
     "text": [
      " 17%|█▋        | 126/760 [03:49<23:45,  2.25s/it]"
     ]
    },
    {
     "name": "stdout",
     "output_type": "stream",
     "text": [
      "num_in=128, num_out=320, batch_size=4\n",
      "num_in=384, num_out=128, batch_size=4\n"
     ]
    },
    {
     "name": "stderr",
     "output_type": "stream",
     "text": [
      " 17%|█▋        | 128/760 [03:51<17:02,  1.62s/it]"
     ]
    },
    {
     "name": "stdout",
     "output_type": "stream",
     "text": [
      "num_in=640, num_out=384, batch_size=1\n"
     ]
    },
    {
     "name": "stderr",
     "output_type": "stream",
     "text": [
      " 17%|█▋        | 129/760 [03:54<21:52,  2.08s/it]"
     ]
    },
    {
     "name": "stdout",
     "output_type": "stream",
     "text": [
      "num_in=256, num_out=64, batch_size=1\n",
      "num_in=384, num_out=64, batch_size=1\n"
     ]
    },
    {
     "name": "stderr",
     "output_type": "stream",
     "text": [
      " 18%|█▊        | 133/760 [03:55<09:34,  1.09it/s]"
     ]
    },
    {
     "name": "stdout",
     "output_type": "stream",
     "text": [
      "num_in=128, num_out=128, batch_size=4\n",
      "num_in=256, num_out=64, batch_size=4\n",
      "num_in=1024, num_out=512, batch_size=1\n"
     ]
    },
    {
     "name": "stderr",
     "output_type": "stream",
     "text": [
      " 18%|█▊        | 134/760 [04:00<17:56,  1.72s/it]"
     ]
    },
    {
     "name": "stdout",
     "output_type": "stream",
     "text": [
      "num_in=640, num_out=192, batch_size=1\n"
     ]
    },
    {
     "name": "stderr",
     "output_type": "stream",
     "text": [
      " 18%|█▊        | 135/760 [04:02<18:13,  1.75s/it]"
     ]
    },
    {
     "name": "stdout",
     "output_type": "stream",
     "text": [
      "num_in=128, num_out=384, batch_size=4\n",
      "num_in=768, num_out=384, batch_size=1\n"
     ]
    },
    {
     "name": "stderr",
     "output_type": "stream",
     "text": [
      " 18%|█▊        | 137/760 [04:06<18:32,  1.79s/it]"
     ]
    },
    {
     "name": "stdout",
     "output_type": "stream",
     "text": [
      "num_in=128, num_out=448, batch_size=1\n",
      "num_in=896, num_out=320, batch_size=1\n"
     ]
    },
    {
     "name": "stderr",
     "output_type": "stream",
     "text": [
      " 19%|█▊        | 141/760 [04:09<11:51,  1.15s/it]"
     ]
    },
    {
     "name": "stdout",
     "output_type": "stream",
     "text": [
      "num_in=1024, num_out=384, batch_size=1\n",
      "num_in=128, num_out=192, batch_size=4\n",
      "num_in=512, num_out=320, batch_size=1\n"
     ]
    },
    {
     "name": "stderr",
     "output_type": "stream",
     "text": [
      " 19%|█▊        | 142/760 [04:12<15:35,  1.51s/it]"
     ]
    },
    {
     "name": "stdout",
     "output_type": "stream",
     "text": [
      "num_in=896, num_out=256, batch_size=1\n"
     ]
    },
    {
     "name": "stderr",
     "output_type": "stream",
     "text": [
      " 19%|█▉        | 143/760 [04:14<17:38,  1.71s/it]"
     ]
    },
    {
     "name": "stdout",
     "output_type": "stream",
     "text": [
      "num_in=896, num_out=448, batch_size=1\n"
     ]
    },
    {
     "name": "stderr",
     "output_type": "stream",
     "text": [
      " 19%|█▉        | 144/760 [04:18<23:44,  2.31s/it]"
     ]
    },
    {
     "name": "stdout",
     "output_type": "stream",
     "text": [
      "num_in=896, num_out=384, batch_size=1\n"
     ]
    },
    {
     "name": "stderr",
     "output_type": "stream",
     "text": [
      " 19%|█▉        | 145/760 [04:22<27:08,  2.65s/it]"
     ]
    },
    {
     "name": "stdout",
     "output_type": "stream",
     "text": [
      "num_in=896, num_out=64, batch_size=1\n"
     ]
    },
    {
     "name": "stderr",
     "output_type": "stream",
     "text": [
      " 19%|█▉        | 146/760 [04:23<21:42,  2.12s/it]"
     ]
    },
    {
     "name": "stdout",
     "output_type": "stream",
     "text": [
      "num_in=512, num_out=320, batch_size=1\n"
     ]
    },
    {
     "name": "stderr",
     "output_type": "stream",
     "text": [
      " 19%|█▉        | 147/760 [04:26<24:11,  2.37s/it]"
     ]
    },
    {
     "name": "stdout",
     "output_type": "stream",
     "text": [
      "num_in=256, num_out=256, batch_size=4\n",
      "num_in=896, num_out=512, batch_size=1\n"
     ]
    },
    {
     "name": "stderr",
     "output_type": "stream",
     "text": [
      " 20%|█▉        | 151/760 [04:29<12:05,  1.19s/it]"
     ]
    },
    {
     "name": "stdout",
     "output_type": "stream",
     "text": [
      "num_in=128, num_out=384, batch_size=1\n",
      "num_in=256, num_out=64, batch_size=4\n",
      "num_in=128, num_out=512, batch_size=1\n",
      "num_in=768, num_out=512, batch_size=1\n"
     ]
    },
    {
     "name": "stderr",
     "output_type": "stream",
     "text": [
      " 20%|██        | 153/760 [04:33<16:31,  1.63s/it]"
     ]
    },
    {
     "name": "stdout",
     "output_type": "stream",
     "text": [
      "num_in=128, num_out=384, batch_size=1\n",
      "num_in=768, num_out=384, batch_size=1\n"
     ]
    },
    {
     "name": "stderr",
     "output_type": "stream",
     "text": [
      " 20%|██        | 155/760 [04:37<17:08,  1.70s/it]"
     ]
    },
    {
     "name": "stdout",
     "output_type": "stream",
     "text": [
      "num_in=128, num_out=256, batch_size=1\n",
      "num_in=256, num_out=128, batch_size=1\n",
      "num_in=512, num_out=256, batch_size=1\n"
     ]
    },
    {
     "name": "stderr",
     "output_type": "stream",
     "text": [
      " 21%|██        | 160/760 [04:40<09:42,  1.03it/s]"
     ]
    },
    {
     "name": "stdout",
     "output_type": "stream",
     "text": [
      "num_in=256, num_out=512, batch_size=1\n",
      "num_in=128, num_out=384, batch_size=4\n",
      "num_in=384, num_out=384, batch_size=1\n"
     ]
    },
    {
     "name": "stderr",
     "output_type": "stream",
     "text": [
      " 21%|██        | 161/760 [04:43<14:09,  1.42s/it]"
     ]
    },
    {
     "name": "stdout",
     "output_type": "stream",
     "text": [
      "num_in=1024, num_out=64, batch_size=1\n",
      "num_in=384, num_out=64, batch_size=1\n"
     ]
    },
    {
     "name": "stderr",
     "output_type": "stream",
     "text": [
      " 21%|██▏       | 163/760 [04:44<10:40,  1.07s/it]"
     ]
    },
    {
     "name": "stdout",
     "output_type": "stream",
     "text": [
      "num_in=128, num_out=64, batch_size=4\n",
      "num_in=1024, num_out=384, batch_size=1\n"
     ]
    },
    {
     "name": "stderr",
     "output_type": "stream",
     "text": [
      " 22%|██▏       | 165/760 [04:48<13:04,  1.32s/it]"
     ]
    },
    {
     "name": "stdout",
     "output_type": "stream",
     "text": [
      "num_in=256, num_out=384, batch_size=1\n",
      "num_in=1024, num_out=384, batch_size=1\n"
     ]
    },
    {
     "name": "stderr",
     "output_type": "stream",
     "text": [
      " 22%|██▏       | 167/760 [04:51<14:39,  1.48s/it]"
     ]
    },
    {
     "name": "stdout",
     "output_type": "stream",
     "text": [
      "num_in=1024, num_out=384, batch_size=1\n"
     ]
    },
    {
     "name": "stderr",
     "output_type": "stream",
     "text": [
      " 22%|██▏       | 168/760 [04:55<18:31,  1.88s/it]"
     ]
    },
    {
     "name": "stdout",
     "output_type": "stream",
     "text": [
      "num_in=128, num_out=256, batch_size=4\n",
      "num_in=640, num_out=128, batch_size=1\n"
     ]
    },
    {
     "name": "stderr",
     "output_type": "stream",
     "text": [
      " 22%|██▏       | 170/760 [04:56<14:21,  1.46s/it]"
     ]
    },
    {
     "name": "stdout",
     "output_type": "stream",
     "text": [
      "num_in=1024, num_out=128, batch_size=1\n"
     ]
    },
    {
     "name": "stderr",
     "output_type": "stream",
     "text": [
      " 22%|██▎       | 171/760 [04:58<13:56,  1.42s/it]"
     ]
    },
    {
     "name": "stdout",
     "output_type": "stream",
     "text": [
      "num_in=512, num_out=64, batch_size=1\n"
     ]
    },
    {
     "name": "stderr",
     "output_type": "stream",
     "text": [
      " 23%|██▎       | 172/760 [04:58<12:16,  1.25s/it]"
     ]
    },
    {
     "name": "stdout",
     "output_type": "stream",
     "text": [
      "num_in=384, num_out=448, batch_size=1\n"
     ]
    },
    {
     "name": "stderr",
     "output_type": "stream",
     "text": [
      " 23%|██▎       | 173/760 [05:02<19:08,  1.96s/it]"
     ]
    },
    {
     "name": "stdout",
     "output_type": "stream",
     "text": [
      "num_in=896, num_out=128, batch_size=1\n"
     ]
    },
    {
     "name": "stderr",
     "output_type": "stream",
     "text": [
      " 23%|██▎       | 174/760 [05:04<17:20,  1.78s/it]"
     ]
    },
    {
     "name": "stdout",
     "output_type": "stream",
     "text": [
      "num_in=384, num_out=256, batch_size=1\n"
     ]
    },
    {
     "name": "stderr",
     "output_type": "stream",
     "text": [
      " 23%|██▎       | 175/760 [05:06<19:00,  1.95s/it]"
     ]
    },
    {
     "name": "stdout",
     "output_type": "stream",
     "text": [
      "num_in=256, num_out=384, batch_size=1\n",
      "num_in=512, num_out=64, batch_size=1\n"
     ]
    },
    {
     "name": "stderr",
     "output_type": "stream",
     "text": [
      " 23%|██▎       | 177/760 [05:07<12:10,  1.25s/it]"
     ]
    },
    {
     "name": "stdout",
     "output_type": "stream",
     "text": [
      "num_in=640, num_out=256, batch_size=1\n"
     ]
    },
    {
     "name": "stderr",
     "output_type": "stream",
     "text": [
      " 23%|██▎       | 178/760 [05:09<14:49,  1.53s/it]"
     ]
    },
    {
     "name": "stdout",
     "output_type": "stream",
     "text": [
      "num_in=512, num_out=192, batch_size=1\n"
     ]
    },
    {
     "name": "stderr",
     "output_type": "stream",
     "text": [
      " 24%|██▍       | 181/760 [05:11<09:16,  1.04it/s]"
     ]
    },
    {
     "name": "stdout",
     "output_type": "stream",
     "text": [
      "num_in=256, num_out=64, batch_size=4\n",
      "num_in=128, num_out=320, batch_size=1\n",
      "num_in=512, num_out=192, batch_size=1\n"
     ]
    },
    {
     "name": "stderr",
     "output_type": "stream",
     "text": [
      " 24%|██▍       | 182/760 [05:13<11:08,  1.16s/it]"
     ]
    },
    {
     "name": "stdout",
     "output_type": "stream",
     "text": [
      "num_in=128, num_out=192, batch_size=4\n",
      "num_in=384, num_out=448, batch_size=1\n"
     ]
    },
    {
     "name": "stderr",
     "output_type": "stream",
     "text": [
      " 24%|██▍       | 184/760 [05:17<14:48,  1.54s/it]"
     ]
    },
    {
     "name": "stdout",
     "output_type": "stream",
     "text": [
      "num_in=256, num_out=64, batch_size=1\n",
      "num_in=256, num_out=448, batch_size=1\n",
      "num_in=896, num_out=384, batch_size=1\n"
     ]
    },
    {
     "name": "stderr",
     "output_type": "stream",
     "text": [
      " 25%|██▍       | 189/760 [05:21<09:30,  1.00it/s]"
     ]
    },
    {
     "name": "stdout",
     "output_type": "stream",
     "text": [
      "num_in=1024, num_out=192, batch_size=1\n",
      "num_in=128, num_out=256, batch_size=1\n",
      "num_in=512, num_out=256, batch_size=1\n"
     ]
    },
    {
     "name": "stderr",
     "output_type": "stream",
     "text": [
      " 25%|██▌       | 190/760 [05:24<11:52,  1.25s/it]"
     ]
    },
    {
     "name": "stdout",
     "output_type": "stream",
     "text": [
      "num_in=384, num_out=128, batch_size=1\n"
     ]
    },
    {
     "name": "stderr",
     "output_type": "stream",
     "text": [
      " 25%|██▌       | 193/760 [05:25<07:44,  1.22it/s]"
     ]
    },
    {
     "name": "stdout",
     "output_type": "stream",
     "text": [
      "num_in=256, num_out=128, batch_size=4\n",
      "num_in=1024, num_out=320, batch_size=1\n",
      "num_in=512, num_out=128, batch_size=1\n"
     ]
    },
    {
     "name": "stderr",
     "output_type": "stream",
     "text": [
      " 26%|██▌       | 194/760 [05:26<08:34,  1.10it/s]"
     ]
    },
    {
     "name": "stdout",
     "output_type": "stream",
     "text": [
      "num_in=128, num_out=320, batch_size=4\n",
      "num_in=640, num_out=64, batch_size=1\n"
     ]
    },
    {
     "name": "stderr",
     "output_type": "stream",
     "text": [
      " 26%|██▌       | 196/760 [05:27<06:35,  1.43it/s]"
     ]
    },
    {
     "name": "stdout",
     "output_type": "stream",
     "text": [
      "num_in=128, num_out=192, batch_size=1\n",
      "num_in=768, num_out=320, batch_size=1\n"
     ]
    },
    {
     "name": "stderr",
     "output_type": "stream",
     "text": [
      " 26%|██▌       | 198/760 [05:30<09:15,  1.01it/s]"
     ]
    },
    {
     "name": "stdout",
     "output_type": "stream",
     "text": [
      "num_in=640, num_out=448, batch_size=1\n"
     ]
    },
    {
     "name": "stderr",
     "output_type": "stream",
     "text": [
      " 26%|██▋       | 201/760 [05:34<09:52,  1.06s/it]"
     ]
    },
    {
     "name": "stdout",
     "output_type": "stream",
     "text": [
      "num_in=256, num_out=192, batch_size=1\n",
      "num_in=128, num_out=320, batch_size=4\n",
      "num_in=896, num_out=192, batch_size=1\n"
     ]
    },
    {
     "name": "stderr",
     "output_type": "stream",
     "text": [
      " 27%|██▋       | 202/760 [05:36<11:20,  1.22s/it]"
     ]
    },
    {
     "name": "stdout",
     "output_type": "stream",
     "text": [
      "num_in=896, num_out=512, batch_size=1\n"
     ]
    },
    {
     "name": "stderr",
     "output_type": "stream",
     "text": [
      " 27%|██▋       | 203/760 [05:41<18:55,  2.04s/it]"
     ]
    },
    {
     "name": "stdout",
     "output_type": "stream",
     "text": [
      "num_in=512, num_out=512, batch_size=1\n"
     ]
    },
    {
     "name": "stderr",
     "output_type": "stream",
     "text": [
      " 27%|██▋       | 204/760 [05:46<25:11,  2.72s/it]"
     ]
    },
    {
     "name": "stdout",
     "output_type": "stream",
     "text": [
      "num_in=1024, num_out=448, batch_size=1\n"
     ]
    },
    {
     "name": "stderr",
     "output_type": "stream",
     "text": [
      " 27%|██▋       | 207/760 [05:50<16:40,  1.81s/it]"
     ]
    },
    {
     "name": "stdout",
     "output_type": "stream",
     "text": [
      "num_in=256, num_out=384, batch_size=1\n",
      "num_in=128, num_out=384, batch_size=1\n",
      "num_in=768, num_out=64, batch_size=1\n"
     ]
    },
    {
     "name": "stderr",
     "output_type": "stream",
     "text": [
      " 28%|██▊       | 210/760 [05:51<08:40,  1.06it/s]"
     ]
    },
    {
     "name": "stdout",
     "output_type": "stream",
     "text": [
      "num_in=128, num_out=256, batch_size=4\n",
      "num_in=256, num_out=512, batch_size=1\n",
      "num_in=640, num_out=384, batch_size=1\n"
     ]
    },
    {
     "name": "stderr",
     "output_type": "stream",
     "text": [
      " 28%|██▊       | 211/760 [05:54<14:03,  1.54s/it]"
     ]
    },
    {
     "name": "stdout",
     "output_type": "stream",
     "text": [
      "num_in=896, num_out=128, batch_size=1\n"
     ]
    },
    {
     "name": "stderr",
     "output_type": "stream",
     "text": [
      " 28%|██▊       | 212/760 [05:56<13:24,  1.47s/it]"
     ]
    },
    {
     "name": "stdout",
     "output_type": "stream",
     "text": [
      "num_in=128, num_out=320, batch_size=1\n",
      "num_in=384, num_out=512, batch_size=1\n"
     ]
    },
    {
     "name": "stderr",
     "output_type": "stream",
     "text": [
      " 28%|██▊       | 214/760 [06:01<16:52,  1.85s/it]"
     ]
    },
    {
     "name": "stdout",
     "output_type": "stream",
     "text": [
      "num_in=896, num_out=448, batch_size=1\n"
     ]
    },
    {
     "name": "stderr",
     "output_type": "stream",
     "text": [
      " 28%|██▊       | 215/760 [06:05<21:40,  2.39s/it]"
     ]
    },
    {
     "name": "stdout",
     "output_type": "stream",
     "text": [
      "num_in=256, num_out=256, batch_size=4\n",
      "num_in=384, num_out=64, batch_size=4\n"
     ]
    },
    {
     "name": "stderr",
     "output_type": "stream",
     "text": [
      " 29%|██▊       | 217/760 [06:06<14:37,  1.62s/it]"
     ]
    },
    {
     "name": "stdout",
     "output_type": "stream",
     "text": [
      "num_in=896, num_out=192, batch_size=1\n"
     ]
    },
    {
     "name": "stderr",
     "output_type": "stream",
     "text": [
      " 29%|██▊       | 218/760 [06:07<15:06,  1.67s/it]"
     ]
    },
    {
     "name": "stdout",
     "output_type": "stream",
     "text": [
      "num_in=256, num_out=128, batch_size=4\n",
      "num_in=640, num_out=448, batch_size=1\n"
     ]
    },
    {
     "name": "stderr",
     "output_type": "stream",
     "text": [
      " 29%|██▉       | 220/760 [06:12<16:43,  1.86s/it]"
     ]
    },
    {
     "name": "stdout",
     "output_type": "stream",
     "text": [
      "num_in=640, num_out=320, batch_size=1\n"
     ]
    },
    {
     "name": "stderr",
     "output_type": "stream",
     "text": [
      " 29%|██▉       | 221/760 [06:15<18:57,  2.11s/it]"
     ]
    },
    {
     "name": "stdout",
     "output_type": "stream",
     "text": [
      "num_in=1024, num_out=128, batch_size=1\n"
     ]
    },
    {
     "name": "stderr",
     "output_type": "stream",
     "text": [
      " 29%|██▉       | 222/760 [06:16<17:07,  1.91s/it]"
     ]
    },
    {
     "name": "stdout",
     "output_type": "stream",
     "text": [
      "num_in=896, num_out=64, batch_size=1\n"
     ]
    },
    {
     "name": "stderr",
     "output_type": "stream",
     "text": [
      " 29%|██▉       | 223/760 [06:17<14:17,  1.60s/it]"
     ]
    },
    {
     "name": "stdout",
     "output_type": "stream",
     "text": [
      "num_in=256, num_out=192, batch_size=1\n",
      "num_in=640, num_out=320, batch_size=1\n"
     ]
    },
    {
     "name": "stderr",
     "output_type": "stream",
     "text": [
      " 30%|██▉       | 225/760 [06:20<14:01,  1.57s/it]"
     ]
    },
    {
     "name": "stdout",
     "output_type": "stream",
     "text": [
      "num_in=256, num_out=256, batch_size=4\n",
      "num_in=384, num_out=128, batch_size=4\n"
     ]
    },
    {
     "name": "stderr",
     "output_type": "stream",
     "text": [
      " 30%|██▉       | 227/760 [06:21<11:12,  1.26s/it]"
     ]
    },
    {
     "name": "stdout",
     "output_type": "stream",
     "text": [
      "num_in=768, num_out=192, batch_size=1\n"
     ]
    },
    {
     "name": "stderr",
     "output_type": "stream",
     "text": [
      " 30%|███       | 228/760 [06:23<12:18,  1.39s/it]"
     ]
    },
    {
     "name": "stdout",
     "output_type": "stream",
     "text": [
      "num_in=128, num_out=256, batch_size=1\n",
      "num_in=384, num_out=64, batch_size=4\n"
     ]
    },
    {
     "name": "stderr",
     "output_type": "stream",
     "text": [
      " 30%|███       | 230/760 [06:24<08:56,  1.01s/it]"
     ]
    },
    {
     "name": "stdout",
     "output_type": "stream",
     "text": [
      "num_in=896, num_out=448, batch_size=1\n"
     ]
    },
    {
     "name": "stderr",
     "output_type": "stream",
     "text": [
      " 30%|███       | 231/760 [06:28<14:58,  1.70s/it]"
     ]
    },
    {
     "name": "stdout",
     "output_type": "stream",
     "text": [
      "num_in=768, num_out=512, batch_size=1\n"
     ]
    },
    {
     "name": "stderr",
     "output_type": "stream",
     "text": [
      " 31%|███       | 232/760 [06:33<21:20,  2.42s/it]"
     ]
    },
    {
     "name": "stdout",
     "output_type": "stream",
     "text": [
      "num_in=896, num_out=64, batch_size=1\n"
     ]
    },
    {
     "name": "stderr",
     "output_type": "stream",
     "text": [
      " 31%|███       | 235/760 [06:34<10:22,  1.18s/it]"
     ]
    },
    {
     "name": "stdout",
     "output_type": "stream",
     "text": [
      "num_in=128, num_out=320, batch_size=4\n",
      "num_in=256, num_out=320, batch_size=1\n",
      "num_in=128, num_out=128, batch_size=1\n",
      "num_in=768, num_out=256, batch_size=1\n"
     ]
    },
    {
     "name": "stderr",
     "output_type": "stream",
     "text": [
      " 31%|███       | 237/760 [06:36<10:28,  1.20s/it]"
     ]
    },
    {
     "name": "stdout",
     "output_type": "stream",
     "text": [
      "num_in=896, num_out=64, batch_size=1\n"
     ]
    },
    {
     "name": "stderr",
     "output_type": "stream",
     "text": [
      " 31%|███▏      | 238/760 [06:37<09:28,  1.09s/it]"
     ]
    },
    {
     "name": "stdout",
     "output_type": "stream",
     "text": [
      "num_in=896, num_out=448, batch_size=1\n"
     ]
    },
    {
     "name": "stderr",
     "output_type": "stream",
     "text": [
      " 31%|███▏      | 239/760 [06:41<15:46,  1.82s/it]"
     ]
    },
    {
     "name": "stdout",
     "output_type": "stream",
     "text": [
      "num_in=896, num_out=256, batch_size=1\n"
     ]
    },
    {
     "name": "stderr",
     "output_type": "stream",
     "text": [
      " 32%|███▏      | 240/760 [06:44<17:07,  1.98s/it]"
     ]
    },
    {
     "name": "stdout",
     "output_type": "stream",
     "text": [
      "num_in=128, num_out=192, batch_size=1\n",
      "num_in=640, num_out=64, batch_size=1\n"
     ]
    },
    {
     "name": "stderr",
     "output_type": "stream",
     "text": [
      " 32%|███▏      | 244/760 [06:44<07:14,  1.19it/s]"
     ]
    },
    {
     "name": "stdout",
     "output_type": "stream",
     "text": [
      "num_in=1024, num_out=512, batch_size=1\n",
      "num_in=128, num_out=448, batch_size=1\n",
      "num_in=128, num_out=192, batch_size=4\n",
      "num_in=128, num_out=128, batch_size=4\n"
     ]
    },
    {
     "name": "stderr",
     "output_type": "stream",
     "text": [
      " 32%|███▏      | 246/760 [06:45<04:52,  1.75it/s]"
     ]
    },
    {
     "name": "stdout",
     "output_type": "stream",
     "text": [
      "num_in=640, num_out=256, batch_size=1\n"
     ]
    },
    {
     "name": "stderr",
     "output_type": "stream",
     "text": [
      " 32%|███▎      | 247/760 [06:47<08:02,  1.06it/s]"
     ]
    },
    {
     "name": "stdout",
     "output_type": "stream",
     "text": [
      "num_in=256, num_out=320, batch_size=1\n",
      "num_in=640, num_out=384, batch_size=1\n"
     ]
    },
    {
     "name": "stderr",
     "output_type": "stream",
     "text": [
      " 33%|███▎      | 251/760 [06:51<07:17,  1.16it/s]"
     ]
    },
    {
     "name": "stdout",
     "output_type": "stream",
     "text": [
      "num_in=128, num_out=64, batch_size=4\n",
      "num_in=256, num_out=64, batch_size=4\n",
      "num_in=384, num_out=512, batch_size=1\n"
     ]
    },
    {
     "name": "stderr",
     "output_type": "stream",
     "text": [
      " 33%|███▎      | 252/760 [06:56<13:50,  1.63s/it]"
     ]
    },
    {
     "name": "stdout",
     "output_type": "stream",
     "text": [
      "num_in=768, num_out=192, batch_size=1\n"
     ]
    },
    {
     "name": "stderr",
     "output_type": "stream",
     "text": [
      " 33%|███▎      | 253/760 [06:57<14:11,  1.68s/it]"
     ]
    },
    {
     "name": "stdout",
     "output_type": "stream",
     "text": [
      "num_in=768, num_out=384, batch_size=1\n"
     ]
    },
    {
     "name": "stderr",
     "output_type": "stream",
     "text": [
      " 33%|███▎      | 254/760 [07:01<18:05,  2.15s/it]"
     ]
    },
    {
     "name": "stdout",
     "output_type": "stream",
     "text": [
      "num_in=768, num_out=384, batch_size=1\n"
     ]
    },
    {
     "name": "stderr",
     "output_type": "stream",
     "text": [
      " 34%|███▎      | 255/760 [07:05<21:14,  2.52s/it]"
     ]
    },
    {
     "name": "stdout",
     "output_type": "stream",
     "text": [
      "num_in=640, num_out=64, batch_size=1\n"
     ]
    },
    {
     "name": "stderr",
     "output_type": "stream",
     "text": [
      " 34%|███▍      | 258/760 [07:06<09:53,  1.18s/it]"
     ]
    },
    {
     "name": "stdout",
     "output_type": "stream",
     "text": [
      "num_in=1024, num_out=64, batch_size=1\n",
      "num_in=128, num_out=512, batch_size=1\n",
      "num_in=512, num_out=128, batch_size=1\n"
     ]
    },
    {
     "name": "stderr",
     "output_type": "stream",
     "text": [
      " 34%|███▍      | 261/760 [07:07<06:06,  1.36it/s]"
     ]
    },
    {
     "name": "stdout",
     "output_type": "stream",
     "text": [
      "num_in=128, num_out=384, batch_size=4\n",
      "num_in=128, num_out=256, batch_size=1\n",
      "num_in=768, num_out=128, batch_size=1\n"
     ]
    },
    {
     "name": "stderr",
     "output_type": "stream",
     "text": [
      " 35%|███▍      | 264/760 [07:08<04:30,  1.83it/s]"
     ]
    },
    {
     "name": "stdout",
     "output_type": "stream",
     "text": [
      "num_in=256, num_out=256, batch_size=4\n",
      "num_in=128, num_out=320, batch_size=1\n",
      "num_in=256, num_out=64, batch_size=4\n",
      "num_in=896, num_out=320, batch_size=1\n"
     ]
    },
    {
     "name": "stderr",
     "output_type": "stream",
     "text": [
      " 35%|███▌      | 268/760 [07:12<05:10,  1.59it/s]"
     ]
    },
    {
     "name": "stdout",
     "output_type": "stream",
     "text": [
      "num_in=1024, num_out=320, batch_size=1\n",
      "num_in=128, num_out=64, batch_size=4\n",
      "num_in=896, num_out=448, batch_size=1\n"
     ]
    },
    {
     "name": "stderr",
     "output_type": "stream",
     "text": [
      " 35%|███▌      | 269/760 [07:16<10:53,  1.33s/it]"
     ]
    },
    {
     "name": "stdout",
     "output_type": "stream",
     "text": [
      "num_in=1024, num_out=128, batch_size=1\n",
      "num_in=384, num_out=320, batch_size=1\n"
     ]
    },
    {
     "name": "stderr",
     "output_type": "stream",
     "text": [
      " 36%|███▌      | 271/760 [07:19<11:30,  1.41s/it]"
     ]
    },
    {
     "name": "stdout",
     "output_type": "stream",
     "text": [
      "num_in=640, num_out=192, batch_size=1\n"
     ]
    },
    {
     "name": "stderr",
     "output_type": "stream",
     "text": [
      " 36%|███▌      | 272/760 [07:21<12:11,  1.50s/it]"
     ]
    },
    {
     "name": "stdout",
     "output_type": "stream",
     "text": [
      "num_in=384, num_out=512, batch_size=1\n"
     ]
    },
    {
     "name": "stderr",
     "output_type": "stream",
     "text": [
      " 36%|███▌      | 273/760 [07:26<18:12,  2.24s/it]"
     ]
    },
    {
     "name": "stdout",
     "output_type": "stream",
     "text": [
      "num_in=896, num_out=128, batch_size=1\n"
     ]
    },
    {
     "name": "stderr",
     "output_type": "stream",
     "text": [
      " 36%|███▌      | 274/760 [07:27<16:12,  2.00s/it]"
     ]
    },
    {
     "name": "stdout",
     "output_type": "stream",
     "text": [
      "num_in=768, num_out=256, batch_size=1\n"
     ]
    },
    {
     "name": "stderr",
     "output_type": "stream",
     "text": [
      " 36%|███▌      | 275/760 [07:29<17:06,  2.12s/it]"
     ]
    },
    {
     "name": "stdout",
     "output_type": "stream",
     "text": [
      "num_in=384, num_out=128, batch_size=1\n"
     ]
    },
    {
     "name": "stderr",
     "output_type": "stream",
     "text": [
      " 36%|███▋      | 276/760 [07:30<15:09,  1.88s/it]"
     ]
    },
    {
     "name": "stdout",
     "output_type": "stream",
     "text": [
      "num_in=256, num_out=256, batch_size=1\n",
      "num_in=640, num_out=128, batch_size=1\n"
     ]
    },
    {
     "name": "stderr",
     "output_type": "stream",
     "text": [
      " 37%|███▋      | 278/760 [07:32<10:45,  1.34s/it]"
     ]
    },
    {
     "name": "stdout",
     "output_type": "stream",
     "text": [
      "num_in=640, num_out=512, batch_size=1\n"
     ]
    },
    {
     "name": "stderr",
     "output_type": "stream",
     "text": [
      " 37%|███▋      | 279/760 [07:37<17:21,  2.16s/it]"
     ]
    },
    {
     "name": "stdout",
     "output_type": "stream",
     "text": [
      "num_in=768, num_out=384, batch_size=1\n"
     ]
    },
    {
     "name": "stderr",
     "output_type": "stream",
     "text": [
      " 37%|███▋      | 280/760 [07:40<20:17,  2.54s/it]"
     ]
    },
    {
     "name": "stdout",
     "output_type": "stream",
     "text": [
      "num_in=896, num_out=256, batch_size=1\n"
     ]
    },
    {
     "name": "stderr",
     "output_type": "stream",
     "text": [
      " 37%|███▋      | 281/760 [07:43<20:03,  2.51s/it]"
     ]
    },
    {
     "name": "stdout",
     "output_type": "stream",
     "text": [
      "num_in=1024, num_out=128, batch_size=1\n",
      "num_in=768, num_out=448, batch_size=1\n"
     ]
    },
    {
     "name": "stderr",
     "output_type": "stream",
     "text": [
      " 37%|███▋      | 283/760 [07:47<18:46,  2.36s/it]"
     ]
    },
    {
     "name": "stdout",
     "output_type": "stream",
     "text": [
      "num_in=512, num_out=512, batch_size=1\n"
     ]
    },
    {
     "name": "stderr",
     "output_type": "stream",
     "text": [
      " 37%|███▋      | 284/760 [07:52<23:19,  2.94s/it]"
     ]
    },
    {
     "name": "stdout",
     "output_type": "stream",
     "text": [
      "num_in=256, num_out=192, batch_size=4\n",
      "num_in=512, num_out=512, batch_size=1\n"
     ]
    },
    {
     "name": "stderr",
     "output_type": "stream",
     "text": [
      " 38%|███▊      | 286/760 [07:57<21:40,  2.74s/it]"
     ]
    },
    {
     "name": "stdout",
     "output_type": "stream",
     "text": [
      "num_in=128, num_out=128, batch_size=1\n",
      "num_in=640, num_out=320, batch_size=1\n"
     ]
    },
    {
     "name": "stderr",
     "output_type": "stream",
     "text": [
      " 38%|███▊      | 288/760 [08:00<18:05,  2.30s/it]"
     ]
    },
    {
     "name": "stdout",
     "output_type": "stream",
     "text": [
      "num_in=512, num_out=256, batch_size=1\n"
     ]
    },
    {
     "name": "stderr",
     "output_type": "stream",
     "text": [
      " 38%|███▊      | 289/760 [08:02<18:15,  2.33s/it]"
     ]
    },
    {
     "name": "stdout",
     "output_type": "stream",
     "text": [
      "num_in=384, num_out=64, batch_size=1\n"
     ]
    },
    {
     "name": "stderr",
     "output_type": "stream",
     "text": [
      " 38%|███▊      | 290/760 [08:03<15:11,  1.94s/it]"
     ]
    },
    {
     "name": "stdout",
     "output_type": "stream",
     "text": [
      "num_in=768, num_out=64, batch_size=1\n"
     ]
    },
    {
     "name": "stderr",
     "output_type": "stream",
     "text": [
      " 38%|███▊      | 291/760 [08:03<12:40,  1.62s/it]"
     ]
    },
    {
     "name": "stdout",
     "output_type": "stream",
     "text": [
      "num_in=1024, num_out=192, batch_size=1\n"
     ]
    },
    {
     "name": "stderr",
     "output_type": "stream",
     "text": [
      " 38%|███▊      | 292/760 [08:05<13:07,  1.68s/it]"
     ]
    },
    {
     "name": "stdout",
     "output_type": "stream",
     "text": [
      "num_in=896, num_out=384, batch_size=1\n"
     ]
    },
    {
     "name": "stderr",
     "output_type": "stream",
     "text": [
      " 39%|███▊      | 293/760 [08:09<17:14,  2.22s/it]"
     ]
    },
    {
     "name": "stdout",
     "output_type": "stream",
     "text": [
      "num_in=768, num_out=384, batch_size=1\n"
     ]
    },
    {
     "name": "stderr",
     "output_type": "stream",
     "text": [
      " 39%|███▉      | 296/760 [08:13<11:26,  1.48s/it]"
     ]
    },
    {
     "name": "stdout",
     "output_type": "stream",
     "text": [
      "num_in=256, num_out=384, batch_size=1\n",
      "num_in=128, num_out=256, batch_size=4\n",
      "num_in=512, num_out=384, batch_size=1\n"
     ]
    },
    {
     "name": "stderr",
     "output_type": "stream",
     "text": [
      " 39%|███▉      | 297/760 [08:16<15:22,  1.99s/it]"
     ]
    },
    {
     "name": "stdout",
     "output_type": "stream",
     "text": [
      "num_in=768, num_out=384, batch_size=1\n"
     ]
    },
    {
     "name": "stderr",
     "output_type": "stream",
     "text": [
      " 39%|███▉      | 298/760 [08:20<18:33,  2.41s/it]"
     ]
    },
    {
     "name": "stdout",
     "output_type": "stream",
     "text": [
      "num_in=1024, num_out=192, batch_size=1\n",
      "num_in=512, num_out=256, batch_size=1\n"
     ]
    },
    {
     "name": "stderr",
     "output_type": "stream",
     "text": [
      " 39%|███▉      | 300/760 [08:22<14:46,  1.93s/it]"
     ]
    },
    {
     "name": "stdout",
     "output_type": "stream",
     "text": [
      "num_in=512, num_out=128, batch_size=1\n"
     ]
    },
    {
     "name": "stderr",
     "output_type": "stream",
     "text": [
      " 40%|███▉      | 301/760 [08:24<13:30,  1.77s/it]"
     ]
    },
    {
     "name": "stdout",
     "output_type": "stream",
     "text": [
      "num_in=256, num_out=384, batch_size=1\n",
      "num_in=768, num_out=256, batch_size=1\n"
     ]
    },
    {
     "name": "stderr",
     "output_type": "stream",
     "text": [
      " 40%|███▉      | 303/760 [08:26<11:51,  1.56s/it]"
     ]
    },
    {
     "name": "stdout",
     "output_type": "stream",
     "text": [
      "num_in=768, num_out=512, batch_size=1\n"
     ]
    },
    {
     "name": "stderr",
     "output_type": "stream",
     "text": [
      " 40%|████      | 304/760 [08:31<17:19,  2.28s/it]"
     ]
    },
    {
     "name": "stdout",
     "output_type": "stream",
     "text": [
      "num_in=640, num_out=320, batch_size=1\n"
     ]
    },
    {
     "name": "stderr",
     "output_type": "stream",
     "text": [
      " 40%|████      | 305/760 [08:34<18:39,  2.46s/it]"
     ]
    },
    {
     "name": "stdout",
     "output_type": "stream",
     "text": [
      "num_in=256, num_out=64, batch_size=1\n",
      "num_in=1024, num_out=448, batch_size=1\n"
     ]
    },
    {
     "name": "stderr",
     "output_type": "stream",
     "text": [
      " 40%|████      | 307/760 [08:38<17:36,  2.33s/it]"
     ]
    },
    {
     "name": "stdout",
     "output_type": "stream",
     "text": [
      "num_in=256, num_out=64, batch_size=1\n",
      "num_in=896, num_out=384, batch_size=1\n"
     ]
    },
    {
     "name": "stderr",
     "output_type": "stream",
     "text": [
      " 41%|████      | 309/760 [08:42<16:11,  2.16s/it]"
     ]
    },
    {
     "name": "stdout",
     "output_type": "stream",
     "text": [
      "num_in=896, num_out=256, batch_size=1\n"
     ]
    },
    {
     "name": "stderr",
     "output_type": "stream",
     "text": [
      " 41%|████      | 310/760 [08:44<16:37,  2.22s/it]"
     ]
    },
    {
     "name": "stdout",
     "output_type": "stream",
     "text": [
      "num_in=1024, num_out=448, batch_size=1\n"
     ]
    },
    {
     "name": "stderr",
     "output_type": "stream",
     "text": [
      " 41%|████      | 311/760 [08:49<20:05,  2.68s/it]"
     ]
    },
    {
     "name": "stdout",
     "output_type": "stream",
     "text": [
      "num_in=384, num_out=128, batch_size=1\n"
     ]
    },
    {
     "name": "stderr",
     "output_type": "stream",
     "text": [
      " 41%|████▏     | 314/760 [08:50<10:23,  1.40s/it]"
     ]
    },
    {
     "name": "stdout",
     "output_type": "stream",
     "text": [
      "num_in=256, num_out=128, batch_size=4\n",
      "num_in=128, num_out=128, batch_size=4\n",
      "num_in=128, num_out=256, batch_size=4\n"
     ]
    },
    {
     "name": "stderr",
     "output_type": "stream",
     "text": [
      " 42%|████▏     | 316/760 [08:50<06:39,  1.11it/s]"
     ]
    },
    {
     "name": "stdout",
     "output_type": "stream",
     "text": [
      "num_in=128, num_out=64, batch_size=1\n",
      "num_in=384, num_out=448, batch_size=1\n"
     ]
    },
    {
     "name": "stderr",
     "output_type": "stream",
     "text": [
      " 42%|████▏     | 317/760 [08:54<11:44,  1.59s/it]"
     ]
    },
    {
     "name": "stdout",
     "output_type": "stream",
     "text": [
      "num_in=640, num_out=128, batch_size=1\n"
     ]
    },
    {
     "name": "stderr",
     "output_type": "stream",
     "text": [
      " 42%|████▏     | 318/760 [08:56<11:07,  1.51s/it]"
     ]
    },
    {
     "name": "stdout",
     "output_type": "stream",
     "text": [
      "num_in=128, num_out=256, batch_size=4\n",
      "num_in=384, num_out=192, batch_size=1\n"
     ]
    },
    {
     "name": "stderr",
     "output_type": "stream",
     "text": [
      " 42%|████▏     | 320/760 [08:58<09:25,  1.29s/it]"
     ]
    },
    {
     "name": "stdout",
     "output_type": "stream",
     "text": [
      "num_in=768, num_out=320, batch_size=1\n"
     ]
    },
    {
     "name": "stderr",
     "output_type": "stream",
     "text": [
      " 42%|████▏     | 321/760 [09:01<12:14,  1.67s/it]"
     ]
    },
    {
     "name": "stdout",
     "output_type": "stream",
     "text": [
      "num_in=128, num_out=320, batch_size=1\n",
      "num_in=384, num_out=512, batch_size=1\n"
     ]
    },
    {
     "name": "stderr",
     "output_type": "stream",
     "text": [
      " 42%|████▎     | 323/760 [09:05<14:18,  1.96s/it]"
     ]
    },
    {
     "name": "stdout",
     "output_type": "stream",
     "text": [
      "num_in=640, num_out=384, batch_size=1\n"
     ]
    },
    {
     "name": "stderr",
     "output_type": "stream",
     "text": [
      " 43%|████▎     | 324/760 [09:09<16:53,  2.32s/it]"
     ]
    },
    {
     "name": "stdout",
     "output_type": "stream",
     "text": [
      "num_in=512, num_out=64, batch_size=1\n"
     ]
    },
    {
     "name": "stderr",
     "output_type": "stream",
     "text": [
      " 43%|████▎     | 325/760 [09:10<13:58,  1.93s/it]"
     ]
    },
    {
     "name": "stdout",
     "output_type": "stream",
     "text": [
      "num_in=1024, num_out=320, batch_size=1\n",
      "num_in=640, num_out=64, batch_size=1\n"
     ]
    },
    {
     "name": "stderr",
     "output_type": "stream",
     "text": [
      " 43%|████▎     | 327/760 [09:10<09:23,  1.30s/it]"
     ]
    },
    {
     "name": "stdout",
     "output_type": "stream",
     "text": [
      "num_in=128, num_out=512, batch_size=1\n",
      "num_in=512, num_out=384, batch_size=1\n"
     ]
    },
    {
     "name": "stderr",
     "output_type": "stream",
     "text": [
      " 43%|████▎     | 329/760 [09:14<10:44,  1.49s/it]"
     ]
    },
    {
     "name": "stdout",
     "output_type": "stream",
     "text": [
      "num_in=384, num_out=320, batch_size=1\n"
     ]
    },
    {
     "name": "stderr",
     "output_type": "stream",
     "text": [
      " 43%|████▎     | 330/760 [09:17<12:58,  1.81s/it]"
     ]
    },
    {
     "name": "stdout",
     "output_type": "stream",
     "text": [
      "num_in=128, num_out=384, batch_size=1\n",
      "num_in=768, num_out=320, batch_size=1\n"
     ]
    },
    {
     "name": "stderr",
     "output_type": "stream",
     "text": [
      " 44%|████▍     | 334/760 [09:20<08:02,  1.13s/it]"
     ]
    },
    {
     "name": "stdout",
     "output_type": "stream",
     "text": [
      "num_in=256, num_out=128, batch_size=1\n",
      "num_in=256, num_out=384, batch_size=1\n",
      "num_in=896, num_out=256, batch_size=1\n"
     ]
    },
    {
     "name": "stderr",
     "output_type": "stream",
     "text": [
      " 44%|████▍     | 335/760 [09:23<09:51,  1.39s/it]"
     ]
    },
    {
     "name": "stdout",
     "output_type": "stream",
     "text": [
      "num_in=1024, num_out=384, batch_size=1\n"
     ]
    },
    {
     "name": "stderr",
     "output_type": "stream",
     "text": [
      " 44%|████▍     | 336/760 [09:26<13:21,  1.89s/it]"
     ]
    },
    {
     "name": "stdout",
     "output_type": "stream",
     "text": [
      "num_in=1024, num_out=256, batch_size=1\n",
      "num_in=384, num_out=192, batch_size=1\n"
     ]
    },
    {
     "name": "stderr",
     "output_type": "stream",
     "text": [
      " 44%|████▍     | 338/760 [09:28<10:46,  1.53s/it]"
     ]
    },
    {
     "name": "stdout",
     "output_type": "stream",
     "text": [
      "num_in=384, num_out=256, batch_size=1\n"
     ]
    },
    {
     "name": "stderr",
     "output_type": "stream",
     "text": [
      " 45%|████▍     | 339/760 [09:31<12:05,  1.72s/it]"
     ]
    },
    {
     "name": "stdout",
     "output_type": "stream",
     "text": [
      "num_in=128, num_out=256, batch_size=1\n",
      "num_in=512, num_out=64, batch_size=1\n"
     ]
    },
    {
     "name": "stderr",
     "output_type": "stream",
     "text": [
      " 45%|████▍     | 341/760 [09:31<08:19,  1.19s/it]"
     ]
    },
    {
     "name": "stdout",
     "output_type": "stream",
     "text": [
      "num_in=256, num_out=192, batch_size=1\n",
      "num_in=384, num_out=512, batch_size=1\n"
     ]
    },
    {
     "name": "stderr",
     "output_type": "stream",
     "text": [
      " 45%|████▌     | 343/760 [09:36<11:18,  1.63s/it]"
     ]
    },
    {
     "name": "stdout",
     "output_type": "stream",
     "text": [
      "num_in=256, num_out=384, batch_size=1\n",
      "num_in=512, num_out=320, batch_size=1\n"
     ]
    },
    {
     "name": "stderr",
     "output_type": "stream",
     "text": [
      " 45%|████▌     | 345/760 [09:39<11:02,  1.60s/it]"
     ]
    },
    {
     "name": "stdout",
     "output_type": "stream",
     "text": [
      "num_in=768, num_out=448, batch_size=1\n"
     ]
    },
    {
     "name": "stderr",
     "output_type": "stream",
     "text": [
      " 46%|████▌     | 346/760 [09:44<14:30,  2.10s/it]"
     ]
    },
    {
     "name": "stdout",
     "output_type": "stream",
     "text": [
      "num_in=384, num_out=320, batch_size=1\n"
     ]
    },
    {
     "name": "stderr",
     "output_type": "stream",
     "text": [
      " 46%|████▌     | 347/760 [09:47<15:51,  2.30s/it]"
     ]
    },
    {
     "name": "stdout",
     "output_type": "stream",
     "text": [
      "num_in=128, num_out=512, batch_size=1\n",
      "num_in=384, num_out=128, batch_size=4\n"
     ]
    },
    {
     "name": "stderr",
     "output_type": "stream",
     "text": [
      " 46%|████▌     | 349/760 [09:48<11:35,  1.69s/it]"
     ]
    },
    {
     "name": "stdout",
     "output_type": "stream",
     "text": [
      "num_in=896, num_out=448, batch_size=1\n"
     ]
    },
    {
     "name": "stderr",
     "output_type": "stream",
     "text": [
      " 46%|████▋     | 352/760 [09:52<09:39,  1.42s/it]"
     ]
    },
    {
     "name": "stdout",
     "output_type": "stream",
     "text": [
      "num_in=128, num_out=320, batch_size=4\n",
      "num_in=256, num_out=192, batch_size=4\n",
      "num_in=256, num_out=448, batch_size=1\n"
     ]
    },
    {
     "name": "stderr",
     "output_type": "stream",
     "text": [
      " 47%|████▋     | 354/760 [09:53<06:21,  1.07it/s]"
     ]
    },
    {
     "name": "stdout",
     "output_type": "stream",
     "text": [
      "num_in=128, num_out=448, batch_size=1\n",
      "num_in=512, num_out=192, batch_size=1\n"
     ]
    },
    {
     "name": "stderr",
     "output_type": "stream",
     "text": [
      " 47%|████▋     | 358/760 [09:54<04:09,  1.61it/s]"
     ]
    },
    {
     "name": "stdout",
     "output_type": "stream",
     "text": [
      "num_in=256, num_out=320, batch_size=1\n",
      "num_in=256, num_out=256, batch_size=1\n",
      "num_in=256, num_out=64, batch_size=1\n",
      "num_in=768, num_out=128, batch_size=1\n"
     ]
    },
    {
     "name": "stderr",
     "output_type": "stream",
     "text": [
      " 47%|████▋     | 360/760 [09:56<04:13,  1.58it/s]"
     ]
    },
    {
     "name": "stdout",
     "output_type": "stream",
     "text": [
      "num_in=1024, num_out=128, batch_size=1\n",
      "num_in=512, num_out=448, batch_size=1\n"
     ]
    },
    {
     "name": "stderr",
     "output_type": "stream",
     "text": [
      " 48%|████▊     | 361/760 [10:00<08:30,  1.28s/it]"
     ]
    },
    {
     "name": "stdout",
     "output_type": "stream",
     "text": [
      "num_in=1024, num_out=64, batch_size=1\n"
     ]
    },
    {
     "name": "stderr",
     "output_type": "stream",
     "text": [
      " 48%|████▊     | 364/760 [10:01<05:02,  1.31it/s]"
     ]
    },
    {
     "name": "stdout",
     "output_type": "stream",
     "text": [
      "num_in=1024, num_out=320, batch_size=1\n",
      "num_in=1024, num_out=256, batch_size=1\n",
      "num_in=640, num_out=64, batch_size=1\n"
     ]
    },
    {
     "name": "stderr",
     "output_type": "stream",
     "text": [
      " 48%|████▊     | 365/760 [10:02<04:53,  1.35it/s]"
     ]
    },
    {
     "name": "stdout",
     "output_type": "stream",
     "text": [
      "num_in=1024, num_out=384, batch_size=1\n",
      "num_in=512, num_out=384, batch_size=1\n"
     ]
    },
    {
     "name": "stderr",
     "output_type": "stream",
     "text": [
      " 48%|████▊     | 367/760 [10:05<07:35,  1.16s/it]"
     ]
    },
    {
     "name": "stdout",
     "output_type": "stream",
     "text": [
      "num_in=512, num_out=320, batch_size=1\n"
     ]
    },
    {
     "name": "stderr",
     "output_type": "stream",
     "text": [
      " 48%|████▊     | 368/760 [10:08<10:07,  1.55s/it]"
     ]
    },
    {
     "name": "stdout",
     "output_type": "stream",
     "text": [
      "num_in=128, num_out=320, batch_size=1\n",
      "num_in=384, num_out=448, batch_size=1\n"
     ]
    },
    {
     "name": "stderr",
     "output_type": "stream",
     "text": [
      " 49%|████▉     | 372/760 [10:13<07:32,  1.17s/it]"
     ]
    },
    {
     "name": "stdout",
     "output_type": "stream",
     "text": [
      "num_in=128, num_out=192, batch_size=4\n",
      "num_in=128, num_out=128, batch_size=1\n",
      "num_in=384, num_out=128, batch_size=4\n"
     ]
    },
    {
     "name": "stderr",
     "output_type": "stream",
     "text": [
      " 49%|████▉     | 373/760 [10:14<07:47,  1.21s/it]"
     ]
    },
    {
     "name": "stdout",
     "output_type": "stream",
     "text": [
      "num_in=896, num_out=320, batch_size=1\n"
     ]
    },
    {
     "name": "stderr",
     "output_type": "stream",
     "text": [
      " 49%|████▉     | 374/760 [10:17<10:24,  1.62s/it]"
     ]
    },
    {
     "name": "stdout",
     "output_type": "stream",
     "text": [
      "num_in=768, num_out=512, batch_size=1\n"
     ]
    },
    {
     "name": "stderr",
     "output_type": "stream",
     "text": [
      " 49%|████▉     | 375/760 [10:22<15:21,  2.39s/it]"
     ]
    },
    {
     "name": "stdout",
     "output_type": "stream",
     "text": [
      "num_in=1024, num_out=512, batch_size=1\n"
     ]
    },
    {
     "name": "stderr",
     "output_type": "stream",
     "text": [
      " 49%|████▉     | 376/760 [10:27<19:19,  3.02s/it]"
     ]
    },
    {
     "name": "stdout",
     "output_type": "stream",
     "text": [
      "num_in=640, num_out=256, batch_size=1\n"
     ]
    },
    {
     "name": "stderr",
     "output_type": "stream",
     "text": [
      " 50%|████▉     | 377/760 [10:29<18:17,  2.87s/it]"
     ]
    },
    {
     "name": "stdout",
     "output_type": "stream",
     "text": [
      "num_in=768, num_out=384, batch_size=1\n"
     ]
    },
    {
     "name": "stderr",
     "output_type": "stream",
     "text": [
      " 50%|████▉     | 378/760 [10:33<19:36,  3.08s/it]"
     ]
    },
    {
     "name": "stdout",
     "output_type": "stream",
     "text": [
      "num_in=512, num_out=384, batch_size=1\n"
     ]
    },
    {
     "name": "stderr",
     "output_type": "stream",
     "text": [
      " 50%|████▉     | 379/760 [10:36<20:32,  3.24s/it]"
     ]
    },
    {
     "name": "stdout",
     "output_type": "stream",
     "text": [
      "num_in=768, num_out=448, batch_size=1\n"
     ]
    },
    {
     "name": "stderr",
     "output_type": "stream",
     "text": [
      " 50%|█████     | 380/760 [10:41<22:19,  3.53s/it]"
     ]
    },
    {
     "name": "stdout",
     "output_type": "stream",
     "text": [
      "num_in=384, num_out=320, batch_size=1\n"
     ]
    },
    {
     "name": "stderr",
     "output_type": "stream",
     "text": [
      " 50%|█████     | 381/760 [10:44<21:20,  3.38s/it]"
     ]
    },
    {
     "name": "stdout",
     "output_type": "stream",
     "text": [
      "num_in=384, num_out=64, batch_size=1\n"
     ]
    },
    {
     "name": "stderr",
     "output_type": "stream",
     "text": [
      " 50%|█████     | 382/760 [10:44<16:11,  2.57s/it]"
     ]
    },
    {
     "name": "stdout",
     "output_type": "stream",
     "text": [
      "num_in=128, num_out=192, batch_size=1\n",
      "num_in=512, num_out=448, batch_size=1\n"
     ]
    },
    {
     "name": "stderr",
     "output_type": "stream",
     "text": [
      " 51%|█████     | 384/760 [10:49<14:49,  2.37s/it]"
     ]
    },
    {
     "name": "stdout",
     "output_type": "stream",
     "text": [
      "num_in=384, num_out=384, batch_size=1\n"
     ]
    },
    {
     "name": "stderr",
     "output_type": "stream",
     "text": [
      " 51%|█████     | 385/760 [10:52<16:41,  2.67s/it]"
     ]
    },
    {
     "name": "stdout",
     "output_type": "stream",
     "text": [
      "num_in=768, num_out=512, batch_size=1\n"
     ]
    },
    {
     "name": "stderr",
     "output_type": "stream",
     "text": [
      " 51%|█████     | 386/760 [10:57<20:08,  3.23s/it]"
     ]
    },
    {
     "name": "stdout",
     "output_type": "stream",
     "text": [
      "num_in=896, num_out=384, batch_size=1\n"
     ]
    },
    {
     "name": "stderr",
     "output_type": "stream",
     "text": [
      " 51%|█████     | 387/760 [11:01<20:47,  3.35s/it]"
     ]
    },
    {
     "name": "stdout",
     "output_type": "stream",
     "text": [
      "num_in=896, num_out=192, batch_size=1\n"
     ]
    },
    {
     "name": "stderr",
     "output_type": "stream",
     "text": [
      " 51%|█████▏    | 390/760 [11:03<10:14,  1.66s/it]"
     ]
    },
    {
     "name": "stdout",
     "output_type": "stream",
     "text": [
      "num_in=128, num_out=448, batch_size=1\n",
      "num_in=256, num_out=192, batch_size=4\n",
      "num_in=512, num_out=128, batch_size=1\n"
     ]
    },
    {
     "name": "stderr",
     "output_type": "stream",
     "text": [
      " 51%|█████▏    | 391/760 [11:04<09:35,  1.56s/it]"
     ]
    },
    {
     "name": "stdout",
     "output_type": "stream",
     "text": [
      "num_in=256, num_out=128, batch_size=4\n",
      "num_in=896, num_out=512, batch_size=1\n"
     ]
    },
    {
     "name": "stderr",
     "output_type": "stream",
     "text": [
      " 52%|█████▏    | 393/760 [11:09<11:48,  1.93s/it]"
     ]
    },
    {
     "name": "stdout",
     "output_type": "stream",
     "text": [
      "num_in=256, num_out=128, batch_size=1\n",
      "num_in=384, num_out=64, batch_size=1\n"
     ]
    },
    {
     "name": "stderr",
     "output_type": "stream",
     "text": [
      " 52%|█████▏    | 395/760 [11:10<08:11,  1.35s/it]"
     ]
    },
    {
     "name": "stdout",
     "output_type": "stream",
     "text": [
      "num_in=768, num_out=256, batch_size=1\n"
     ]
    },
    {
     "name": "stderr",
     "output_type": "stream",
     "text": [
      " 52%|█████▏    | 396/760 [11:12<09:33,  1.58s/it]"
     ]
    },
    {
     "name": "stdout",
     "output_type": "stream",
     "text": [
      "num_in=640, num_out=320, batch_size=1\n"
     ]
    },
    {
     "name": "stderr",
     "output_type": "stream",
     "text": [
      " 52%|█████▏    | 397/760 [11:15<11:33,  1.91s/it]"
     ]
    },
    {
     "name": "stdout",
     "output_type": "stream",
     "text": [
      "num_in=512, num_out=128, batch_size=1\n"
     ]
    },
    {
     "name": "stderr",
     "output_type": "stream",
     "text": [
      " 52%|█████▏    | 398/760 [11:16<10:32,  1.75s/it]"
     ]
    },
    {
     "name": "stdout",
     "output_type": "stream",
     "text": [
      "num_in=768, num_out=128, batch_size=1\n"
     ]
    },
    {
     "name": "stderr",
     "output_type": "stream",
     "text": [
      " 52%|█████▎    | 399/760 [11:18<09:43,  1.62s/it]"
     ]
    },
    {
     "name": "stdout",
     "output_type": "stream",
     "text": [
      "num_in=768, num_out=256, batch_size=1\n"
     ]
    },
    {
     "name": "stderr",
     "output_type": "stream",
     "text": [
      " 53%|█████▎    | 400/760 [11:20<11:03,  1.84s/it]"
     ]
    },
    {
     "name": "stdout",
     "output_type": "stream",
     "text": [
      "num_in=128, num_out=256, batch_size=4\n",
      "num_in=768, num_out=320, batch_size=1\n"
     ]
    },
    {
     "name": "stderr",
     "output_type": "stream",
     "text": [
      " 53%|█████▎    | 402/760 [11:23<10:14,  1.72s/it]"
     ]
    },
    {
     "name": "stdout",
     "output_type": "stream",
     "text": [
      "num_in=768, num_out=192, batch_size=1\n"
     ]
    },
    {
     "name": "stderr",
     "output_type": "stream",
     "text": [
      " 53%|█████▎    | 405/760 [11:25<06:18,  1.07s/it]"
     ]
    },
    {
     "name": "stdout",
     "output_type": "stream",
     "text": [
      "num_in=256, num_out=256, batch_size=1\n",
      "num_in=256, num_out=128, batch_size=4\n",
      "num_in=384, num_out=384, batch_size=1\n"
     ]
    },
    {
     "name": "stderr",
     "output_type": "stream",
     "text": [
      " 53%|█████▎    | 406/760 [11:29<09:40,  1.64s/it]"
     ]
    },
    {
     "name": "stdout",
     "output_type": "stream",
     "text": [
      "num_in=768, num_out=256, batch_size=1\n"
     ]
    },
    {
     "name": "stderr",
     "output_type": "stream",
     "text": [
      " 54%|█████▎    | 407/760 [11:31<10:46,  1.83s/it]"
     ]
    },
    {
     "name": "stdout",
     "output_type": "stream",
     "text": [
      "num_in=768, num_out=512, batch_size=1\n"
     ]
    },
    {
     "name": "stderr",
     "output_type": "stream",
     "text": [
      " 54%|█████▎    | 408/760 [11:36<15:16,  2.60s/it]"
     ]
    },
    {
     "name": "stdout",
     "output_type": "stream",
     "text": [
      "num_in=1024, num_out=128, batch_size=1\n"
     ]
    },
    {
     "name": "stderr",
     "output_type": "stream",
     "text": [
      " 54%|█████▍    | 409/760 [11:37<13:07,  2.24s/it]"
     ]
    },
    {
     "name": "stdout",
     "output_type": "stream",
     "text": [
      "num_in=640, num_out=384, batch_size=1\n"
     ]
    },
    {
     "name": "stderr",
     "output_type": "stream",
     "text": [
      " 54%|█████▍    | 410/760 [11:41<15:22,  2.63s/it]"
     ]
    },
    {
     "name": "stdout",
     "output_type": "stream",
     "text": [
      "num_in=640, num_out=448, batch_size=1\n"
     ]
    },
    {
     "name": "stderr",
     "output_type": "stream",
     "text": [
      " 54%|█████▍    | 411/760 [11:45<17:57,  3.09s/it]"
     ]
    },
    {
     "name": "stdout",
     "output_type": "stream",
     "text": [
      "num_in=384, num_out=128, batch_size=1\n"
     ]
    },
    {
     "name": "stderr",
     "output_type": "stream",
     "text": [
      " 54%|█████▍    | 412/760 [11:46<14:48,  2.55s/it]"
     ]
    },
    {
     "name": "stdout",
     "output_type": "stream",
     "text": [
      "num_in=896, num_out=320, batch_size=1\n"
     ]
    },
    {
     "name": "stderr",
     "output_type": "stream",
     "text": [
      " 54%|█████▍    | 413/760 [11:49<15:35,  2.70s/it]"
     ]
    },
    {
     "name": "stdout",
     "output_type": "stream",
     "text": [
      "num_in=256, num_out=128, batch_size=4\n",
      "num_in=1024, num_out=448, batch_size=1\n"
     ]
    },
    {
     "name": "stderr",
     "output_type": "stream",
     "text": [
      " 55%|█████▍    | 415/760 [11:54<14:09,  2.46s/it]"
     ]
    },
    {
     "name": "stdout",
     "output_type": "stream",
     "text": [
      "num_in=768, num_out=320, batch_size=1\n"
     ]
    },
    {
     "name": "stderr",
     "output_type": "stream",
     "text": [
      " 55%|█████▍    | 416/760 [11:57<14:57,  2.61s/it]"
     ]
    },
    {
     "name": "stdout",
     "output_type": "stream",
     "text": [
      "num_in=128, num_out=512, batch_size=1\n",
      "num_in=896, num_out=384, batch_size=1\n"
     ]
    },
    {
     "name": "stderr",
     "output_type": "stream",
     "text": [
      " 55%|█████▌    | 418/760 [12:00<13:04,  2.29s/it]"
     ]
    },
    {
     "name": "stdout",
     "output_type": "stream",
     "text": [
      "num_in=768, num_out=448, batch_size=1\n"
     ]
    },
    {
     "name": "stderr",
     "output_type": "stream",
     "text": [
      " 55%|█████▌    | 419/760 [12:05<15:33,  2.74s/it]"
     ]
    },
    {
     "name": "stdout",
     "output_type": "stream",
     "text": [
      "num_in=512, num_out=192, batch_size=1\n"
     ]
    },
    {
     "name": "stderr",
     "output_type": "stream",
     "text": [
      " 55%|█████▌    | 420/760 [12:07<14:16,  2.52s/it]"
     ]
    },
    {
     "name": "stdout",
     "output_type": "stream",
     "text": [
      "num_in=1024, num_out=384, batch_size=1\n",
      "num_in=768, num_out=128, batch_size=1\n"
     ]
    },
    {
     "name": "stderr",
     "output_type": "stream",
     "text": [
      " 56%|█████▌    | 422/760 [12:08<09:54,  1.76s/it]"
     ]
    },
    {
     "name": "stdout",
     "output_type": "stream",
     "text": [
      "num_in=640, num_out=256, batch_size=1\n"
     ]
    },
    {
     "name": "stderr",
     "output_type": "stream",
     "text": [
      " 56%|█████▌    | 423/760 [12:10<10:44,  1.91s/it]"
     ]
    },
    {
     "name": "stdout",
     "output_type": "stream",
     "text": [
      "num_in=512, num_out=448, batch_size=1\n"
     ]
    },
    {
     "name": "stderr",
     "output_type": "stream",
     "text": [
      " 56%|█████▌    | 424/760 [12:15<13:53,  2.48s/it]"
     ]
    },
    {
     "name": "stdout",
     "output_type": "stream",
     "text": [
      "num_in=128, num_out=448, batch_size=1\n",
      "num_in=384, num_out=64, batch_size=4\n"
     ]
    },
    {
     "name": "stderr",
     "output_type": "stream",
     "text": [
      " 56%|█████▌    | 426/760 [12:15<09:00,  1.62s/it]"
     ]
    },
    {
     "name": "stdout",
     "output_type": "stream",
     "text": [
      "num_in=640, num_out=128, batch_size=1\n"
     ]
    },
    {
     "name": "stderr",
     "output_type": "stream",
     "text": [
      " 56%|█████▋    | 429/760 [12:17<05:17,  1.04it/s]"
     ]
    },
    {
     "name": "stdout",
     "output_type": "stream",
     "text": [
      "num_in=256, num_out=256, batch_size=4\n",
      "num_in=128, num_out=512, batch_size=1\n",
      "num_in=1024, num_out=384, batch_size=1\n"
     ]
    },
    {
     "name": "stderr",
     "output_type": "stream",
     "text": [
      " 57%|█████▋    | 430/760 [12:20<08:30,  1.55s/it]"
     ]
    },
    {
     "name": "stdout",
     "output_type": "stream",
     "text": [
      "num_in=512, num_out=128, batch_size=1\n"
     ]
    },
    {
     "name": "stderr",
     "output_type": "stream",
     "text": [
      " 57%|█████▋    | 431/760 [12:22<08:06,  1.48s/it]"
     ]
    },
    {
     "name": "stdout",
     "output_type": "stream",
     "text": [
      "num_in=384, num_out=192, batch_size=1\n"
     ]
    },
    {
     "name": "stderr",
     "output_type": "stream",
     "text": [
      " 57%|█████▋    | 432/760 [12:23<08:34,  1.57s/it]"
     ]
    },
    {
     "name": "stdout",
     "output_type": "stream",
     "text": [
      "num_in=384, num_out=256, batch_size=1\n"
     ]
    },
    {
     "name": "stderr",
     "output_type": "stream",
     "text": [
      " 57%|█████▋    | 433/760 [12:26<09:46,  1.79s/it]"
     ]
    },
    {
     "name": "stdout",
     "output_type": "stream",
     "text": [
      "num_in=896, num_out=384, batch_size=1\n"
     ]
    },
    {
     "name": "stderr",
     "output_type": "stream",
     "text": [
      " 57%|█████▋    | 436/760 [12:30<07:06,  1.32s/it]"
     ]
    },
    {
     "name": "stdout",
     "output_type": "stream",
     "text": [
      "num_in=128, num_out=64, batch_size=1\n",
      "num_in=256, num_out=192, batch_size=4\n",
      "num_in=256, num_out=256, batch_size=1\n",
      "num_in=640, num_out=512, batch_size=1\n"
     ]
    },
    {
     "name": "stderr",
     "output_type": "stream",
     "text": [
      " 58%|█████▊    | 438/760 [12:35<09:23,  1.75s/it]"
     ]
    },
    {
     "name": "stdout",
     "output_type": "stream",
     "text": [
      "num_in=384, num_out=256, batch_size=1\n"
     ]
    },
    {
     "name": "stderr",
     "output_type": "stream",
     "text": [
      " 58%|█████▊    | 439/760 [12:37<10:08,  1.90s/it]"
     ]
    },
    {
     "name": "stdout",
     "output_type": "stream",
     "text": [
      "num_in=128, num_out=448, batch_size=1\n",
      "num_in=768, num_out=320, batch_size=1\n"
     ]
    },
    {
     "name": "stderr",
     "output_type": "stream",
     "text": [
      " 58%|█████▊    | 441/760 [12:40<09:20,  1.76s/it]"
     ]
    },
    {
     "name": "stdout",
     "output_type": "stream",
     "text": [
      "num_in=896, num_out=448, batch_size=1\n"
     ]
    },
    {
     "name": "stderr",
     "output_type": "stream",
     "text": [
      " 58%|█████▊    | 444/760 [12:44<07:35,  1.44s/it]"
     ]
    },
    {
     "name": "stdout",
     "output_type": "stream",
     "text": [
      "num_in=256, num_out=128, batch_size=1\n",
      "num_in=256, num_out=512, batch_size=1\n",
      "num_in=896, num_out=320, batch_size=1\n"
     ]
    },
    {
     "name": "stderr",
     "output_type": "stream",
     "text": [
      " 59%|█████▉    | 447/760 [12:47<05:31,  1.06s/it]"
     ]
    },
    {
     "name": "stdout",
     "output_type": "stream",
     "text": [
      "num_in=256, num_out=512, batch_size=1\n",
      "num_in=128, num_out=320, batch_size=4\n",
      "num_in=256, num_out=384, batch_size=1\n",
      "num_in=640, num_out=192, batch_size=1\n"
     ]
    },
    {
     "name": "stderr",
     "output_type": "stream",
     "text": [
      " 59%|█████▉    | 449/760 [12:49<05:16,  1.02s/it]"
     ]
    },
    {
     "name": "stdout",
     "output_type": "stream",
     "text": [
      "num_in=512, num_out=192, batch_size=1\n"
     ]
    },
    {
     "name": "stderr",
     "output_type": "stream",
     "text": [
      " 59%|█████▉    | 450/760 [12:51<06:06,  1.18s/it]"
     ]
    },
    {
     "name": "stdout",
     "output_type": "stream",
     "text": [
      "num_in=896, num_out=320, batch_size=1\n"
     ]
    },
    {
     "name": "stderr",
     "output_type": "stream",
     "text": [
      " 59%|█████▉    | 451/760 [12:54<08:13,  1.60s/it]"
     ]
    },
    {
     "name": "stdout",
     "output_type": "stream",
     "text": [
      "num_in=256, num_out=128, batch_size=4\n",
      "num_in=512, num_out=64, batch_size=1\n"
     ]
    },
    {
     "name": "stderr",
     "output_type": "stream",
     "text": [
      " 60%|█████▉    | 453/760 [12:55<05:44,  1.12s/it]"
     ]
    },
    {
     "name": "stdout",
     "output_type": "stream",
     "text": [
      "num_in=256, num_out=320, batch_size=1\n",
      "num_in=640, num_out=64, batch_size=1\n"
     ]
    },
    {
     "name": "stderr",
     "output_type": "stream",
     "text": [
      " 60%|█████▉    | 455/760 [12:55<04:17,  1.19it/s]"
     ]
    },
    {
     "name": "stdout",
     "output_type": "stream",
     "text": [
      "num_in=896, num_out=448, batch_size=1\n"
     ]
    },
    {
     "name": "stderr",
     "output_type": "stream",
     "text": [
      " 60%|██████    | 456/760 [12:58<06:00,  1.19s/it]"
     ]
    },
    {
     "name": "stdout",
     "output_type": "stream",
     "text": [
      "num_in=128, num_out=320, batch_size=4\n",
      "num_in=384, num_out=128, batch_size=1\n"
     ]
    },
    {
     "name": "stderr",
     "output_type": "stream",
     "text": [
      " 60%|██████    | 458/760 [12:59<04:58,  1.01it/s]"
     ]
    },
    {
     "name": "stdout",
     "output_type": "stream",
     "text": [
      "num_in=128, num_out=64, batch_size=4\n",
      "num_in=1024, num_out=512, batch_size=1\n"
     ]
    },
    {
     "name": "stderr",
     "output_type": "stream",
     "text": [
      " 61%|██████    | 460/760 [13:04<07:27,  1.49s/it]"
     ]
    },
    {
     "name": "stdout",
     "output_type": "stream",
     "text": [
      "num_in=256, num_out=256, batch_size=1\n",
      "num_in=1024, num_out=256, batch_size=1\n"
     ]
    },
    {
     "name": "stderr",
     "output_type": "stream",
     "text": [
      " 61%|██████    | 464/760 [13:07<04:49,  1.02it/s]"
     ]
    },
    {
     "name": "stdout",
     "output_type": "stream",
     "text": [
      "num_in=128, num_out=192, batch_size=1\n",
      "num_in=256, num_out=320, batch_size=1\n",
      "num_in=256, num_out=256, batch_size=4\n",
      "num_in=384, num_out=448, batch_size=1\n"
     ]
    },
    {
     "name": "stderr",
     "output_type": "stream",
     "text": [
      " 62%|██████▏   | 468/760 [13:11<04:35,  1.06it/s]"
     ]
    },
    {
     "name": "stdout",
     "output_type": "stream",
     "text": [
      "num_in=256, num_out=256, batch_size=1\n",
      "num_in=128, num_out=192, batch_size=4\n",
      "num_in=128, num_out=384, batch_size=1\n",
      "num_in=896, num_out=384, batch_size=1\n"
     ]
    },
    {
     "name": "stderr",
     "output_type": "stream",
     "text": [
      " 62%|██████▏   | 470/760 [13:15<05:53,  1.22s/it]"
     ]
    },
    {
     "name": "stdout",
     "output_type": "stream",
     "text": [
      "num_in=512, num_out=320, batch_size=1\n"
     ]
    },
    {
     "name": "stderr",
     "output_type": "stream",
     "text": [
      " 62%|██████▏   | 471/760 [13:18<07:26,  1.54s/it]"
     ]
    },
    {
     "name": "stdout",
     "output_type": "stream",
     "text": [
      "num_in=640, num_out=128, batch_size=1\n"
     ]
    },
    {
     "name": "stderr",
     "output_type": "stream",
     "text": [
      " 62%|██████▏   | 472/760 [13:19<07:06,  1.48s/it]"
     ]
    },
    {
     "name": "stdout",
     "output_type": "stream",
     "text": [
      "num_in=256, num_out=192, batch_size=4\n",
      "num_in=512, num_out=384, batch_size=1\n"
     ]
    },
    {
     "name": "stderr",
     "output_type": "stream",
     "text": [
      " 62%|██████▏   | 474/760 [13:23<07:43,  1.62s/it]"
     ]
    },
    {
     "name": "stdout",
     "output_type": "stream",
     "text": [
      "num_in=640, num_out=448, batch_size=1\n"
     ]
    },
    {
     "name": "stderr",
     "output_type": "stream",
     "text": [
      " 62%|██████▎   | 475/760 [13:27<10:16,  2.16s/it]"
     ]
    },
    {
     "name": "stdout",
     "output_type": "stream",
     "text": [
      "num_in=768, num_out=256, batch_size=1\n"
     ]
    },
    {
     "name": "stderr",
     "output_type": "stream",
     "text": [
      " 63%|██████▎   | 476/760 [13:29<10:32,  2.23s/it]"
     ]
    },
    {
     "name": "stdout",
     "output_type": "stream",
     "text": [
      "num_in=128, num_out=320, batch_size=1\n",
      "num_in=640, num_out=512, batch_size=1\n"
     ]
    },
    {
     "name": "stderr",
     "output_type": "stream",
     "text": [
      " 63%|██████▎   | 478/760 [13:34<10:51,  2.31s/it]"
     ]
    },
    {
     "name": "stdout",
     "output_type": "stream",
     "text": [
      "num_in=512, num_out=384, batch_size=1\n"
     ]
    },
    {
     "name": "stderr",
     "output_type": "stream",
     "text": [
      " 63%|██████▎   | 479/760 [13:38<12:10,  2.60s/it]"
     ]
    },
    {
     "name": "stdout",
     "output_type": "stream",
     "text": [
      "num_in=1024, num_out=512, batch_size=1\n",
      "num_in=896, num_out=192, batch_size=1\n"
     ]
    },
    {
     "name": "stderr",
     "output_type": "stream",
     "text": [
      " 63%|██████▎   | 481/760 [13:40<09:09,  1.97s/it]"
     ]
    },
    {
     "name": "stdout",
     "output_type": "stream",
     "text": [
      "num_in=768, num_out=256, batch_size=1\n"
     ]
    },
    {
     "name": "stderr",
     "output_type": "stream",
     "text": [
      " 63%|██████▎   | 482/760 [13:42<09:36,  2.07s/it]"
     ]
    },
    {
     "name": "stdout",
     "output_type": "stream",
     "text": [
      "num_in=640, num_out=512, batch_size=1\n"
     ]
    },
    {
     "name": "stderr",
     "output_type": "stream",
     "text": [
      " 64%|██████▎   | 483/760 [13:47<12:34,  2.72s/it]"
     ]
    },
    {
     "name": "stdout",
     "output_type": "stream",
     "text": [
      "num_in=896, num_out=512, batch_size=1\n"
     ]
    },
    {
     "name": "stderr",
     "output_type": "stream",
     "text": [
      " 64%|██████▍   | 486/760 [13:52<08:46,  1.92s/it]"
     ]
    },
    {
     "name": "stdout",
     "output_type": "stream",
     "text": [
      "num_in=256, num_out=448, batch_size=1\n",
      "num_in=256, num_out=192, batch_size=4\n",
      "num_in=256, num_out=128, batch_size=4\n"
     ]
    },
    {
     "name": "stderr",
     "output_type": "stream",
     "text": [
      " 64%|██████▍   | 488/760 [13:52<05:34,  1.23s/it]"
     ]
    },
    {
     "name": "stdout",
     "output_type": "stream",
     "text": [
      "num_in=128, num_out=448, batch_size=1\n",
      "num_in=384, num_out=384, batch_size=1\n"
     ]
    },
    {
     "name": "stderr",
     "output_type": "stream",
     "text": [
      " 64%|██████▍   | 489/760 [13:56<07:49,  1.73s/it]"
     ]
    },
    {
     "name": "stdout",
     "output_type": "stream",
     "text": [
      "num_in=640, num_out=384, batch_size=1\n"
     ]
    },
    {
     "name": "stderr",
     "output_type": "stream",
     "text": [
      " 64%|██████▍   | 490/760 [13:59<09:46,  2.17s/it]"
     ]
    },
    {
     "name": "stdout",
     "output_type": "stream",
     "text": [
      "num_in=512, num_out=128, batch_size=1\n"
     ]
    },
    {
     "name": "stderr",
     "output_type": "stream",
     "text": [
      " 65%|██████▍   | 491/760 [14:01<08:41,  1.94s/it]"
     ]
    },
    {
     "name": "stdout",
     "output_type": "stream",
     "text": [
      "num_in=384, num_out=512, batch_size=1\n"
     ]
    },
    {
     "name": "stderr",
     "output_type": "stream",
     "text": [
      " 65%|██████▍   | 492/760 [14:05<12:01,  2.69s/it]"
     ]
    },
    {
     "name": "stdout",
     "output_type": "stream",
     "text": [
      "num_in=256, num_out=64, batch_size=4\n",
      "num_in=640, num_out=256, batch_size=1\n"
     ]
    },
    {
     "name": "stderr",
     "output_type": "stream",
     "text": [
      " 65%|██████▌   | 494/760 [14:08<09:13,  2.08s/it]"
     ]
    },
    {
     "name": "stdout",
     "output_type": "stream",
     "text": [
      "num_in=640, num_out=64, batch_size=1\n"
     ]
    },
    {
     "name": "stderr",
     "output_type": "stream",
     "text": [
      " 65%|██████▌   | 495/760 [14:09<07:42,  1.74s/it]"
     ]
    },
    {
     "name": "stdout",
     "output_type": "stream",
     "text": [
      "num_in=896, num_out=448, batch_size=1\n"
     ]
    },
    {
     "name": "stderr",
     "output_type": "stream",
     "text": [
      " 65%|██████▌   | 496/760 [14:13<10:25,  2.37s/it]"
     ]
    },
    {
     "name": "stdout",
     "output_type": "stream",
     "text": [
      "num_in=128, num_out=256, batch_size=1\n",
      "num_in=256, num_out=64, batch_size=1\n",
      "num_in=384, num_out=192, batch_size=1\n"
     ]
    },
    {
     "name": "stderr",
     "output_type": "stream",
     "text": [
      " 66%|██████▌   | 499/760 [14:15<06:24,  1.47s/it]"
     ]
    },
    {
     "name": "stdout",
     "output_type": "stream",
     "text": [
      "num_in=1024, num_out=64, batch_size=1\n"
     ]
    },
    {
     "name": "stderr",
     "output_type": "stream",
     "text": [
      " 66%|██████▌   | 502/760 [14:16<03:40,  1.17it/s]"
     ]
    },
    {
     "name": "stdout",
     "output_type": "stream",
     "text": [
      "num_in=128, num_out=256, batch_size=1\n",
      "num_in=256, num_out=512, batch_size=1\n",
      "num_in=640, num_out=64, batch_size=1\n"
     ]
    },
    {
     "name": "stderr",
     "output_type": "stream",
     "text": [
      " 66%|██████▌   | 503/760 [14:16<03:28,  1.23it/s]"
     ]
    },
    {
     "name": "stdout",
     "output_type": "stream",
     "text": [
      "num_in=640, num_out=128, batch_size=1\n"
     ]
    },
    {
     "name": "stderr",
     "output_type": "stream",
     "text": [
      " 67%|██████▋   | 506/760 [14:18<02:26,  1.74it/s]"
     ]
    },
    {
     "name": "stdout",
     "output_type": "stream",
     "text": [
      "num_in=128, num_out=512, batch_size=1\n",
      "num_in=256, num_out=128, batch_size=4\n",
      "num_in=512, num_out=320, batch_size=1\n"
     ]
    },
    {
     "name": "stderr",
     "output_type": "stream",
     "text": [
      " 67%|██████▋   | 507/760 [14:21<04:42,  1.12s/it]"
     ]
    },
    {
     "name": "stdout",
     "output_type": "stream",
     "text": [
      "num_in=896, num_out=64, batch_size=1\n"
     ]
    },
    {
     "name": "stderr",
     "output_type": "stream",
     "text": [
      " 67%|██████▋   | 508/760 [14:21<04:13,  1.01s/it]"
     ]
    },
    {
     "name": "stdout",
     "output_type": "stream",
     "text": [
      "num_in=256, num_out=192, batch_size=4\n",
      "num_in=640, num_out=384, batch_size=1\n"
     ]
    },
    {
     "name": "stderr",
     "output_type": "stream",
     "text": [
      " 67%|██████▋   | 510/760 [14:25<05:38,  1.36s/it]"
     ]
    },
    {
     "name": "stdout",
     "output_type": "stream",
     "text": [
      "num_in=256, num_out=128, batch_size=1\n",
      "num_in=384, num_out=256, batch_size=1\n"
     ]
    },
    {
     "name": "stderr",
     "output_type": "stream",
     "text": [
      " 67%|██████▋   | 512/760 [14:27<05:25,  1.31s/it]"
     ]
    },
    {
     "name": "stdout",
     "output_type": "stream",
     "text": [
      "num_in=768, num_out=128, batch_size=1\n"
     ]
    },
    {
     "name": "stderr",
     "output_type": "stream",
     "text": [
      " 68%|██████▊   | 513/760 [14:29<05:20,  1.30s/it]"
     ]
    },
    {
     "name": "stdout",
     "output_type": "stream",
     "text": [
      "num_in=384, num_out=128, batch_size=4\n"
     ]
    },
    {
     "name": "stderr",
     "output_type": "stream",
     "text": [
      " 68%|██████▊   | 514/760 [14:30<05:24,  1.32s/it]"
     ]
    },
    {
     "name": "stdout",
     "output_type": "stream",
     "text": [
      "num_in=384, num_out=64, batch_size=4\n"
     ]
    },
    {
     "name": "stderr",
     "output_type": "stream",
     "text": [
      " 68%|██████▊   | 515/760 [14:31<04:49,  1.18s/it]"
     ]
    },
    {
     "name": "stdout",
     "output_type": "stream",
     "text": [
      "num_in=128, num_out=64, batch_size=4\n",
      "num_in=896, num_out=64, batch_size=1\n"
     ]
    },
    {
     "name": "stderr",
     "output_type": "stream",
     "text": [
      " 68%|██████▊   | 517/760 [14:32<03:25,  1.18it/s]"
     ]
    },
    {
     "name": "stdout",
     "output_type": "stream",
     "text": [
      "num_in=384, num_out=64, batch_size=4\n"
     ]
    },
    {
     "name": "stderr",
     "output_type": "stream",
     "text": [
      " 68%|██████▊   | 519/760 [14:32<02:36,  1.54it/s]"
     ]
    },
    {
     "name": "stdout",
     "output_type": "stream",
     "text": [
      "num_in=1024, num_out=256, batch_size=1\n",
      "num_in=256, num_out=256, batch_size=4\n"
     ]
    },
    {
     "name": "stderr",
     "output_type": "stream",
     "text": [
      " 69%|██████▊   | 521/760 [14:33<01:40,  2.38it/s]"
     ]
    },
    {
     "name": "stdout",
     "output_type": "stream",
     "text": [
      "num_in=1024, num_out=192, batch_size=1\n",
      "num_in=128, num_out=128, batch_size=1\n",
      "num_in=1024, num_out=192, batch_size=1\n"
     ]
    },
    {
     "name": "stderr",
     "output_type": "stream",
     "text": [
      " 69%|██████▉   | 523/760 [14:33<01:08,  3.46it/s]"
     ]
    },
    {
     "name": "stdout",
     "output_type": "stream",
     "text": [
      "num_in=512, num_out=512, batch_size=1\n"
     ]
    },
    {
     "name": "stderr",
     "output_type": "stream",
     "text": [
      " 69%|██████▉   | 526/760 [14:38<03:06,  1.26it/s]"
     ]
    },
    {
     "name": "stdout",
     "output_type": "stream",
     "text": [
      "num_in=256, num_out=320, batch_size=1\n",
      "num_in=128, num_out=128, batch_size=4\n",
      "num_in=512, num_out=128, batch_size=1\n"
     ]
    },
    {
     "name": "stderr",
     "output_type": "stream",
     "text": [
      " 69%|██████▉   | 527/760 [14:39<03:26,  1.13it/s]"
     ]
    },
    {
     "name": "stdout",
     "output_type": "stream",
     "text": [
      "num_in=256, num_out=448, batch_size=1\n",
      "num_in=384, num_out=128, batch_size=1\n"
     ]
    },
    {
     "name": "stderr",
     "output_type": "stream",
     "text": [
      " 70%|██████▉   | 529/760 [14:40<03:03,  1.26it/s]"
     ]
    },
    {
     "name": "stdout",
     "output_type": "stream",
     "text": [
      "num_in=128, num_out=384, batch_size=4\n",
      "num_in=896, num_out=128, batch_size=1\n"
     ]
    },
    {
     "name": "stderr",
     "output_type": "stream",
     "text": [
      " 70%|███████   | 533/760 [14:42<01:57,  1.93it/s]"
     ]
    },
    {
     "name": "stdout",
     "output_type": "stream",
     "text": [
      "num_in=128, num_out=256, batch_size=4\n",
      "num_in=256, num_out=448, batch_size=1\n",
      "num_in=896, num_out=384, batch_size=1\n"
     ]
    },
    {
     "name": "stderr",
     "output_type": "stream",
     "text": [
      " 70%|███████   | 534/760 [14:45<04:12,  1.12s/it]"
     ]
    },
    {
     "name": "stdout",
     "output_type": "stream",
     "text": [
      "num_in=640, num_out=320, batch_size=1\n"
     ]
    },
    {
     "name": "stderr",
     "output_type": "stream",
     "text": [
      " 70%|███████   | 535/760 [14:48<05:44,  1.53s/it]"
     ]
    },
    {
     "name": "stdout",
     "output_type": "stream",
     "text": [
      "num_in=256, num_out=128, batch_size=4\n",
      "num_in=512, num_out=448, batch_size=1\n"
     ]
    },
    {
     "name": "stderr",
     "output_type": "stream",
     "text": [
      " 71%|███████   | 537/760 [14:53<06:34,  1.77s/it]"
     ]
    },
    {
     "name": "stdout",
     "output_type": "stream",
     "text": [
      "num_in=768, num_out=192, batch_size=1\n"
     ]
    },
    {
     "name": "stderr",
     "output_type": "stream",
     "text": [
      " 71%|███████   | 538/760 [14:54<06:36,  1.79s/it]"
     ]
    },
    {
     "name": "stdout",
     "output_type": "stream",
     "text": [
      "num_in=1024, num_out=512, batch_size=1\n",
      "num_in=384, num_out=448, batch_size=1\n"
     ]
    },
    {
     "name": "stderr",
     "output_type": "stream",
     "text": [
      " 71%|███████▏  | 542/760 [14:59<04:36,  1.27s/it]"
     ]
    },
    {
     "name": "stdout",
     "output_type": "stream",
     "text": [
      "num_in=128, num_out=64, batch_size=4\n",
      "num_in=256, num_out=320, batch_size=1\n",
      "num_in=896, num_out=128, batch_size=1\n"
     ]
    },
    {
     "name": "stderr",
     "output_type": "stream",
     "text": [
      " 71%|███████▏  | 543/760 [15:00<04:34,  1.26s/it]"
     ]
    },
    {
     "name": "stdout",
     "output_type": "stream",
     "text": [
      "num_in=128, num_out=448, batch_size=1\n",
      "num_in=256, num_out=192, batch_size=1\n",
      "num_in=640, num_out=448, batch_size=1\n"
     ]
    },
    {
     "name": "stderr",
     "output_type": "stream",
     "text": [
      " 72%|███████▏  | 546/760 [15:04<04:47,  1.35s/it]"
     ]
    },
    {
     "name": "stdout",
     "output_type": "stream",
     "text": [
      "num_in=128, num_out=128, batch_size=1\n",
      "num_in=640, num_out=192, batch_size=1\n"
     ]
    },
    {
     "name": "stderr",
     "output_type": "stream",
     "text": [
      " 72%|███████▏  | 548/760 [15:06<04:18,  1.22s/it]"
     ]
    },
    {
     "name": "stdout",
     "output_type": "stream",
     "text": [
      "num_in=1024, num_out=128, batch_size=1\n"
     ]
    },
    {
     "name": "stderr",
     "output_type": "stream",
     "text": [
      " 72%|███████▏  | 549/760 [15:08<04:19,  1.23s/it]"
     ]
    },
    {
     "name": "stdout",
     "output_type": "stream",
     "text": [
      "num_in=512, num_out=256, batch_size=1\n"
     ]
    },
    {
     "name": "stderr",
     "output_type": "stream",
     "text": [
      " 72%|███████▏  | 550/760 [15:10<05:10,  1.48s/it]"
     ]
    },
    {
     "name": "stdout",
     "output_type": "stream",
     "text": [
      "num_in=384, num_out=256, batch_size=1\n"
     ]
    },
    {
     "name": "stderr",
     "output_type": "stream",
     "text": [
      " 72%|███████▎  | 551/760 [15:12<05:53,  1.69s/it]"
     ]
    },
    {
     "name": "stdout",
     "output_type": "stream",
     "text": [
      "num_in=768, num_out=448, batch_size=1\n"
     ]
    },
    {
     "name": "stderr",
     "output_type": "stream",
     "text": [
      " 73%|███████▎  | 552/760 [15:17<08:00,  2.31s/it]"
     ]
    },
    {
     "name": "stdout",
     "output_type": "stream",
     "text": [
      "num_in=768, num_out=320, batch_size=1\n"
     ]
    },
    {
     "name": "stderr",
     "output_type": "stream",
     "text": [
      " 73%|███████▎  | 553/760 [15:20<08:37,  2.50s/it]"
     ]
    },
    {
     "name": "stdout",
     "output_type": "stream",
     "text": [
      "num_in=512, num_out=448, batch_size=1\n"
     ]
    },
    {
     "name": "stderr",
     "output_type": "stream",
     "text": [
      " 73%|███████▎  | 556/760 [15:24<05:47,  1.70s/it]"
     ]
    },
    {
     "name": "stdout",
     "output_type": "stream",
     "text": [
      "num_in=128, num_out=192, batch_size=1\n",
      "num_in=256, num_out=192, batch_size=4\n",
      "num_in=384, num_out=192, batch_size=1\n"
     ]
    },
    {
     "name": "stderr",
     "output_type": "stream",
     "text": [
      " 73%|███████▎  | 557/760 [15:26<05:52,  1.74s/it]"
     ]
    },
    {
     "name": "stdout",
     "output_type": "stream",
     "text": [
      "num_in=384, num_out=448, batch_size=1\n"
     ]
    },
    {
     "name": "stderr",
     "output_type": "stream",
     "text": [
      " 73%|███████▎  | 558/760 [15:30<07:57,  2.36s/it]"
     ]
    },
    {
     "name": "stdout",
     "output_type": "stream",
     "text": [
      "num_in=640, num_out=192, batch_size=1\n"
     ]
    },
    {
     "name": "stderr",
     "output_type": "stream",
     "text": [
      " 74%|███████▎  | 559/760 [15:32<07:26,  2.22s/it]"
     ]
    },
    {
     "name": "stdout",
     "output_type": "stream",
     "text": [
      "num_in=512, num_out=64, batch_size=1\n"
     ]
    },
    {
     "name": "stderr",
     "output_type": "stream",
     "text": [
      " 74%|███████▎  | 560/760 [15:33<05:57,  1.79s/it]"
     ]
    },
    {
     "name": "stdout",
     "output_type": "stream",
     "text": [
      "num_in=896, num_out=384, batch_size=1\n"
     ]
    },
    {
     "name": "stderr",
     "output_type": "stream",
     "text": [
      " 74%|███████▍  | 563/760 [15:36<04:18,  1.31s/it]"
     ]
    },
    {
     "name": "stdout",
     "output_type": "stream",
     "text": [
      "num_in=256, num_out=128, batch_size=1\n",
      "num_in=1024, num_out=448, batch_size=1\n",
      "num_in=384, num_out=192, batch_size=1\n"
     ]
    },
    {
     "name": "stderr",
     "output_type": "stream",
     "text": [
      " 75%|███████▍  | 567/760 [15:38<02:21,  1.37it/s]"
     ]
    },
    {
     "name": "stdout",
     "output_type": "stream",
     "text": [
      "num_in=128, num_out=128, batch_size=1\n",
      "num_in=256, num_out=448, batch_size=1\n",
      "num_in=128, num_out=192, batch_size=4\n",
      "num_in=896, num_out=256, batch_size=1\n"
     ]
    },
    {
     "name": "stderr",
     "output_type": "stream",
     "text": [
      " 75%|███████▍  | 568/760 [15:41<03:24,  1.07s/it]"
     ]
    },
    {
     "name": "stdout",
     "output_type": "stream",
     "text": [
      "num_in=384, num_out=256, batch_size=1\n"
     ]
    },
    {
     "name": "stderr",
     "output_type": "stream",
     "text": [
      " 75%|███████▌  | 571/760 [15:43<02:44,  1.15it/s]"
     ]
    },
    {
     "name": "stdout",
     "output_type": "stream",
     "text": [
      "num_in=1024, num_out=384, batch_size=1\n",
      "num_in=128, num_out=320, batch_size=4\n",
      "num_in=512, num_out=256, batch_size=1\n"
     ]
    },
    {
     "name": "stderr",
     "output_type": "stream",
     "text": [
      " 75%|███████▌  | 572/760 [15:46<03:46,  1.21s/it]"
     ]
    },
    {
     "name": "stdout",
     "output_type": "stream",
     "text": [
      "num_in=128, num_out=64, batch_size=1\n",
      "num_in=512, num_out=192, batch_size=1\n"
     ]
    },
    {
     "name": "stderr",
     "output_type": "stream",
     "text": [
      " 76%|███████▌  | 574/760 [15:48<03:25,  1.10s/it]"
     ]
    },
    {
     "name": "stdout",
     "output_type": "stream",
     "text": [
      "num_in=128, num_out=64, batch_size=1\n",
      "num_in=512, num_out=384, batch_size=1\n"
     ]
    },
    {
     "name": "stderr",
     "output_type": "stream",
     "text": [
      " 76%|███████▌  | 576/760 [15:51<04:09,  1.36s/it]"
     ]
    },
    {
     "name": "stdout",
     "output_type": "stream",
     "text": [
      "num_in=128, num_out=384, batch_size=4\n",
      "num_in=384, num_out=512, batch_size=1\n"
     ]
    },
    {
     "name": "stderr",
     "output_type": "stream",
     "text": [
      " 76%|███████▌  | 578/760 [15:56<05:13,  1.72s/it]"
     ]
    },
    {
     "name": "stdout",
     "output_type": "stream",
     "text": [
      "num_in=640, num_out=192, batch_size=1\n"
     ]
    },
    {
     "name": "stderr",
     "output_type": "stream",
     "text": [
      " 76%|███████▌  | 579/760 [15:58<05:15,  1.74s/it]"
     ]
    },
    {
     "name": "stdout",
     "output_type": "stream",
     "text": [
      "num_in=896, num_out=64, batch_size=1\n"
     ]
    },
    {
     "name": "stderr",
     "output_type": "stream",
     "text": [
      " 76%|███████▋  | 580/760 [15:59<04:31,  1.51s/it]"
     ]
    },
    {
     "name": "stdout",
     "output_type": "stream",
     "text": [
      "num_in=768, num_out=128, batch_size=1\n"
     ]
    },
    {
     "name": "stderr",
     "output_type": "stream",
     "text": [
      " 76%|███████▋  | 581/760 [16:00<04:19,  1.45s/it]"
     ]
    },
    {
     "name": "stdout",
     "output_type": "stream",
     "text": [
      "num_in=768, num_out=448, batch_size=1\n"
     ]
    },
    {
     "name": "stderr",
     "output_type": "stream",
     "text": [
      " 77%|███████▋  | 582/760 [16:04<06:23,  2.15s/it]"
     ]
    },
    {
     "name": "stdout",
     "output_type": "stream",
     "text": [
      "num_in=128, num_out=192, batch_size=1\n",
      "num_in=640, num_out=448, batch_size=1\n"
     ]
    },
    {
     "name": "stderr",
     "output_type": "stream",
     "text": [
      " 77%|███████▋  | 584/760 [16:09<06:17,  2.15s/it]"
     ]
    },
    {
     "name": "stdout",
     "output_type": "stream",
     "text": [
      "num_in=896, num_out=128, batch_size=1\n"
     ]
    },
    {
     "name": "stderr",
     "output_type": "stream",
     "text": [
      " 77%|███████▋  | 585/760 [16:10<05:39,  1.94s/it]"
     ]
    },
    {
     "name": "stdout",
     "output_type": "stream",
     "text": [
      "num_in=384, num_out=64, batch_size=4\n"
     ]
    },
    {
     "name": "stderr",
     "output_type": "stream",
     "text": [
      " 77%|███████▋  | 586/760 [16:11<04:46,  1.65s/it]"
     ]
    },
    {
     "name": "stdout",
     "output_type": "stream",
     "text": [
      "num_in=128, num_out=384, batch_size=4\n",
      "num_in=384, num_out=384, batch_size=1\n"
     ]
    },
    {
     "name": "stderr",
     "output_type": "stream",
     "text": [
      " 77%|███████▋  | 588/760 [16:14<04:57,  1.73s/it]"
     ]
    },
    {
     "name": "stdout",
     "output_type": "stream",
     "text": [
      "num_in=768, num_out=320, batch_size=1\n"
     ]
    },
    {
     "name": "stderr",
     "output_type": "stream",
     "text": [
      " 78%|███████▊  | 589/760 [16:17<05:46,  2.03s/it]"
     ]
    },
    {
     "name": "stdout",
     "output_type": "stream",
     "text": [
      "num_in=1024, num_out=512, batch_size=1\n",
      "num_in=896, num_out=192, batch_size=1\n"
     ]
    },
    {
     "name": "stderr",
     "output_type": "stream",
     "text": [
      " 78%|███████▊  | 591/760 [16:19<04:32,  1.61s/it]"
     ]
    },
    {
     "name": "stdout",
     "output_type": "stream",
     "text": [
      "num_in=256, num_out=192, batch_size=4\n",
      "num_in=768, num_out=64, batch_size=1\n"
     ]
    },
    {
     "name": "stderr",
     "output_type": "stream",
     "text": [
      " 78%|███████▊  | 593/760 [16:20<03:15,  1.17s/it]"
     ]
    },
    {
     "name": "stdout",
     "output_type": "stream",
     "text": [
      "num_in=128, num_out=64, batch_size=1\n",
      "num_in=768, num_out=256, batch_size=1\n"
     ]
    },
    {
     "name": "stderr",
     "output_type": "stream",
     "text": [
      " 78%|███████▊  | 595/760 [16:23<03:17,  1.20s/it]"
     ]
    },
    {
     "name": "stdout",
     "output_type": "stream",
     "text": [
      "num_in=640, num_out=448, batch_size=1\n"
     ]
    },
    {
     "name": "stderr",
     "output_type": "stream",
     "text": [
      " 78%|███████▊  | 596/760 [16:27<04:54,  1.79s/it]"
     ]
    },
    {
     "name": "stdout",
     "output_type": "stream",
     "text": [
      "num_in=768, num_out=512, batch_size=1\n"
     ]
    },
    {
     "name": "stderr",
     "output_type": "stream",
     "text": [
      " 79%|███████▊  | 597/760 [16:32<06:42,  2.47s/it]"
     ]
    },
    {
     "name": "stdout",
     "output_type": "stream",
     "text": [
      "num_in=512, num_out=256, batch_size=1\n"
     ]
    },
    {
     "name": "stderr",
     "output_type": "stream",
     "text": [
      " 79%|███████▊  | 598/760 [16:34<06:39,  2.46s/it]"
     ]
    },
    {
     "name": "stdout",
     "output_type": "stream",
     "text": [
      "num_in=256, num_out=512, batch_size=1\n",
      "num_in=512, num_out=192, batch_size=1\n"
     ]
    },
    {
     "name": "stderr",
     "output_type": "stream",
     "text": [
      " 79%|███████▉  | 600/760 [16:36<04:55,  1.85s/it]"
     ]
    },
    {
     "name": "stdout",
     "output_type": "stream",
     "text": [
      "num_in=128, num_out=64, batch_size=1\n",
      "num_in=768, num_out=512, batch_size=1\n"
     ]
    },
    {
     "name": "stderr",
     "output_type": "stream",
     "text": [
      " 79%|███████▉  | 602/760 [16:41<05:27,  2.07s/it]"
     ]
    },
    {
     "name": "stdout",
     "output_type": "stream",
     "text": [
      "num_in=640, num_out=128, batch_size=1\n"
     ]
    },
    {
     "name": "stderr",
     "output_type": "stream",
     "text": [
      " 79%|███████▉  | 603/760 [16:42<04:58,  1.90s/it]"
     ]
    },
    {
     "name": "stdout",
     "output_type": "stream",
     "text": [
      "num_in=128, num_out=128, batch_size=4\n",
      "num_in=384, num_out=64, batch_size=4\n"
     ]
    },
    {
     "name": "stderr",
     "output_type": "stream",
     "text": [
      " 80%|███████▉  | 605/760 [16:43<03:28,  1.34s/it]"
     ]
    },
    {
     "name": "stdout",
     "output_type": "stream",
     "text": [
      "num_in=768, num_out=192, batch_size=1\n"
     ]
    },
    {
     "name": "stderr",
     "output_type": "stream",
     "text": [
      " 80%|███████▉  | 606/760 [16:45<03:44,  1.46s/it]"
     ]
    },
    {
     "name": "stdout",
     "output_type": "stream",
     "text": [
      "num_in=512, num_out=320, batch_size=1\n"
     ]
    },
    {
     "name": "stderr",
     "output_type": "stream",
     "text": [
      " 80%|███████▉  | 607/760 [16:48<04:39,  1.83s/it]"
     ]
    },
    {
     "name": "stdout",
     "output_type": "stream",
     "text": [
      "num_in=128, num_out=448, batch_size=1\n",
      "num_in=896, num_out=256, batch_size=1\n"
     ]
    },
    {
     "name": "stderr",
     "output_type": "stream",
     "text": [
      " 80%|████████  | 609/760 [16:50<04:01,  1.60s/it]"
     ]
    },
    {
     "name": "stdout",
     "output_type": "stream",
     "text": [
      "num_in=128, num_out=384, batch_size=1\n",
      "num_in=768, num_out=64, batch_size=1\n"
     ]
    },
    {
     "name": "stderr",
     "output_type": "stream",
     "text": [
      " 80%|████████  | 611/760 [16:51<02:50,  1.15s/it]"
     ]
    },
    {
     "name": "stdout",
     "output_type": "stream",
     "text": [
      "num_in=256, num_out=192, batch_size=1\n",
      "num_in=768, num_out=64, batch_size=1\n"
     ]
    },
    {
     "name": "stderr",
     "output_type": "stream",
     "text": [
      " 81%|████████  | 613/760 [16:52<02:08,  1.14it/s]"
     ]
    },
    {
     "name": "stdout",
     "output_type": "stream",
     "text": [
      "num_in=640, num_out=128, batch_size=1\n"
     ]
    },
    {
     "name": "stderr",
     "output_type": "stream",
     "text": [
      " 81%|████████  | 614/760 [16:53<02:18,  1.05it/s]"
     ]
    },
    {
     "name": "stdout",
     "output_type": "stream",
     "text": [
      "num_in=896, num_out=256, batch_size=1\n"
     ]
    },
    {
     "name": "stderr",
     "output_type": "stream",
     "text": [
      " 81%|████████  | 615/760 [16:56<03:05,  1.28s/it]"
     ]
    },
    {
     "name": "stdout",
     "output_type": "stream",
     "text": [
      "num_in=512, num_out=320, batch_size=1\n"
     ]
    },
    {
     "name": "stderr",
     "output_type": "stream",
     "text": [
      " 81%|████████▏ | 619/760 [16:59<02:02,  1.15it/s]"
     ]
    },
    {
     "name": "stdout",
     "output_type": "stream",
     "text": [
      "num_in=256, num_out=512, batch_size=1\n",
      "num_in=128, num_out=384, batch_size=1\n",
      "num_in=256, num_out=128, batch_size=1\n",
      "num_in=768, num_out=64, batch_size=1\n"
     ]
    },
    {
     "name": "stderr",
     "output_type": "stream",
     "text": [
      " 82%|████████▏ | 620/760 [16:59<01:55,  1.21it/s]"
     ]
    },
    {
     "name": "stdout",
     "output_type": "stream",
     "text": [
      "num_in=384, num_out=64, batch_size=4\n"
     ]
    },
    {
     "name": "stderr",
     "output_type": "stream",
     "text": [
      " 82%|████████▏ | 621/760 [17:00<01:52,  1.24it/s]"
     ]
    },
    {
     "name": "stdout",
     "output_type": "stream",
     "text": [
      "num_in=1024, num_out=64, batch_size=1\n"
     ]
    },
    {
     "name": "stderr",
     "output_type": "stream",
     "text": [
      " 82%|████████▏ | 622/760 [17:01<01:47,  1.28it/s]"
     ]
    },
    {
     "name": "stdout",
     "output_type": "stream",
     "text": [
      "num_in=768, num_out=192, batch_size=1\n"
     ]
    },
    {
     "name": "stderr",
     "output_type": "stream",
     "text": [
      " 82%|████████▏ | 625/760 [17:03<01:27,  1.55it/s]"
     ]
    },
    {
     "name": "stdout",
     "output_type": "stream",
     "text": [
      "num_in=1024, num_out=512, batch_size=1\n",
      "num_in=128, num_out=192, batch_size=1\n",
      "num_in=512, num_out=192, batch_size=1\n"
     ]
    },
    {
     "name": "stderr",
     "output_type": "stream",
     "text": [
      " 82%|████████▏ | 626/760 [17:05<02:03,  1.09it/s]"
     ]
    },
    {
     "name": "stdout",
     "output_type": "stream",
     "text": [
      "num_in=768, num_out=128, batch_size=1\n"
     ]
    },
    {
     "name": "stderr",
     "output_type": "stream",
     "text": [
      " 82%|████████▎ | 627/760 [17:06<02:13,  1.00s/it]"
     ]
    },
    {
     "name": "stdout",
     "output_type": "stream",
     "text": [
      "num_in=896, num_out=192, batch_size=1\n"
     ]
    },
    {
     "name": "stderr",
     "output_type": "stream",
     "text": [
      " 83%|████████▎ | 628/760 [17:08<02:42,  1.23s/it]"
     ]
    },
    {
     "name": "stdout",
     "output_type": "stream",
     "text": [
      "num_in=1024, num_out=256, batch_size=1\n",
      "num_in=1024, num_out=64, batch_size=1\n"
     ]
    },
    {
     "name": "stderr",
     "output_type": "stream",
     "text": [
      " 83%|████████▎ | 630/760 [17:09<01:52,  1.15it/s]"
     ]
    },
    {
     "name": "stdout",
     "output_type": "stream",
     "text": [
      "num_in=1024, num_out=320, batch_size=1\n"
     ]
    },
    {
     "name": "stderr",
     "output_type": "stream",
     "text": [
      " 83%|████████▎ | 631/760 [17:12<02:58,  1.39s/it]"
     ]
    },
    {
     "name": "stdout",
     "output_type": "stream",
     "text": [
      "num_in=384, num_out=384, batch_size=1\n"
     ]
    },
    {
     "name": "stderr",
     "output_type": "stream",
     "text": [
      " 84%|████████▎ | 635/760 [17:15<02:01,  1.03it/s]"
     ]
    },
    {
     "name": "stdout",
     "output_type": "stream",
     "text": [
      "num_in=256, num_out=192, batch_size=1\n",
      "num_in=256, num_out=256, batch_size=1\n",
      "num_in=1024, num_out=320, batch_size=1\n",
      "num_in=128, num_out=64, batch_size=4\n"
     ]
    },
    {
     "name": "stderr",
     "output_type": "stream",
     "text": [
      " 84%|████████▍ | 637/760 [17:16<01:23,  1.48it/s]"
     ]
    },
    {
     "name": "stdout",
     "output_type": "stream",
     "text": [
      "num_in=1024, num_out=192, batch_size=1\n",
      "num_in=1024, num_out=192, batch_size=1\n"
     ]
    },
    {
     "name": "stderr",
     "output_type": "stream",
     "text": [
      " 84%|████████▍ | 638/760 [17:18<01:50,  1.10it/s]"
     ]
    },
    {
     "name": "stdout",
     "output_type": "stream",
     "text": [
      "num_in=256, num_out=320, batch_size=1\n",
      "num_in=1024, num_out=512, batch_size=1\n"
     ]
    },
    {
     "name": "stderr",
     "output_type": "stream",
     "text": [
      " 84%|████████▍ | 640/760 [17:22<02:54,  1.46s/it]"
     ]
    },
    {
     "name": "stdout",
     "output_type": "stream",
     "text": [
      "num_in=640, num_out=512, batch_size=1\n"
     ]
    },
    {
     "name": "stderr",
     "output_type": "stream",
     "text": [
      " 84%|████████▍ | 641/760 [17:27<04:15,  2.14s/it]"
     ]
    },
    {
     "name": "stdout",
     "output_type": "stream",
     "text": [
      "num_in=384, num_out=320, batch_size=1\n"
     ]
    },
    {
     "name": "stderr",
     "output_type": "stream",
     "text": [
      " 84%|████████▍ | 642/760 [17:30<04:36,  2.35s/it]"
     ]
    },
    {
     "name": "stdout",
     "output_type": "stream",
     "text": [
      "num_in=768, num_out=64, batch_size=1\n"
     ]
    },
    {
     "name": "stderr",
     "output_type": "stream",
     "text": [
      " 85%|████████▍ | 643/760 [17:31<03:46,  1.94s/it]"
     ]
    },
    {
     "name": "stdout",
     "output_type": "stream",
     "text": [
      "num_in=256, num_out=64, batch_size=4\n",
      "num_in=512, num_out=64, batch_size=1\n"
     ]
    },
    {
     "name": "stderr",
     "output_type": "stream",
     "text": [
      " 85%|████████▍ | 645/760 [17:32<02:29,  1.30s/it]"
     ]
    },
    {
     "name": "stdout",
     "output_type": "stream",
     "text": [
      "num_in=1024, num_out=256, batch_size=1\n",
      "num_in=896, num_out=64, batch_size=1\n"
     ]
    },
    {
     "name": "stderr",
     "output_type": "stream",
     "text": [
      " 85%|████████▌ | 647/760 [17:33<01:48,  1.04it/s]"
     ]
    },
    {
     "name": "stdout",
     "output_type": "stream",
     "text": [
      "num_in=128, num_out=320, batch_size=1\n",
      "num_in=512, num_out=320, batch_size=1\n"
     ]
    },
    {
     "name": "stderr",
     "output_type": "stream",
     "text": [
      " 86%|████████▌ | 651/760 [17:36<01:27,  1.25it/s]"
     ]
    },
    {
     "name": "stdout",
     "output_type": "stream",
     "text": [
      "num_in=1024, num_out=320, batch_size=1\n",
      "num_in=256, num_out=320, batch_size=1\n",
      "num_in=640, num_out=512, batch_size=1\n"
     ]
    },
    {
     "name": "stderr",
     "output_type": "stream",
     "text": [
      " 86%|████████▌ | 652/760 [17:41<02:50,  1.57s/it]"
     ]
    },
    {
     "name": "stdout",
     "output_type": "stream",
     "text": [
      "num_in=1024, num_out=256, batch_size=1\n"
     ]
    },
    {
     "name": "stderr",
     "output_type": "stream",
     "text": [
      " 86%|████████▌ | 653/760 [17:43<03:09,  1.77s/it]"
     ]
    },
    {
     "name": "stdout",
     "output_type": "stream",
     "text": [
      "num_in=512, num_out=384, batch_size=1\n"
     ]
    },
    {
     "name": "stderr",
     "output_type": "stream",
     "text": [
      " 86%|████████▌ | 654/760 [17:47<03:54,  2.21s/it]"
     ]
    },
    {
     "name": "stdout",
     "output_type": "stream",
     "text": [
      "num_in=256, num_out=64, batch_size=1\n",
      "num_in=512, num_out=256, batch_size=1\n"
     ]
    },
    {
     "name": "stderr",
     "output_type": "stream",
     "text": [
      " 86%|████████▋ | 656/760 [17:49<03:09,  1.82s/it]"
     ]
    },
    {
     "name": "stdout",
     "output_type": "stream",
     "text": [
      "num_in=768, num_out=128, batch_size=1\n"
     ]
    },
    {
     "name": "stderr",
     "output_type": "stream",
     "text": [
      " 86%|████████▋ | 657/760 [17:50<02:54,  1.70s/it]"
     ]
    },
    {
     "name": "stdout",
     "output_type": "stream",
     "text": [
      "num_in=384, num_out=192, batch_size=1\n"
     ]
    },
    {
     "name": "stderr",
     "output_type": "stream",
     "text": [
      " 87%|████████▋ | 658/760 [17:52<02:56,  1.73s/it]"
     ]
    },
    {
     "name": "stdout",
     "output_type": "stream",
     "text": [
      "num_in=896, num_out=128, batch_size=1\n"
     ]
    },
    {
     "name": "stderr",
     "output_type": "stream",
     "text": [
      " 87%|████████▋ | 659/760 [17:54<02:42,  1.61s/it]"
     ]
    },
    {
     "name": "stdout",
     "output_type": "stream",
     "text": [
      "num_in=384, num_out=128, batch_size=4\n"
     ]
    },
    {
     "name": "stderr",
     "output_type": "stream",
     "text": [
      " 87%|████████▋ | 660/760 [17:55<02:35,  1.55s/it]"
     ]
    },
    {
     "name": "stdout",
     "output_type": "stream",
     "text": [
      "num_in=384, num_out=256, batch_size=1\n"
     ]
    },
    {
     "name": "stderr",
     "output_type": "stream",
     "text": [
      " 87%|████████▋ | 661/760 [17:57<02:58,  1.80s/it]"
     ]
    },
    {
     "name": "stdout",
     "output_type": "stream",
     "text": [
      "num_in=768, num_out=192, batch_size=1\n"
     ]
    },
    {
     "name": "stderr",
     "output_type": "stream",
     "text": [
      " 87%|████████▋ | 662/760 [17:59<02:58,  1.82s/it]"
     ]
    },
    {
     "name": "stdout",
     "output_type": "stream",
     "text": [
      "num_in=512, num_out=448, batch_size=1\n"
     ]
    },
    {
     "name": "stderr",
     "output_type": "stream",
     "text": [
      " 87%|████████▋ | 663/760 [18:04<04:04,  2.52s/it]"
     ]
    },
    {
     "name": "stdout",
     "output_type": "stream",
     "text": [
      "num_in=896, num_out=512, batch_size=1\n"
     ]
    },
    {
     "name": "stderr",
     "output_type": "stream",
     "text": [
      " 87%|████████▋ | 664/760 [18:08<05:07,  3.20s/it]"
     ]
    },
    {
     "name": "stdout",
     "output_type": "stream",
     "text": [
      "num_in=128, num_out=128, batch_size=1\n",
      "num_in=384, num_out=128, batch_size=4\n"
     ]
    },
    {
     "name": "stderr",
     "output_type": "stream",
     "text": [
      " 88%|████████▊ | 666/760 [18:10<03:15,  2.07s/it]"
     ]
    },
    {
     "name": "stdout",
     "output_type": "stream",
     "text": [
      "num_in=768, num_out=64, batch_size=1\n"
     ]
    },
    {
     "name": "stderr",
     "output_type": "stream",
     "text": [
      " 88%|████████▊ | 669/760 [18:11<01:35,  1.05s/it]"
     ]
    },
    {
     "name": "stdout",
     "output_type": "stream",
     "text": [
      "num_in=128, num_out=256, batch_size=4\n",
      "num_in=128, num_out=256, batch_size=4\n",
      "num_in=128, num_out=384, batch_size=4\n",
      "num_in=128, num_out=512, batch_size=1\n"
     ]
    },
    {
     "name": "stderr",
     "output_type": "stream",
     "text": [
      " 89%|████████▊ | 673/760 [18:11<00:40,  2.14it/s]"
     ]
    },
    {
     "name": "stdout",
     "output_type": "stream",
     "text": [
      "num_in=128, num_out=128, batch_size=4\n",
      "num_in=256, num_out=256, batch_size=4\n",
      "num_in=640, num_out=448, batch_size=1\n",
      "num_in=768, num_out=448, batch_size=1\n"
     ]
    },
    {
     "name": "stderr",
     "output_type": "stream",
     "text": [
      " 89%|████████▉ | 675/760 [18:19<02:26,  1.72s/it]"
     ]
    },
    {
     "name": "stdout",
     "output_type": "stream",
     "text": [
      "num_in=640, num_out=256, batch_size=1\n"
     ]
    },
    {
     "name": "stderr",
     "output_type": "stream",
     "text": [
      " 89%|████████▉ | 676/760 [18:22<02:36,  1.86s/it]"
     ]
    },
    {
     "name": "stdout",
     "output_type": "stream",
     "text": [
      "num_in=512, num_out=448, batch_size=1\n"
     ]
    },
    {
     "name": "stderr",
     "output_type": "stream",
     "text": [
      " 89%|████████▉ | 677/760 [18:26<03:17,  2.38s/it]"
     ]
    },
    {
     "name": "stdout",
     "output_type": "stream",
     "text": [
      "num_in=384, num_out=512, batch_size=1\n"
     ]
    },
    {
     "name": "stderr",
     "output_type": "stream",
     "text": [
      " 89%|████████▉ | 678/760 [18:31<04:02,  2.95s/it]"
     ]
    },
    {
     "name": "stdout",
     "output_type": "stream",
     "text": [
      "num_in=896, num_out=192, batch_size=1\n"
     ]
    },
    {
     "name": "stderr",
     "output_type": "stream",
     "text": [
      " 89%|████████▉ | 679/760 [18:33<03:36,  2.68s/it]"
     ]
    },
    {
     "name": "stdout",
     "output_type": "stream",
     "text": [
      "num_in=768, num_out=192, batch_size=1\n"
     ]
    },
    {
     "name": "stderr",
     "output_type": "stream",
     "text": [
      " 89%|████████▉ | 680/760 [18:35<03:17,  2.46s/it]"
     ]
    },
    {
     "name": "stdout",
     "output_type": "stream",
     "text": [
      "num_in=640, num_out=64, batch_size=1\n"
     ]
    },
    {
     "name": "stderr",
     "output_type": "stream",
     "text": [
      " 90%|████████▉ | 681/760 [18:35<02:35,  1.97s/it]"
     ]
    },
    {
     "name": "stdout",
     "output_type": "stream",
     "text": [
      "num_in=512, num_out=448, batch_size=1\n"
     ]
    },
    {
     "name": "stderr",
     "output_type": "stream",
     "text": [
      " 90%|████████▉ | 682/760 [18:39<03:21,  2.58s/it]"
     ]
    },
    {
     "name": "stdout",
     "output_type": "stream",
     "text": [
      "num_in=896, num_out=192, batch_size=1\n"
     ]
    },
    {
     "name": "stderr",
     "output_type": "stream",
     "text": [
      " 90%|████████▉ | 683/760 [18:41<03:02,  2.37s/it]"
     ]
    },
    {
     "name": "stdout",
     "output_type": "stream",
     "text": [
      "num_in=896, num_out=320, batch_size=1\n"
     ]
    },
    {
     "name": "stderr",
     "output_type": "stream",
     "text": [
      " 90%|█████████ | 684/760 [18:44<03:15,  2.58s/it]"
     ]
    },
    {
     "name": "stdout",
     "output_type": "stream",
     "text": [
      "num_in=640, num_out=320, batch_size=1\n"
     ]
    },
    {
     "name": "stderr",
     "output_type": "stream",
     "text": [
      " 90%|█████████ | 685/760 [18:47<03:23,  2.72s/it]"
     ]
    },
    {
     "name": "stdout",
     "output_type": "stream",
     "text": [
      "num_in=640, num_out=192, batch_size=1\n"
     ]
    },
    {
     "name": "stderr",
     "output_type": "stream",
     "text": [
      " 90%|█████████ | 686/760 [18:49<03:02,  2.46s/it]"
     ]
    },
    {
     "name": "stdout",
     "output_type": "stream",
     "text": [
      "num_in=640, num_out=384, batch_size=1\n"
     ]
    },
    {
     "name": "stderr",
     "output_type": "stream",
     "text": [
      " 91%|█████████ | 689/760 [18:53<01:50,  1.55s/it]"
     ]
    },
    {
     "name": "stdout",
     "output_type": "stream",
     "text": [
      "num_in=128, num_out=128, batch_size=4\n",
      "num_in=128, num_out=320, batch_size=1\n",
      "num_in=256, num_out=256, batch_size=1\n",
      "num_in=1024, num_out=448, batch_size=1\n"
     ]
    },
    {
     "name": "stderr",
     "output_type": "stream",
     "text": [
      " 91%|█████████ | 691/760 [18:57<02:03,  1.79s/it]"
     ]
    },
    {
     "name": "stdout",
     "output_type": "stream",
     "text": [
      "num_in=640, num_out=448, batch_size=1\n"
     ]
    },
    {
     "name": "stderr",
     "output_type": "stream",
     "text": [
      " 91%|█████████ | 692/760 [19:02<02:38,  2.34s/it]"
     ]
    },
    {
     "name": "stdout",
     "output_type": "stream",
     "text": [
      "num_in=256, num_out=64, batch_size=1\n",
      "num_in=512, num_out=64, batch_size=1\n"
     ]
    },
    {
     "name": "stderr",
     "output_type": "stream",
     "text": [
      " 91%|█████████▏| 694/760 [19:02<01:43,  1.57s/it]"
     ]
    },
    {
     "name": "stdout",
     "output_type": "stream",
     "text": [
      "num_in=128, num_out=192, batch_size=1\n",
      "num_in=384, num_out=64, batch_size=1\n"
     ]
    },
    {
     "name": "stderr",
     "output_type": "stream",
     "text": [
      " 92%|█████████▏| 699/760 [19:03<00:40,  1.52it/s]"
     ]
    },
    {
     "name": "stdout",
     "output_type": "stream",
     "text": [
      "num_in=128, num_out=512, batch_size=1\n",
      "num_in=128, num_out=64, batch_size=1\n",
      "num_in=128, num_out=320, batch_size=1\n",
      "num_in=1024, num_out=448, batch_size=1\n"
     ]
    },
    {
     "name": "stderr",
     "output_type": "stream",
     "text": [
      " 92%|█████████▏| 701/760 [19:08<01:04,  1.10s/it]"
     ]
    },
    {
     "name": "stdout",
     "output_type": "stream",
     "text": [
      "num_in=256, num_out=256, batch_size=1\n",
      "num_in=384, num_out=64, batch_size=4\n"
     ]
    },
    {
     "name": "stderr",
     "output_type": "stream",
     "text": [
      " 92%|█████████▏| 702/760 [19:08<00:59,  1.03s/it]"
     ]
    },
    {
     "name": "stdout",
     "output_type": "stream",
     "text": [
      "num_in=512, num_out=384, batch_size=1\n"
     ]
    },
    {
     "name": "stderr",
     "output_type": "stream",
     "text": [
      " 92%|█████████▎| 703/760 [19:12<01:28,  1.55s/it]"
     ]
    },
    {
     "name": "stdout",
     "output_type": "stream",
     "text": [
      "num_in=512, num_out=512, batch_size=1\n"
     ]
    },
    {
     "name": "stderr",
     "output_type": "stream",
     "text": [
      " 93%|█████████▎| 704/760 [19:17<02:07,  2.28s/it]"
     ]
    },
    {
     "name": "stdout",
     "output_type": "stream",
     "text": [
      "num_in=640, num_out=384, batch_size=1\n"
     ]
    },
    {
     "name": "stderr",
     "output_type": "stream",
     "text": [
      " 93%|█████████▎| 705/760 [19:20<02:23,  2.61s/it]"
     ]
    },
    {
     "name": "stdout",
     "output_type": "stream",
     "text": [
      "num_in=1024, num_out=192, batch_size=1\n"
     ]
    },
    {
     "name": "stderr",
     "output_type": "stream",
     "text": [
      " 93%|█████████▎| 706/760 [19:22<02:10,  2.42s/it]"
     ]
    },
    {
     "name": "stdout",
     "output_type": "stream",
     "text": [
      "num_in=384, num_out=128, batch_size=4\n"
     ]
    },
    {
     "name": "stderr",
     "output_type": "stream",
     "text": [
      " 93%|█████████▎| 707/760 [19:24<01:53,  2.15s/it]"
     ]
    },
    {
     "name": "stdout",
     "output_type": "stream",
     "text": [
      "num_in=640, num_out=256, batch_size=1\n"
     ]
    },
    {
     "name": "stderr",
     "output_type": "stream",
     "text": [
      " 93%|█████████▎| 708/760 [19:26<01:56,  2.24s/it]"
     ]
    },
    {
     "name": "stdout",
     "output_type": "stream",
     "text": [
      "num_in=1024, num_out=512, batch_size=1\n"
     ]
    },
    {
     "name": "stderr",
     "output_type": "stream",
     "text": [
      " 93%|█████████▎| 709/760 [19:31<02:32,  2.98s/it]"
     ]
    },
    {
     "name": "stdout",
     "output_type": "stream",
     "text": [
      "num_in=1024, num_out=256, batch_size=1\n",
      "num_in=640, num_out=256, batch_size=1\n"
     ]
    },
    {
     "name": "stderr",
     "output_type": "stream",
     "text": [
      " 94%|█████████▎| 711/760 [19:34<01:48,  2.22s/it]"
     ]
    },
    {
     "name": "stdout",
     "output_type": "stream",
     "text": [
      "num_in=512, num_out=256, batch_size=1\n"
     ]
    },
    {
     "name": "stderr",
     "output_type": "stream",
     "text": [
      " 94%|█████████▎| 712/760 [19:36<01:49,  2.28s/it]"
     ]
    },
    {
     "name": "stdout",
     "output_type": "stream",
     "text": [
      "num_in=896, num_out=64, batch_size=1\n"
     ]
    },
    {
     "name": "stderr",
     "output_type": "stream",
     "text": [
      " 94%|█████████▍| 713/760 [19:37<01:27,  1.86s/it]"
     ]
    },
    {
     "name": "stdout",
     "output_type": "stream",
     "text": [
      "num_in=128, num_out=256, batch_size=1\n",
      "num_in=640, num_out=512, batch_size=1\n"
     ]
    },
    {
     "name": "stderr",
     "output_type": "stream",
     "text": [
      " 94%|█████████▍| 715/760 [19:42<01:34,  2.11s/it]"
     ]
    },
    {
     "name": "stdout",
     "output_type": "stream",
     "text": [
      "num_in=768, num_out=192, batch_size=1\n"
     ]
    },
    {
     "name": "stderr",
     "output_type": "stream",
     "text": [
      " 94%|█████████▍| 716/760 [19:43<01:30,  2.05s/it]"
     ]
    },
    {
     "name": "stdout",
     "output_type": "stream",
     "text": [
      "num_in=896, num_out=128, batch_size=1\n"
     ]
    },
    {
     "name": "stderr",
     "output_type": "stream",
     "text": [
      " 94%|█████████▍| 717/760 [19:45<01:19,  1.86s/it]"
     ]
    },
    {
     "name": "stdout",
     "output_type": "stream",
     "text": [
      "num_in=256, num_out=320, batch_size=1\n",
      "num_in=1024, num_out=128, batch_size=1\n"
     ]
    },
    {
     "name": "stderr",
     "output_type": "stream",
     "text": [
      " 95%|█████████▍| 719/760 [19:46<00:55,  1.36s/it]"
     ]
    },
    {
     "name": "stdout",
     "output_type": "stream",
     "text": [
      "num_in=1024, num_out=448, batch_size=1\n",
      "num_in=640, num_out=320, batch_size=1\n"
     ]
    },
    {
     "name": "stderr",
     "output_type": "stream",
     "text": [
      " 95%|█████████▍| 721/760 [19:49<00:56,  1.44s/it]"
     ]
    },
    {
     "name": "stdout",
     "output_type": "stream",
     "text": [
      "num_in=128, num_out=128, batch_size=4\n",
      "num_in=384, num_out=64, batch_size=1\n"
     ]
    },
    {
     "name": "stderr",
     "output_type": "stream",
     "text": [
      " 95%|█████████▌| 723/760 [19:50<00:39,  1.06s/it]"
     ]
    },
    {
     "name": "stdout",
     "output_type": "stream",
     "text": [
      "num_in=640, num_out=512, batch_size=1\n"
     ]
    },
    {
     "name": "stderr",
     "output_type": "stream",
     "text": [
      " 96%|█████████▌| 727/760 [19:55<00:33,  1.01s/it]"
     ]
    },
    {
     "name": "stdout",
     "output_type": "stream",
     "text": [
      "num_in=128, num_out=128, batch_size=1\n",
      "num_in=128, num_out=384, batch_size=1\n",
      "num_in=256, num_out=64, batch_size=4\n",
      "num_in=128, num_out=64, batch_size=1\n",
      "num_in=640, num_out=256, batch_size=1\n"
     ]
    },
    {
     "name": "stderr",
     "output_type": "stream",
     "text": [
      " 96%|█████████▌| 729/760 [19:57<00:33,  1.08s/it]"
     ]
    },
    {
     "name": "stdout",
     "output_type": "stream",
     "text": [
      "num_in=512, num_out=448, batch_size=1\n"
     ]
    },
    {
     "name": "stderr",
     "output_type": "stream",
     "text": [
      " 96%|█████████▌| 730/760 [20:02<00:49,  1.65s/it]"
     ]
    },
    {
     "name": "stdout",
     "output_type": "stream",
     "text": [
      "num_in=256, num_out=512, batch_size=1\n",
      "num_in=896, num_out=320, batch_size=1\n"
     ]
    },
    {
     "name": "stderr",
     "output_type": "stream",
     "text": [
      " 96%|█████████▋| 732/760 [20:05<00:45,  1.61s/it]"
     ]
    },
    {
     "name": "stdout",
     "output_type": "stream",
     "text": [
      "num_in=768, num_out=320, batch_size=1\n"
     ]
    },
    {
     "name": "stderr",
     "output_type": "stream",
     "text": [
      " 96%|█████████▋| 733/760 [20:08<00:51,  1.90s/it]"
     ]
    },
    {
     "name": "stdout",
     "output_type": "stream",
     "text": [
      "num_in=384, num_out=64, batch_size=4\n"
     ]
    },
    {
     "name": "stderr",
     "output_type": "stream",
     "text": [
      " 97%|█████████▋| 734/760 [20:09<00:42,  1.65s/it]"
     ]
    },
    {
     "name": "stdout",
     "output_type": "stream",
     "text": [
      "num_in=768, num_out=384, batch_size=1\n"
     ]
    },
    {
     "name": "stderr",
     "output_type": "stream",
     "text": [
      " 97%|█████████▋| 735/760 [20:12<00:53,  2.13s/it]"
     ]
    },
    {
     "name": "stdout",
     "output_type": "stream",
     "text": [
      "num_in=128, num_out=384, batch_size=4\n",
      "num_in=384, num_out=320, batch_size=1\n"
     ]
    },
    {
     "name": "stderr",
     "output_type": "stream",
     "text": [
      " 97%|█████████▋| 737/760 [20:15<00:43,  1.90s/it]"
     ]
    },
    {
     "name": "stdout",
     "output_type": "stream",
     "text": [
      "num_in=128, num_out=384, batch_size=4\n",
      "num_in=384, num_out=64, batch_size=1\n"
     ]
    },
    {
     "name": "stderr",
     "output_type": "stream",
     "text": [
      " 97%|█████████▋| 739/760 [20:16<00:27,  1.33s/it]"
     ]
    },
    {
     "name": "stdout",
     "output_type": "stream",
     "text": [
      "num_in=256, num_out=448, batch_size=1\n",
      "num_in=512, num_out=512, batch_size=1\n"
     ]
    },
    {
     "name": "stderr",
     "output_type": "stream",
     "text": [
      " 98%|█████████▊| 741/760 [20:21<00:32,  1.71s/it]"
     ]
    },
    {
     "name": "stdout",
     "output_type": "stream",
     "text": [
      "num_in=384, num_out=64, batch_size=1\n"
     ]
    },
    {
     "name": "stderr",
     "output_type": "stream",
     "text": [
      " 98%|█████████▊| 742/760 [20:22<00:27,  1.50s/it]"
     ]
    },
    {
     "name": "stdout",
     "output_type": "stream",
     "text": [
      "num_in=1024, num_out=128, batch_size=1\n"
     ]
    },
    {
     "name": "stderr",
     "output_type": "stream",
     "text": [
      " 98%|█████████▊| 743/760 [20:23<00:24,  1.45s/it]"
     ]
    },
    {
     "name": "stdout",
     "output_type": "stream",
     "text": [
      "num_in=384, num_out=128, batch_size=1\n"
     ]
    },
    {
     "name": "stderr",
     "output_type": "stream",
     "text": [
      " 98%|█████████▊| 744/760 [20:24<00:22,  1.40s/it]"
     ]
    },
    {
     "name": "stdout",
     "output_type": "stream",
     "text": [
      "num_in=256, num_out=192, batch_size=1\n",
      "num_in=256, num_out=64, batch_size=1\n",
      "num_in=896, num_out=64, batch_size=1\n"
     ]
    },
    {
     "name": "stderr",
     "output_type": "stream",
     "text": [
      " 98%|█████████▊| 747/760 [20:25<00:10,  1.22it/s]"
     ]
    },
    {
     "name": "stdout",
     "output_type": "stream",
     "text": [
      "num_in=512, num_out=128, batch_size=1\n"
     ]
    },
    {
     "name": "stderr",
     "output_type": "stream",
     "text": [
      " 99%|█████████▊| 750/760 [20:26<00:06,  1.66it/s]"
     ]
    },
    {
     "name": "stdout",
     "output_type": "stream",
     "text": [
      "num_in=128, num_out=64, batch_size=4\n",
      "num_in=256, num_out=448, batch_size=1\n",
      "num_in=768, num_out=64, batch_size=1\n"
     ]
    },
    {
     "name": "stderr",
     "output_type": "stream",
     "text": [
      " 99%|█████████▉| 751/760 [20:27<00:05,  1.64it/s]"
     ]
    },
    {
     "name": "stdout",
     "output_type": "stream",
     "text": [
      "num_in=256, num_out=256, batch_size=1\n",
      "num_in=896, num_out=192, batch_size=1\n"
     ]
    },
    {
     "name": "stderr",
     "output_type": "stream",
     "text": [
      " 99%|█████████▉| 753/760 [20:29<00:05,  1.35it/s]"
     ]
    },
    {
     "name": "stdout",
     "output_type": "stream",
     "text": [
      "num_in=640, num_out=192, batch_size=1\n"
     ]
    },
    {
     "name": "stderr",
     "output_type": "stream",
     "text": [
      " 99%|█████████▉| 756/760 [20:31<00:02,  1.57it/s]"
     ]
    },
    {
     "name": "stdout",
     "output_type": "stream",
     "text": [
      "num_in=256, num_out=64, batch_size=4\n",
      "num_in=256, num_out=192, batch_size=1\n",
      "num_in=384, num_out=320, batch_size=1\n"
     ]
    },
    {
     "name": "stderr",
     "output_type": "stream",
     "text": [
      "100%|█████████▉| 757/760 [20:34<00:03,  1.14s/it]"
     ]
    },
    {
     "name": "stdout",
     "output_type": "stream",
     "text": [
      "num_in=384, num_out=512, batch_size=1\n"
     ]
    },
    {
     "name": "stderr",
     "output_type": "stream",
     "text": [
      "100%|█████████▉| 758/760 [20:39<00:04,  2.00s/it]"
     ]
    },
    {
     "name": "stdout",
     "output_type": "stream",
     "text": [
      "num_in=384, num_out=256, batch_size=1\n"
     ]
    },
    {
     "name": "stderr",
     "output_type": "stream",
     "text": [
      "100%|█████████▉| 759/760 [20:41<00:02,  2.11s/it]"
     ]
    },
    {
     "name": "stdout",
     "output_type": "stream",
     "text": [
      "num_in=768, num_out=192, batch_size=1\n"
     ]
    },
    {
     "name": "stderr",
     "output_type": "stream",
     "text": [
      "100%|██████████| 760/760 [20:43<00:00,  1.64s/it]\n"
     ]
    }
   ],
   "source": [
    "LIMIT = 2048\n",
    "device = gpu\n",
    "bench_tokens_in = range(128, 1025, 128)\n",
    "bench_tokens_out = range(64, 513, 64)\n",
    "bench_batch_size = [1, 4, 16]\n",
    "n_iter = 10\n",
    "b = benchmark(sample, bench_tokens_in, bench_tokens_out, bench_batch_size, n_iter)"
   ]
  },
  {
   "cell_type": "code",
   "execution_count": 73,
   "id": "d4ef3b22-e7d2-4159-85d6-6bd7256aafcf",
   "metadata": {},
   "outputs": [],
   "source": [
    "from collections import defaultdict\n",
    "import numpy as np\n",
    "\n",
    "def tps(n_in, n_out, samples):\n",
    "    return round(np.mean([n_out/s for s in samples]), 1)\n",
    "\n",
    "def avg(n_in, n_out, samples):\n",
    "    return round(np.mean(samples), 2)\n",
    "\n",
    "def print_bench(b, bench_batch_size=bench_batch_size, bench_tokens_in=bench_tokens_in, bench_tokens_out=bench_tokens_out, aggregate=avg):\n",
    "    b.sort()\n",
    "    \n",
    "    for current_size in bench_batch_size:\n",
    "        \n",
    "        print('-'*60)\n",
    "        print(f'parallel generations: {current_size}')\n",
    "    \n",
    "        data = defaultdict(list)\n",
    "        for n_in, n_out, b_size, _, timing in b:\n",
    "            if b_size == current_size:\n",
    "                data[(n_in, n_out)].append(timing)\n",
    "                \n",
    "        print('in\\tout')\n",
    "        line = '\\t'\n",
    "        for n_out in bench_tokens_out:\n",
    "            line += str(n_out) + '\\t'\n",
    "        print(line)\n",
    "        for n_in in bench_tokens_in:\n",
    "            line = str(n_in) + '\\t'\n",
    "            for n_out in bench_tokens_out:\n",
    "                samples = data.get((n_in, n_out), None)\n",
    "                if samples:\n",
    "                    line += str(aggregate(n_in, n_out, samples)) + '\\t'\n",
    "                else:\n",
    "                    line += '--\\t'\n",
    "            print(line)\n",
    "\n"
   ]
  },
  {
   "cell_type": "code",
   "execution_count": 76,
   "id": "1da313ec-ca28-416c-b505-6fe7211de1f9",
   "metadata": {},
   "outputs": [
    {
     "name": "stdout",
     "output_type": "stream",
     "text": [
      "------------------------------------------------------------\n",
      "parallel generations: 1\n",
      "in\tout\n",
      "\t64\t128\t192\t256\t320\t384\t448\t512\t\n",
      "128\t0.02\t0.02\t0.02\t0.02\t0.02\t0.02\t0.02\t0.02\t\n",
      "256\t0.03\t0.03\t0.03\t0.03\t0.03\t0.03\t0.03\t0.03\t\n",
      "384\t0.61\t1.2\t1.8\t2.4\t3.0\t3.57\t4.17\t4.79\t\n",
      "512\t0.61\t1.21\t1.8\t2.41\t3.0\t3.6\t4.19\t4.77\t\n",
      "640\t0.62\t1.22\t1.81\t2.41\t3.0\t3.61\t4.2\t4.8\t\n",
      "768\t0.63\t1.22\t1.83\t2.41\t3.01\t3.6\t4.2\t4.8\t\n",
      "896\t0.63\t1.23\t1.83\t2.42\t2.91\t3.61\t4.03\t4.56\t\n",
      "1024\t0.46\t0.76\t0.77\t1.0\t0.65\t2.19\t3.38\t2.44\t\n",
      "------------------------------------------------------------\n",
      "parallel generations: 4\n",
      "in\tout\n",
      "\t64\t128\t192\t256\t320\t384\t448\t512\t\n",
      "128\t0.04\t0.04\t0.04\t0.04\t0.04\t0.04\t--\t--\t\n",
      "256\t0.06\t0.06\t0.06\t0.06\t--\t--\t--\t--\t\n",
      "384\t0.71\t1.36\t--\t--\t--\t--\t--\t--\t\n",
      "512\t--\t--\t--\t--\t--\t--\t--\t--\t\n",
      "640\t--\t--\t--\t--\t--\t--\t--\t--\t\n",
      "768\t--\t--\t--\t--\t--\t--\t--\t--\t\n",
      "896\t--\t--\t--\t--\t--\t--\t--\t--\t\n",
      "1024\t--\t--\t--\t--\t--\t--\t--\t--\t\n",
      "------------------------------------------------------------\n",
      "parallel generations: 16\n",
      "in\tout\n",
      "\t64\t128\t192\t256\t320\t384\t448\t512\t\n",
      "128\t--\t--\t--\t--\t--\t--\t--\t--\t\n",
      "256\t--\t--\t--\t--\t--\t--\t--\t--\t\n",
      "384\t--\t--\t--\t--\t--\t--\t--\t--\t\n",
      "512\t--\t--\t--\t--\t--\t--\t--\t--\t\n",
      "640\t--\t--\t--\t--\t--\t--\t--\t--\t\n",
      "768\t--\t--\t--\t--\t--\t--\t--\t--\t\n",
      "896\t--\t--\t--\t--\t--\t--\t--\t--\t\n",
      "1024\t--\t--\t--\t--\t--\t--\t--\t--\t\n"
     ]
    }
   ],
   "source": [
    "# generation times\n",
    "print_bench(b, aggregate=avg)"
   ]
  },
  {
   "cell_type": "code",
   "execution_count": 77,
   "id": "075be2de-c9d1-4155-810e-511115c4dc0b",
   "metadata": {},
   "outputs": [
    {
     "name": "stdout",
     "output_type": "stream",
     "text": [
      "------------------------------------------------------------\n",
      "parallel generations: 1\n",
      "in\tout\n",
      "\t64\t128\t192\t256\t320\t384\t448\t512\t\n",
      "128\t2889.7\t5972.4\t8747.7\t11417.7\t14215.9\t17496.7\t20387.6\t22624.9\t\n",
      "256\t2397.8\t4712.5\t7023.9\t9402.5\t11482.6\t14220.7\t16288.4\t18979.4\t\n",
      "384\t105.0\t106.5\t106.8\t106.8\t106.8\t107.5\t107.4\t106.9\t\n",
      "512\t104.1\t105.8\t106.6\t106.4\t106.5\t106.7\t107.0\t107.4\t\n",
      "640\t103.1\t105.2\t105.9\t106.1\t106.5\t106.5\t106.6\t106.6\t\n",
      "768\t101.8\t104.6\t105.1\t106.2\t106.3\t106.6\t106.8\t106.7\t\n",
      "896\t101.3\t104.5\t105.1\t105.7\t110.6\t106.3\t113.8\t116.8\t\n",
      "1024\t399.3\t932.1\t2000.3\t2633.6\t4386.1\t2715.4\t1606.2\t4457.5\t\n",
      "------------------------------------------------------------\n",
      "parallel generations: 4\n",
      "in\tout\n",
      "\t64\t128\t192\t256\t320\t384\t448\t512\t\n",
      "128\t1662.0\t3326.5\t5035.2\t6537.5\t8244.2\t10053.3\t--\t--\t\n",
      "256\t1092.6\t2185.4\t3289.4\t4365.3\t--\t--\t--\t--\t\n",
      "384\t89.8\t94.0\t--\t--\t--\t--\t--\t--\t\n",
      "512\t--\t--\t--\t--\t--\t--\t--\t--\t\n",
      "640\t--\t--\t--\t--\t--\t--\t--\t--\t\n",
      "768\t--\t--\t--\t--\t--\t--\t--\t--\t\n",
      "896\t--\t--\t--\t--\t--\t--\t--\t--\t\n",
      "1024\t--\t--\t--\t--\t--\t--\t--\t--\t\n",
      "------------------------------------------------------------\n",
      "parallel generations: 16\n",
      "in\tout\n",
      "\t64\t128\t192\t256\t320\t384\t448\t512\t\n",
      "128\t--\t--\t--\t--\t--\t--\t--\t--\t\n",
      "256\t--\t--\t--\t--\t--\t--\t--\t--\t\n",
      "384\t--\t--\t--\t--\t--\t--\t--\t--\t\n",
      "512\t--\t--\t--\t--\t--\t--\t--\t--\t\n",
      "640\t--\t--\t--\t--\t--\t--\t--\t--\t\n",
      "768\t--\t--\t--\t--\t--\t--\t--\t--\t\n",
      "896\t--\t--\t--\t--\t--\t--\t--\t--\t\n",
      "1024\t--\t--\t--\t--\t--\t--\t--\t--\t\n"
     ]
    }
   ],
   "source": [
    "# tokens per second\n",
    "print_bench(b, aggregate=tps)"
   ]
  },
  {
   "cell_type": "code",
   "execution_count": 80,
   "id": "c1888be2-7223-4dc8-9d85-8f9b02afb616",
   "metadata": {},
   "outputs": [
    {
     "data": {
      "text/plain": [
       "106.95"
      ]
     },
     "execution_count": 80,
     "metadata": {},
     "output_type": "execute_result"
    }
   ],
   "source": [
    "# median tokens per second\n",
    "np.median([tps(n_in, n_out, [s]) for n_in, n_out, _, _, s in b])"
   ]
  },
  {
   "cell_type": "code",
   "execution_count": 81,
   "id": "0b16059b-e25b-4214-8de7-dbc1b9eefcfc",
   "metadata": {},
   "outputs": [],
   "source": [
    "# store results\n",
    "import pickle\n",
    "with open('llm-benchmark.pickle', 'wb') as fp:\n",
    "    pickle.dump(b, fp)"
   ]
  },
  {
   "cell_type": "code",
   "execution_count": 69,
   "id": "c096edd2-4d3f-4f4e-836a-4ad08874242c",
   "metadata": {},
   "outputs": [],
   "source": [
    "# reload results\n",
    "with open('llm-benchmark.pickle', 'rb') as fp:\n",
    "    b = pickle.load(fp)"
   ]
  },
  {
   "cell_type": "code",
   "execution_count": 78,
   "id": "02f8d8b9-2ae4-4dac-a373-37e492ec33b4",
   "metadata": {},
   "outputs": [
    {
     "data": {
      "text/plain": [
       "[(128, 64, 1, 0, 0.023736238479614258),\n",
       " (128, 64, 1, 1, 0.0209963321685791),\n",
       " (128, 64, 1, 2, 0.023659467697143555),\n",
       " (128, 64, 1, 3, 0.02104806900024414),\n",
       " (128, 64, 1, 4, 0.023738861083984375),\n",
       " (128, 64, 1, 5, 0.02096724510192871),\n",
       " (128, 64, 1, 6, 0.02392578125),\n",
       " (128, 64, 1, 7, 0.022480487823486328),\n",
       " (128, 64, 1, 8, 0.020773649215698242),\n",
       " (128, 64, 1, 9, 0.020944595336914062),\n",
       " (128, 64, 4, 0, 0.041047096252441406),\n",
       " (128, 64, 4, 1, 0.03752493858337402),\n",
       " (128, 64, 4, 2, 0.03747844696044922),\n",
       " (128, 64, 4, 3, 0.04098820686340332),\n",
       " (128, 64, 4, 4, 0.03745436668395996),\n",
       " (128, 64, 4, 5, 0.03761100769042969),\n",
       " (128, 64, 4, 6, 0.03762030601501465),\n",
       " (128, 64, 4, 7, 0.04076075553894043),\n",
       " (128, 64, 4, 8, 0.03754830360412598),\n",
       " (128, 64, 4, 9, 0.037644147872924805),\n",
       " (128, 128, 1, 0, 0.02371382713317871),\n",
       " (128, 128, 1, 1, 0.020860671997070312),\n",
       " (128, 128, 1, 2, 0.020993947982788086),\n",
       " (128, 128, 1, 3, 0.020980358123779297),\n",
       " (128, 128, 1, 4, 0.021054744720458984),\n",
       " (128, 128, 1, 5, 0.020789384841918945),\n",
       " (128, 128, 1, 6, 0.023671388626098633),\n",
       " (128, 128, 1, 7, 0.0209500789642334),\n",
       " (128, 128, 1, 8, 0.020918607711791992),\n",
       " (128, 128, 1, 9, 0.02091383934020996),\n",
       " (128, 128, 4, 0, 0.03734946250915527),\n",
       " (128, 128, 4, 1, 0.03882551193237305),\n",
       " (128, 128, 4, 2, 0.03758692741394043),\n",
       " (128, 128, 4, 3, 0.04087686538696289),\n",
       " (128, 128, 4, 4, 0.03961992263793945),\n",
       " (128, 128, 4, 5, 0.03764200210571289),\n",
       " (128, 128, 4, 6, 0.03761410713195801),\n",
       " (128, 128, 4, 7, 0.04047131538391113),\n",
       " (128, 128, 4, 8, 0.03760933876037598),\n",
       " (128, 128, 4, 9, 0.03760337829589844),\n",
       " (128, 192, 1, 0, 0.0212399959564209),\n",
       " (128, 192, 1, 1, 0.022069215774536133),\n",
       " (128, 192, 1, 2, 0.020872116088867188),\n",
       " (128, 192, 1, 3, 0.023732900619506836),\n",
       " (128, 192, 1, 4, 0.020946025848388672),\n",
       " (128, 192, 1, 5, 0.02091240882873535),\n",
       " (128, 192, 1, 6, 0.021401405334472656),\n",
       " (128, 192, 1, 7, 0.02178049087524414),\n",
       " (128, 192, 1, 8, 0.023828506469726562),\n",
       " (128, 192, 1, 9, 0.023252487182617188),\n",
       " (128, 192, 4, 0, 0.03755545616149902),\n",
       " (128, 192, 4, 1, 0.03758096694946289),\n",
       " (128, 192, 4, 2, 0.04079294204711914),\n",
       " (128, 192, 4, 3, 0.037992000579833984),\n",
       " (128, 192, 4, 4, 0.03754711151123047),\n",
       " (128, 192, 4, 5, 0.04012012481689453),\n",
       " (128, 192, 4, 6, 0.03762078285217285),\n",
       " (128, 192, 4, 7, 0.03735661506652832),\n",
       " (128, 192, 4, 8, 0.03763079643249512),\n",
       " (128, 192, 4, 9, 0.037461280822753906),\n",
       " (128, 256, 1, 0, 0.020823001861572266),\n",
       " (128, 256, 1, 1, 0.02310466766357422),\n",
       " (128, 256, 1, 2, 0.02377486228942871),\n",
       " (128, 256, 1, 3, 0.023821353912353516),\n",
       " (128, 256, 1, 4, 0.023677825927734375),\n",
       " (128, 256, 1, 5, 0.020882129669189453),\n",
       " (128, 256, 1, 6, 0.020975828170776367),\n",
       " (128, 256, 1, 7, 0.023802995681762695),\n",
       " (128, 256, 1, 8, 0.0225527286529541),\n",
       " (128, 256, 1, 9, 0.02150106430053711),\n",
       " (128, 256, 4, 0, 0.03756284713745117),\n",
       " (128, 256, 4, 1, 0.0403289794921875),\n",
       " (128, 256, 4, 2, 0.04037594795227051),\n",
       " (128, 256, 4, 3, 0.040152788162231445),\n",
       " (128, 256, 4, 4, 0.040451765060424805),\n",
       " (128, 256, 4, 5, 0.0389409065246582),\n",
       " (128, 256, 4, 6, 0.03889036178588867),\n",
       " (128, 256, 4, 7, 0.037489891052246094),\n",
       " (128, 256, 4, 8, 0.04011726379394531),\n",
       " (128, 256, 4, 9, 0.037642478942871094),\n",
       " (128, 320, 1, 0, 0.021330833435058594),\n",
       " (128, 320, 1, 1, 0.0214536190032959),\n",
       " (128, 320, 1, 2, 0.0237882137298584),\n",
       " (128, 320, 1, 3, 0.020921707153320312),\n",
       " (128, 320, 1, 4, 0.023732662200927734),\n",
       " (128, 320, 1, 5, 0.023718595504760742),\n",
       " (128, 320, 1, 6, 0.023677825927734375),\n",
       " (128, 320, 1, 7, 0.021051883697509766),\n",
       " (128, 320, 1, 8, 0.023798465728759766),\n",
       " (128, 320, 1, 9, 0.022288084030151367),\n",
       " (128, 320, 4, 0, 0.0392460823059082),\n",
       " (128, 320, 4, 1, 0.03753042221069336),\n",
       " (128, 320, 4, 2, 0.037566423416137695),\n",
       " (128, 320, 4, 3, 0.04087996482849121),\n",
       " (128, 320, 4, 4, 0.03758978843688965),\n",
       " (128, 320, 4, 5, 0.04015851020812988),\n",
       " (128, 320, 4, 6, 0.03750181198120117),\n",
       " (128, 320, 4, 7, 0.03964877128601074),\n",
       " (128, 320, 4, 8, 0.04086017608642578),\n",
       " (128, 320, 4, 9, 0.03765296936035156),\n",
       " (128, 384, 1, 0, 0.021027803421020508),\n",
       " (128, 384, 1, 1, 0.023316144943237305),\n",
       " (128, 384, 1, 2, 0.021441936492919922),\n",
       " (128, 384, 1, 3, 0.02367997169494629),\n",
       " (128, 384, 1, 4, 0.0209658145904541),\n",
       " (128, 384, 1, 5, 0.02080059051513672),\n",
       " (128, 384, 1, 6, 0.02318286895751953),\n",
       " (128, 384, 1, 7, 0.02102971076965332),\n",
       " (128, 384, 1, 8, 0.023713350296020508),\n",
       " (128, 384, 1, 9, 0.02096390724182129),\n",
       " (128, 384, 4, 0, 0.03757882118225098),\n",
       " (128, 384, 4, 1, 0.037575721740722656),\n",
       " (128, 384, 4, 2, 0.037570953369140625),\n",
       " (128, 384, 4, 3, 0.04038357734680176),\n",
       " (128, 384, 4, 4, 0.03756356239318848),\n",
       " (128, 384, 4, 5, 0.037438154220581055),\n",
       " (128, 384, 4, 6, 0.038146257400512695),\n",
       " (128, 384, 4, 7, 0.04098701477050781),\n",
       " (128, 384, 4, 8, 0.03746914863586426),\n",
       " (128, 384, 4, 9, 0.03763890266418457),\n",
       " (128, 448, 1, 0, 0.023273468017578125),\n",
       " (128, 448, 1, 1, 0.02095484733581543),\n",
       " (128, 448, 1, 2, 0.023793458938598633),\n",
       " (128, 448, 1, 3, 0.020774364471435547),\n",
       " (128, 448, 1, 4, 0.021042346954345703),\n",
       " (128, 448, 1, 5, 0.020946502685546875),\n",
       " (128, 448, 1, 6, 0.023767948150634766),\n",
       " (128, 448, 1, 7, 0.020941734313964844),\n",
       " (128, 448, 1, 8, 0.021315574645996094),\n",
       " (128, 448, 1, 9, 0.02368307113647461),\n",
       " (128, 512, 1, 0, 0.023847341537475586),\n",
       " (128, 512, 1, 1, 0.021422147750854492),\n",
       " (128, 512, 1, 2, 0.022150278091430664),\n",
       " (128, 512, 1, 3, 0.02373194694519043),\n",
       " (128, 512, 1, 4, 0.023734092712402344),\n",
       " (128, 512, 1, 5, 0.02213740348815918),\n",
       " (128, 512, 1, 6, 0.024138212203979492),\n",
       " (128, 512, 1, 7, 0.02376413345336914),\n",
       " (128, 512, 1, 8, 0.02104640007019043),\n",
       " (128, 512, 1, 9, 0.020978927612304688),\n",
       " (256, 64, 1, 0, 0.026572465896606445),\n",
       " (256, 64, 1, 1, 0.02658390998840332),\n",
       " (256, 64, 1, 2, 0.026645898818969727),\n",
       " (256, 64, 1, 3, 0.026654720306396484),\n",
       " (256, 64, 1, 4, 0.026587247848510742),\n",
       " (256, 64, 1, 5, 0.026571273803710938),\n",
       " (256, 64, 1, 6, 0.026489734649658203),\n",
       " (256, 64, 1, 7, 0.027544498443603516),\n",
       " (256, 64, 1, 8, 0.026653528213500977),\n",
       " (256, 64, 1, 9, 0.026637554168701172),\n",
       " (256, 64, 4, 0, 0.0572049617767334),\n",
       " (256, 64, 4, 1, 0.05724668502807617),\n",
       " (256, 64, 4, 2, 0.06071877479553223),\n",
       " (256, 64, 4, 3, 0.05726742744445801),\n",
       " (256, 64, 4, 4, 0.057366371154785156),\n",
       " (256, 64, 4, 5, 0.06077694892883301),\n",
       " (256, 64, 4, 6, 0.057299137115478516),\n",
       " (256, 64, 4, 7, 0.06047248840332031),\n",
       " (256, 64, 4, 8, 0.05736517906188965),\n",
       " (256, 64, 4, 9, 0.06046867370605469),\n",
       " (256, 128, 1, 0, 0.02654433250427246),\n",
       " (256, 128, 1, 1, 0.026581525802612305),\n",
       " (256, 128, 1, 2, 0.02686762809753418),\n",
       " (256, 128, 1, 3, 0.026467323303222656),\n",
       " (256, 128, 1, 4, 0.02911663055419922),\n",
       " (256, 128, 1, 5, 0.02800893783569336),\n",
       " (256, 128, 1, 6, 0.026534318923950195),\n",
       " (256, 128, 1, 7, 0.02733016014099121),\n",
       " (256, 128, 1, 8, 0.02638411521911621),\n",
       " (256, 128, 1, 9, 0.028058290481567383),\n",
       " (256, 128, 4, 0, 0.05724811553955078),\n",
       " (256, 128, 4, 1, 0.059821128845214844),\n",
       " (256, 128, 4, 2, 0.05986499786376953),\n",
       " (256, 128, 4, 3, 0.05729269981384277),\n",
       " (256, 128, 4, 4, 0.057335853576660156),\n",
       " (256, 128, 4, 5, 0.06302762031555176),\n",
       " (256, 128, 4, 6, 0.05724787712097168),\n",
       " (256, 128, 4, 7, 0.05725836753845215),\n",
       " (256, 128, 4, 8, 0.057285308837890625),\n",
       " (256, 128, 4, 9, 0.05990934371948242),\n",
       " (256, 192, 1, 0, 0.02940821647644043),\n",
       " (256, 192, 1, 1, 0.02927398681640625),\n",
       " (256, 192, 1, 2, 0.026540517807006836),\n",
       " (256, 192, 1, 3, 0.026463747024536133),\n",
       " (256, 192, 1, 4, 0.026911497116088867),\n",
       " (256, 192, 1, 5, 0.0265805721282959),\n",
       " (256, 192, 1, 6, 0.02651214599609375),\n",
       " (256, 192, 1, 7, 0.029244661331176758),\n",
       " (256, 192, 1, 8, 0.02637457847595215),\n",
       " (256, 192, 1, 9, 0.026604175567626953),\n",
       " (256, 192, 4, 0, 0.057343244552612305),\n",
       " (256, 192, 4, 1, 0.06080174446105957),\n",
       " (256, 192, 4, 2, 0.05732607841491699),\n",
       " (256, 192, 4, 3, 0.0572361946105957),\n",
       " (256, 192, 4, 4, 0.057279348373413086),\n",
       " (256, 192, 4, 5, 0.061429738998413086),\n",
       " (256, 192, 4, 6, 0.05842399597167969),\n",
       " (256, 192, 4, 7, 0.057231903076171875),\n",
       " (256, 192, 4, 8, 0.05977892875671387),\n",
       " (256, 192, 4, 9, 0.05724620819091797),\n",
       " (256, 256, 1, 0, 0.0292971134185791),\n",
       " (256, 256, 1, 1, 0.026564359664916992),\n",
       " (256, 256, 1, 2, 0.026506662368774414),\n",
       " (256, 256, 1, 3, 0.02650284767150879),\n",
       " (256, 256, 1, 4, 0.02649545669555664),\n",
       " (256, 256, 1, 5, 0.026520967483520508),\n",
       " (256, 256, 1, 6, 0.02654743194580078),\n",
       " (256, 256, 1, 7, 0.02659773826599121),\n",
       " (256, 256, 1, 8, 0.029233455657958984),\n",
       " (256, 256, 1, 9, 0.02846693992614746),\n",
       " (256, 256, 4, 0, 0.05747556686401367),\n",
       " (256, 256, 4, 1, 0.06155538558959961),\n",
       " (256, 256, 4, 2, 0.05733299255371094),\n",
       " (256, 256, 4, 3, 0.0590815544128418),\n",
       " (256, 256, 4, 4, 0.05732893943786621),\n",
       " (256, 256, 4, 5, 0.060666799545288086),\n",
       " (256, 256, 4, 6, 0.05725717544555664),\n",
       " (256, 256, 4, 7, 0.05723071098327637),\n",
       " (256, 256, 4, 8, 0.058550357818603516),\n",
       " (256, 256, 4, 9, 0.060381174087524414),\n",
       " (256, 320, 1, 0, 0.029187679290771484),\n",
       " (256, 320, 1, 1, 0.026537656784057617),\n",
       " (256, 320, 1, 2, 0.02943563461303711),\n",
       " (256, 320, 1, 3, 0.02690434455871582),\n",
       " (256, 320, 1, 4, 0.026531696319580078),\n",
       " (256, 320, 1, 5, 0.026574373245239258),\n",
       " (256, 320, 1, 6, 0.02656078338623047),\n",
       " (256, 320, 1, 7, 0.02909398078918457),\n",
       " (256, 320, 1, 8, 0.029169559478759766),\n",
       " (256, 320, 1, 9, 0.029304981231689453),\n",
       " (256, 384, 1, 0, 0.026499271392822266),\n",
       " (256, 384, 1, 1, 0.026335954666137695),\n",
       " (256, 384, 1, 2, 0.026573896408081055),\n",
       " (256, 384, 1, 3, 0.029119014739990234),\n",
       " (256, 384, 1, 4, 0.026533126831054688),\n",
       " (256, 384, 1, 5, 0.02653336524963379),\n",
       " (256, 384, 1, 6, 0.02649855613708496),\n",
       " (256, 384, 1, 7, 0.029026508331298828),\n",
       " (256, 384, 1, 8, 0.026492834091186523),\n",
       " (256, 384, 1, 9, 0.026782989501953125),\n",
       " (256, 448, 1, 0, 0.026558637619018555),\n",
       " (256, 448, 1, 1, 0.029349803924560547),\n",
       " (256, 448, 1, 2, 0.02660655975341797),\n",
       " (256, 448, 1, 3, 0.02656865119934082),\n",
       " (256, 448, 1, 4, 0.026490211486816406),\n",
       " (256, 448, 1, 5, 0.026508569717407227),\n",
       " (256, 448, 1, 6, 0.02908158302307129),\n",
       " (256, 448, 1, 7, 0.029165983200073242),\n",
       " (256, 448, 1, 8, 0.02890920639038086),\n",
       " (256, 448, 1, 9, 0.02638864517211914),\n",
       " (256, 512, 1, 0, 0.02660536766052246),\n",
       " (256, 512, 1, 1, 0.02654409408569336),\n",
       " (256, 512, 1, 2, 0.02863931655883789),\n",
       " (256, 512, 1, 3, 0.026635408401489258),\n",
       " (256, 512, 1, 4, 0.02658700942993164),\n",
       " (256, 512, 1, 5, 0.02657628059387207),\n",
       " (256, 512, 1, 6, 0.02651834487915039),\n",
       " (256, 512, 1, 7, 0.026387453079223633),\n",
       " (256, 512, 1, 8, 0.026488780975341797),\n",
       " (256, 512, 1, 9, 0.029093265533447266),\n",
       " (384, 64, 1, 0, 0.6070358753204346),\n",
       " (384, 64, 1, 1, 0.6156647205352783),\n",
       " (384, 64, 1, 2, 0.6161518096923828),\n",
       " (384, 64, 1, 3, 0.606675386428833),\n",
       " (384, 64, 1, 4, 0.6083266735076904),\n",
       " (384, 64, 1, 5, 0.6056838035583496),\n",
       " (384, 64, 1, 6, 0.6132299900054932),\n",
       " (384, 64, 1, 7, 0.6071674823760986),\n",
       " (384, 64, 1, 8, 0.6008296012878418),\n",
       " (384, 64, 1, 9, 0.6120405197143555),\n",
       " (384, 64, 4, 0, 0.7083163261413574),\n",
       " (384, 64, 4, 1, 0.7175717353820801),\n",
       " (384, 64, 4, 2, 0.7115893363952637),\n",
       " (384, 64, 4, 3, 0.7146270275115967),\n",
       " (384, 64, 4, 4, 0.7134792804718018),\n",
       " (384, 64, 4, 5, 0.7122173309326172),\n",
       " (384, 64, 4, 6, 0.7164933681488037),\n",
       " (384, 64, 4, 7, 0.7129223346710205),\n",
       " (384, 64, 4, 8, 0.7134461402893066),\n",
       " (384, 64, 4, 9, 0.7073614597320557),\n",
       " (384, 128, 1, 0, 1.2037546634674072),\n",
       " (384, 128, 1, 1, 1.2149040699005127),\n",
       " (384, 128, 1, 2, 1.1945140361785889),\n",
       " (384, 128, 1, 3, 1.1848359107971191),\n",
       " (384, 128, 1, 4, 1.2035961151123047),\n",
       " (384, 128, 1, 5, 1.1998755931854248),\n",
       " (384, 128, 1, 6, 1.2077605724334717),\n",
       " (384, 128, 1, 7, 1.209648847579956),\n",
       " (384, 128, 1, 8, 1.1970393657684326),\n",
       " (384, 128, 1, 9, 1.2054269313812256),\n",
       " (384, 128, 4, 0, 1.355712652206421),\n",
       " (384, 128, 4, 1, 1.3676362037658691),\n",
       " (384, 128, 4, 2, 1.37025785446167),\n",
       " (384, 128, 4, 3, 1.3594012260437012),\n",
       " (384, 128, 4, 4, 1.357980489730835),\n",
       " (384, 128, 4, 5, 1.3627417087554932),\n",
       " (384, 128, 4, 6, 1.3488819599151611),\n",
       " (384, 128, 4, 7, 1.356628656387329),\n",
       " (384, 128, 4, 8, 1.3601899147033691),\n",
       " (384, 128, 4, 9, 1.3708207607269287),\n",
       " (384, 192, 1, 0, 1.7877178192138672),\n",
       " (384, 192, 1, 1, 1.7984824180603027),\n",
       " (384, 192, 1, 2, 1.7807598114013672),\n",
       " (384, 192, 1, 3, 1.8030281066894531),\n",
       " (384, 192, 1, 4, 1.804466962814331),\n",
       " (384, 192, 1, 5, 1.8147485256195068),\n",
       " (384, 192, 1, 6, 1.7660040855407715),\n",
       " (384, 192, 1, 7, 1.8090088367462158),\n",
       " (384, 192, 1, 8, 1.8006038665771484),\n",
       " (384, 192, 1, 9, 1.8083670139312744),\n",
       " (384, 256, 1, 0, 2.389526605606079),\n",
       " (384, 256, 1, 1, 2.395747184753418),\n",
       " (384, 256, 1, 2, 2.396188259124756),\n",
       " (384, 256, 1, 3, 2.3978230953216553),\n",
       " (384, 256, 1, 4, 2.3944296836853027),\n",
       " (384, 256, 1, 5, 2.4051711559295654),\n",
       " (384, 256, 1, 6, 2.3737406730651855),\n",
       " (384, 256, 1, 7, 2.4132988452911377),\n",
       " (384, 256, 1, 8, 2.3951656818389893),\n",
       " (384, 256, 1, 9, 2.415412664413452),\n",
       " (384, 320, 1, 0, 3.0215096473693848),\n",
       " (384, 320, 1, 1, 3.0208702087402344),\n",
       " (384, 320, 1, 2, 2.973374605178833),\n",
       " (384, 320, 1, 3, 2.992067813873291),\n",
       " (384, 320, 1, 4, 2.9947569370269775),\n",
       " (384, 320, 1, 5, 2.967947244644165),\n",
       " (384, 320, 1, 6, 2.9968979358673096),\n",
       " (384, 320, 1, 7, 3.0171782970428467),\n",
       " (384, 320, 1, 8, 2.993873357772827),\n",
       " (384, 320, 1, 9, 2.989863395690918),\n",
       " (384, 384, 1, 0, 3.5650010108947754),\n",
       " (384, 384, 1, 1, 3.589789390563965),\n",
       " (384, 384, 1, 2, 3.5272958278656006),\n",
       " (384, 384, 1, 3, 3.5851104259490967),\n",
       " (384, 384, 1, 4, 3.5721166133880615),\n",
       " (384, 384, 1, 5, 3.5928544998168945),\n",
       " (384, 384, 1, 6, 3.582811117172241),\n",
       " (384, 384, 1, 7, 3.519850015640259),\n",
       " (384, 384, 1, 8, 3.613126516342163),\n",
       " (384, 384, 1, 9, 3.5898985862731934),\n",
       " (384, 448, 1, 0, 4.189505100250244),\n",
       " (384, 448, 1, 1, 4.192343235015869),\n",
       " (384, 448, 1, 2, 4.125295877456665),\n",
       " (384, 448, 1, 3, 4.176987171173096),\n",
       " (384, 448, 1, 4, 4.171396017074585),\n",
       " (384, 448, 1, 5, 4.178542852401733),\n",
       " (384, 448, 1, 6, 4.1470794677734375),\n",
       " (384, 448, 1, 7, 4.189269542694092),\n",
       " (384, 448, 1, 8, 4.147280931472778),\n",
       " (384, 448, 1, 9, 4.19593071937561),\n",
       " (384, 512, 1, 0, 4.763129472732544),\n",
       " (384, 512, 1, 1, 4.813720464706421),\n",
       " (384, 512, 1, 2, 4.781247854232788),\n",
       " (384, 512, 1, 3, 4.793432235717773),\n",
       " (384, 512, 1, 4, 4.78605055809021),\n",
       " (384, 512, 1, 5, 4.833306074142456),\n",
       " (384, 512, 1, 6, 4.784236192703247),\n",
       " (384, 512, 1, 7, 4.786951303482056),\n",
       " (384, 512, 1, 8, 4.772650241851807),\n",
       " (384, 512, 1, 9, 4.762712001800537),\n",
       " (512, 64, 1, 0, 0.6075789928436279),\n",
       " (512, 64, 1, 1, 0.6241598129272461),\n",
       " (512, 64, 1, 2, 0.6188335418701172),\n",
       " (512, 64, 1, 3, 0.6147675514221191),\n",
       " (512, 64, 1, 4, 0.6075072288513184),\n",
       " (512, 64, 1, 5, 0.6162443161010742),\n",
       " (512, 64, 1, 6, 0.6147055625915527),\n",
       " (512, 64, 1, 7, 0.6190085411071777),\n",
       " (512, 64, 1, 8, 0.6111700534820557),\n",
       " (512, 64, 1, 9, 0.6132290363311768),\n",
       " (512, 128, 1, 0, 1.1892802715301514),\n",
       " (512, 128, 1, 1, 1.214972972869873),\n",
       " (512, 128, 1, 2, 1.211974859237671),\n",
       " (512, 128, 1, 3, 1.2129120826721191),\n",
       " (512, 128, 1, 4, 1.214371681213379),\n",
       " (512, 128, 1, 5, 1.2098138332366943),\n",
       " (512, 128, 1, 6, 1.2086515426635742),\n",
       " (512, 128, 1, 7, 1.2249345779418945),\n",
       " (512, 128, 1, 8, 1.2084953784942627),\n",
       " (512, 128, 1, 9, 1.2072691917419434),\n",
       " (512, 192, 1, 0, 1.8033692836761475),\n",
       " (512, 192, 1, 1, 1.8226473331451416),\n",
       " (512, 192, 1, 2, 1.777660846710205),\n",
       " (512, 192, 1, 3, 1.8093302249908447),\n",
       " (512, 192, 1, 4, 1.7773692607879639),\n",
       " (512, 192, 1, 5, 1.8199827671051025),\n",
       " (512, 192, 1, 6, 1.7964599132537842),\n",
       " (512, 192, 1, 7, 1.806563138961792),\n",
       " (512, 192, 1, 8, 1.7963333129882812),\n",
       " (512, 192, 1, 9, 1.807786464691162),\n",
       " (512, 256, 1, 0, 2.395906686782837),\n",
       " (512, 256, 1, 1, 2.398571252822876),\n",
       " (512, 256, 1, 2, 2.4209954738616943),\n",
       " (512, 256, 1, 3, 2.401148796081543),\n",
       " (512, 256, 1, 4, 2.4198923110961914),\n",
       " (512, 256, 1, 5, 2.3949451446533203),\n",
       " (512, 256, 1, 6, 2.4079060554504395),\n",
       " (512, 256, 1, 7, 2.4099247455596924),\n",
       " (512, 256, 1, 8, 2.4229555130004883),\n",
       " (512, 256, 1, 9, 2.3950142860412598),\n",
       " (512, 320, 1, 0, 2.9754879474639893),\n",
       " (512, 320, 1, 1, 2.989070177078247),\n",
       " (512, 320, 1, 2, 2.9940738677978516),\n",
       " (512, 320, 1, 3, 3.0328617095947266),\n",
       " (512, 320, 1, 4, 3.021305799484253),\n",
       " (512, 320, 1, 5, 3.0028305053710938),\n",
       " (512, 320, 1, 6, 3.001950263977051),\n",
       " (512, 320, 1, 7, 3.005826234817505),\n",
       " (512, 320, 1, 8, 3.0288753509521484),\n",
       " (512, 320, 1, 9, 2.9946680068969727),\n",
       " (512, 384, 1, 0, 3.6230924129486084),\n",
       " (512, 384, 1, 1, 3.6016786098480225),\n",
       " (512, 384, 1, 2, 3.5935134887695312),\n",
       " (512, 384, 1, 3, 3.620164632797241),\n",
       " (512, 384, 1, 4, 3.597958564758301),\n",
       " (512, 384, 1, 5, 3.602034091949463),\n",
       " (512, 384, 1, 6, 3.564265727996826),\n",
       " (512, 384, 1, 7, 3.5956907272338867),\n",
       " (512, 384, 1, 8, 3.598484992980957),\n",
       " (512, 384, 1, 9, 3.5999855995178223),\n",
       " (512, 448, 1, 0, 4.224848985671997),\n",
       " (512, 448, 1, 1, 4.199347257614136),\n",
       " (512, 448, 1, 2, 4.217295169830322),\n",
       " (512, 448, 1, 3, 4.215674638748169),\n",
       " (512, 448, 1, 4, 4.124068975448608),\n",
       " (512, 448, 1, 5, 4.201362371444702),\n",
       " (512, 448, 1, 6, 4.110053062438965),\n",
       " (512, 448, 1, 7, 4.188427209854126),\n",
       " (512, 448, 1, 8, 4.1936867237091064),\n",
       " (512, 448, 1, 9, 4.199046850204468),\n",
       " (512, 512, 1, 0, 4.782634496688843),\n",
       " (512, 512, 1, 1, 4.787127256393433),\n",
       " (512, 512, 1, 2, 4.77694034576416),\n",
       " (512, 512, 1, 3, 4.796361207962036),\n",
       " (512, 512, 1, 4, 4.830587148666382),\n",
       " (512, 512, 1, 5, 4.743786573410034),\n",
       " (512, 512, 1, 6, 4.695981740951538),\n",
       " (512, 512, 1, 7, 4.742323398590088),\n",
       " (512, 512, 1, 8, 4.818960428237915),\n",
       " (512, 512, 1, 9, 4.708348512649536),\n",
       " (640, 64, 1, 0, 0.6191613674163818),\n",
       " (640, 64, 1, 1, 0.6207406520843506),\n",
       " (640, 64, 1, 2, 0.622283935546875),\n",
       " (640, 64, 1, 3, 0.611208438873291),\n",
       " (640, 64, 1, 4, 0.6201634407043457),\n",
       " (640, 64, 1, 5, 0.6208600997924805),\n",
       " (640, 64, 1, 6, 0.624352216720581),\n",
       " (640, 64, 1, 7, 0.6265981197357178),\n",
       " (640, 64, 1, 8, 0.6192963123321533),\n",
       " (640, 64, 1, 9, 0.6202259063720703),\n",
       " (640, 128, 1, 0, 1.213881492614746),\n",
       " (640, 128, 1, 1, 1.1971991062164307),\n",
       " (640, 128, 1, 2, 1.2164111137390137),\n",
       " (640, 128, 1, 3, 1.2130889892578125),\n",
       " (640, 128, 1, 4, 1.2142651081085205),\n",
       " (640, 128, 1, 5, 1.2188103199005127),\n",
       " (640, 128, 1, 6, 1.2262458801269531),\n",
       " (640, 128, 1, 7, 1.2277660369873047),\n",
       " (640, 128, 1, 8, 1.2173705101013184),\n",
       " (640, 128, 1, 9, 1.2236511707305908),\n",
       " (640, 192, 1, 0, 1.8333849906921387),\n",
       " (640, 192, 1, 1, 1.8118772506713867),\n",
       " (640, 192, 1, 2, 1.8148250579833984),\n",
       " (640, 192, 1, 3, 1.7999122142791748),\n",
       " (640, 192, 1, 4, 1.8141849040985107),\n",
       " (640, 192, 1, 5, 1.8159904479980469),\n",
       " (640, 192, 1, 6, 1.8256614208221436),\n",
       " (640, 192, 1, 7, 1.8103880882263184),\n",
       " (640, 192, 1, 8, 1.8144631385803223),\n",
       " (640, 192, 1, 9, 1.7838740348815918),\n",
       " (640, 256, 1, 0, 2.4312210083007812),\n",
       " (640, 256, 1, 1, 2.425462007522583),\n",
       " (640, 256, 1, 2, 2.391319990158081),\n",
       " (640, 256, 1, 3, 2.411088228225708),\n",
       " (640, 256, 1, 4, 2.402153491973877),\n",
       " (640, 256, 1, 5, 2.4197914600372314),\n",
       " (640, 256, 1, 6, 2.4089243412017822),\n",
       " (640, 256, 1, 7, 2.4109935760498047),\n",
       " (640, 256, 1, 8, 2.3962976932525635),\n",
       " (640, 256, 1, 9, 2.4289767742156982),\n",
       " (640, 320, 1, 0, 2.9920122623443604),\n",
       " (640, 320, 1, 1, 2.9954357147216797),\n",
       " (640, 320, 1, 2, 3.0265583992004395),\n",
       " (640, 320, 1, 3, 2.996701717376709),\n",
       " (640, 320, 1, 4, 3.0123353004455566),\n",
       " (640, 320, 1, 5, 3.0300803184509277),\n",
       " (640, 320, 1, 6, 3.009683609008789),\n",
       " (640, 320, 1, 7, 2.9960923194885254),\n",
       " (640, 320, 1, 8, 2.9878122806549072),\n",
       " (640, 320, 1, 9, 2.9965434074401855),\n",
       " (640, 384, 1, 0, 3.5975985527038574),\n",
       " (640, 384, 1, 1, 3.604617118835449),\n",
       " (640, 384, 1, 2, 3.5868523120880127),\n",
       " (640, 384, 1, 3, 3.6083664894104004),\n",
       " (640, 384, 1, 4, 3.604997158050537),\n",
       " (640, 384, 1, 5, 3.627044200897217),\n",
       " (640, 384, 1, 6, 3.6019186973571777),\n",
       " (640, 384, 1, 7, 3.5770444869995117),\n",
       " (640, 384, 1, 8, 3.6146631240844727),\n",
       " (640, 384, 1, 9, 3.6295511722564697),\n",
       " (640, 448, 1, 0, 4.229019641876221),\n",
       " (640, 448, 1, 1, 4.229405164718628),\n",
       " (640, 448, 1, 2, 4.201168060302734),\n",
       " (640, 448, 1, 3, 4.185079336166382),\n",
       " (640, 448, 1, 4, 4.201686859130859),\n",
       " (640, 448, 1, 5, 4.203530788421631),\n",
       " (640, 448, 1, 6, 4.2331976890563965),\n",
       " (640, 448, 1, 7, 4.154139757156372),\n",
       " (640, 448, 1, 8, 4.190322399139404),\n",
       " (640, 448, 1, 9, 4.204202890396118),\n",
       " (640, 512, 1, 0, 4.7702131271362305),\n",
       " (640, 512, 1, 1, 4.827188730239868),\n",
       " (640, 512, 1, 2, 4.834584712982178),\n",
       " (640, 512, 1, 3, 4.792074203491211),\n",
       " (640, 512, 1, 4, 4.7963268756866455),\n",
       " (640, 512, 1, 5, 4.746624946594238),\n",
       " (640, 512, 1, 6, 4.823469161987305),\n",
       " (640, 512, 1, 7, 4.794773578643799),\n",
       " (640, 512, 1, 8, 4.800361156463623),\n",
       " (640, 512, 1, 9, 4.834271192550659),\n",
       " (768, 64, 1, 0, 0.6336460113525391),\n",
       " (768, 64, 1, 1, 0.630354642868042),\n",
       " (768, 64, 1, 2, 0.6302952766418457),\n",
       " (768, 64, 1, 3, 0.6193673610687256),\n",
       " (768, 64, 1, 4, 0.6229801177978516),\n",
       " (768, 64, 1, 5, 0.6309256553649902),\n",
       " (768, 64, 1, 6, 0.630199670791626),\n",
       " (768, 64, 1, 7, 0.6254312992095947),\n",
       " (768, 64, 1, 8, 0.6346950531005859),\n",
       " (768, 64, 1, 9, 0.6302807331085205),\n",
       " (768, 128, 1, 0, 1.222414493560791),\n",
       " (768, 128, 1, 1, 1.2259464263916016),\n",
       " (768, 128, 1, 2, 1.2274305820465088),\n",
       " (768, 128, 1, 3, 1.2235236167907715),\n",
       " (768, 128, 1, 4, 1.2160923480987549),\n",
       " (768, 128, 1, 5, 1.2226641178131104),\n",
       " (768, 128, 1, 6, 1.2150075435638428),\n",
       " (768, 128, 1, 7, 1.220191478729248),\n",
       " (768, 128, 1, 8, 1.2315104007720947),\n",
       " (768, 128, 1, 9, 1.2308385372161865),\n",
       " (768, 192, 1, 0, 1.8336436748504639),\n",
       " (768, 192, 1, 1, 1.8168089389801025),\n",
       " (768, 192, 1, 2, 1.8136439323425293),\n",
       " (768, 192, 1, 3, 1.8383557796478271),\n",
       " (768, 192, 1, 4, 1.839151382446289),\n",
       " (768, 192, 1, 5, 1.8303420543670654),\n",
       " (768, 192, 1, 6, 1.8295495510101318),\n",
       " (768, 192, 1, 7, 1.816056489944458),\n",
       " (768, 192, 1, 8, 1.8287255764007568),\n",
       " (768, 192, 1, 9, 1.816406488418579),\n",
       " (768, 256, 1, 0, 2.4117393493652344),\n",
       " (768, 256, 1, 1, 2.4210798740386963),\n",
       " (768, 256, 1, 2, 2.411344289779663),\n",
       " (768, 256, 1, 3, 2.37247371673584),\n",
       " (768, 256, 1, 4, 2.432526111602783),\n",
       " (768, 256, 1, 5, 2.410773992538452),\n",
       " (768, 256, 1, 6, 2.4128100872039795),\n",
       " (768, 256, 1, 7, 2.409238576889038),\n",
       " (768, 256, 1, 8, 2.412219762802124),\n",
       " (768, 256, 1, 9, 2.418109893798828),\n",
       " (768, 320, 1, 0, 3.0143849849700928),\n",
       " (768, 320, 1, 1, 3.0172791481018066),\n",
       " (768, 320, 1, 2, 3.013559341430664),\n",
       " (768, 320, 1, 3, 3.0153164863586426),\n",
       " (768, 320, 1, 4, 2.9717395305633545),\n",
       " (768, 320, 1, 5, 3.014490842819214),\n",
       " (768, 320, 1, 6, 3.005539655685425),\n",
       " (768, 320, 1, 7, 3.0172924995422363),\n",
       " (768, 320, 1, 8, 2.996107578277588),\n",
       " (768, 320, 1, 9, 3.0358049869537354),\n",
       " (768, 384, 1, 0, 3.6044650077819824),\n",
       " (768, 384, 1, 1, 3.6075339317321777),\n",
       " (768, 384, 1, 2, 3.592226505279541),\n",
       " (768, 384, 1, 3, 3.580397605895996),\n",
       " (768, 384, 1, 4, 3.6089115142822266),\n",
       " (768, 384, 1, 5, 3.638209104537964),\n",
       " (768, 384, 1, 6, 3.6004724502563477),\n",
       " (768, 384, 1, 7, 3.6058874130249023),\n",
       " (768, 384, 1, 8, 3.603778839111328),\n",
       " (768, 384, 1, 9, 3.5948376655578613),\n",
       " (768, 448, 1, 0, 4.215642213821411),\n",
       " (768, 448, 1, 1, 4.215154647827148),\n",
       " (768, 448, 1, 2, 4.2026753425598145),\n",
       " (768, 448, 1, 3, 4.170626163482666),\n",
       " (768, 448, 1, 4, 4.212402582168579),\n",
       " (768, 448, 1, 5, 4.235085487365723),\n",
       " (768, 448, 1, 6, 4.152378559112549),\n",
       " (768, 448, 1, 7, 4.215605735778809),\n",
       " (768, 448, 1, 8, 4.143986940383911),\n",
       " (768, 448, 1, 9, 4.199277400970459),\n",
       " (768, 512, 1, 0, 4.843397855758667),\n",
       " (768, 512, 1, 1, 4.801900386810303),\n",
       " (768, 512, 1, 2, 4.791610240936279),\n",
       " (768, 512, 1, 3, 4.847724199295044),\n",
       " (768, 512, 1, 4, 4.801375865936279),\n",
       " (768, 512, 1, 5, 4.752969741821289),\n",
       " (768, 512, 1, 6, 4.756819009780884),\n",
       " (768, 512, 1, 7, 4.795985221862793),\n",
       " (768, 512, 1, 8, 4.792866468429565),\n",
       " (768, 512, 1, 9, 4.802279710769653),\n",
       " (896, 64, 1, 0, 0.6286029815673828),\n",
       " (896, 64, 1, 1, 0.6307923793792725),\n",
       " (896, 64, 1, 2, 0.6292803287506104),\n",
       " (896, 64, 1, 3, 0.6336615085601807),\n",
       " (896, 64, 1, 4, 0.6305356025695801),\n",
       " (896, 64, 1, 5, 0.6335723400115967),\n",
       " (896, 64, 1, 6, 0.6267549991607666),\n",
       " (896, 64, 1, 7, 0.6300420761108398),\n",
       " (896, 64, 1, 8, 0.6375617980957031),\n",
       " (896, 64, 1, 9, 0.6347951889038086),\n",
       " (896, 128, 1, 0, 1.2101225852966309),\n",
       " (896, 128, 1, 1, 1.2260417938232422),\n",
       " (896, 128, 1, 2, 1.2257044315338135),\n",
       " (896, 128, 1, 3, 1.236722707748413),\n",
       " (896, 128, 1, 4, 1.2344157695770264),\n",
       " (896, 128, 1, 5, 1.232795000076294),\n",
       " (896, 128, 1, 6, 1.2286467552185059),\n",
       " (896, 128, 1, 7, 1.2233912944793701),\n",
       " (896, 128, 1, 8, 1.215153455734253),\n",
       " (896, 128, 1, 9, 1.2199349403381348),\n",
       " (896, 192, 1, 0, 1.818394422531128),\n",
       " (896, 192, 1, 1, 1.8390510082244873),\n",
       " (896, 192, 1, 2, 1.8391060829162598),\n",
       " (896, 192, 1, 3, 1.8284647464752197),\n",
       " (896, 192, 1, 4, 1.8372118473052979),\n",
       " (896, 192, 1, 5, 1.7936363220214844),\n",
       " (896, 192, 1, 6, 1.836439847946167),\n",
       " (896, 192, 1, 7, 1.825859785079956),\n",
       " (896, 192, 1, 8, 1.8257369995117188),\n",
       " (896, 192, 1, 9, 1.8279178142547607),\n",
       " (896, 256, 1, 0, 2.4193575382232666),\n",
       " (896, 256, 1, 1, 2.4563615322113037),\n",
       " (896, 256, 1, 2, 2.420158863067627),\n",
       " (896, 256, 1, 3, 2.411963701248169),\n",
       " (896, 256, 1, 4, 2.380070209503174),\n",
       " (896, 256, 1, 5, 2.440931558609009),\n",
       " (896, 256, 1, 6, 2.413210868835449),\n",
       " (896, 256, 1, 7, 2.413456439971924),\n",
       " (896, 256, 1, 8, 2.442530632019043),\n",
       " (896, 256, 1, 9, 2.42579984664917),\n",
       " (896, 320, 1, 0, 2.4742214679718018),\n",
       " (896, 320, 1, 1, 3.018766164779663),\n",
       " (896, 320, 1, 2, 3.0188052654266357),\n",
       " (896, 320, 1, 3, 2.9829413890838623),\n",
       " (896, 320, 1, 4, 3.039238214492798),\n",
       " (896, 320, 1, 5, 3.021535634994507),\n",
       " (896, 320, 1, 6, 3.042065143585205),\n",
       " (896, 320, 1, 7, 2.498649835586548),\n",
       " (896, 320, 1, 8, 3.0022776126861572),\n",
       " (896, 320, 1, 9, 3.020012855529785),\n",
       " (896, 384, 1, 0, 3.6191015243530273),\n",
       " (896, 384, 1, 1, 3.615478515625),\n",
       " (896, 384, 1, 2, 3.6020731925964355),\n",
       " (896, 384, 1, 3, 3.6226789951324463),\n",
       " (896, 384, 1, 4, 3.5998451709747314),\n",
       " (896, 384, 1, 5, 3.607477903366089),\n",
       " (896, 384, 1, 6, 3.617302894592285),\n",
       " (896, 384, 1, 7, 3.620671510696411),\n",
       " (896, 384, 1, 8, 3.614454507827759),\n",
       " (896, 384, 1, 9, 3.620701551437378),\n",
       " (896, 448, 1, 0, 4.19209098815918),\n",
       " (896, 448, 1, 1, 2.4988856315612793),\n",
       " (896, 448, 1, 2, 4.214057683944702),\n",
       " (896, 448, 1, 3, 4.172639846801758),\n",
       " (896, 448, 1, 4, 4.2116007804870605),\n",
       " (896, 448, 1, 5, 4.213591575622559),\n",
       " (896, 448, 1, 6, 4.217155694961548),\n",
       " (896, 448, 1, 7, 4.2097063064575195),\n",
       " (896, 448, 1, 8, 4.213181734085083),\n",
       " (896, 448, 1, 9, 4.196248292922974),\n",
       " (896, 512, 1, 0, 4.792528390884399),\n",
       " (896, 512, 1, 1, 4.822855472564697),\n",
       " (896, 512, 1, 2, 4.724186182022095),\n",
       " (896, 512, 1, 3, 4.778313636779785),\n",
       " (896, 512, 1, 4, 2.4948842525482178),\n",
       " (896, 512, 1, 5, 4.8427512645721436),\n",
       " (896, 512, 1, 6, 4.807626247406006),\n",
       " (896, 512, 1, 7, 4.74057412147522),\n",
       " (896, 512, 1, 8, 4.789290904998779),\n",
       " (896, 512, 1, 9, 4.774264097213745),\n",
       " (1024, 64, 1, 0, 0.6349325180053711),\n",
       " (1024, 64, 1, 1, 0.6269223690032959),\n",
       " (1024, 64, 1, 2, 0.05803513526916504),\n",
       " (1024, 64, 1, 3, 0.6415345668792725),\n",
       " (1024, 64, 1, 4, 0.6249549388885498),\n",
       " (1024, 64, 1, 5, 0.6354265213012695),\n",
       " (1024, 64, 1, 6, 0.06028914451599121),\n",
       " (1024, 64, 1, 7, 0.6237056255340576),\n",
       " (1024, 64, 1, 8, 0.05705857276916504),\n",
       " (1024, 64, 1, 9, 0.6478509902954102),\n",
       " (1024, 128, 1, 0, 0.0572512149810791),\n",
       " (1024, 128, 1, 1, 1.2345397472381592),\n",
       " (1024, 128, 1, 2, 1.239961862564087),\n",
       " (1024, 128, 1, 3, 1.2300753593444824),\n",
       " (1024, 128, 1, 4, 1.242095708847046),\n",
       " (1024, 128, 1, 5, 0.06015205383300781),\n",
       " (1024, 128, 1, 6, 0.05942678451538086),\n",
       " (1024, 128, 1, 7, 1.2328479290008545),\n",
       " (1024, 128, 1, 8, 0.05865764617919922),\n",
       " (1024, 128, 1, 9, 1.2325570583343506),\n",
       " (1024, 192, 1, 0, 0.05710482597351074),\n",
       " (1024, 192, 1, 1, 1.843008279800415),\n",
       " (1024, 192, 1, 2, 1.8250701427459717),\n",
       " (1024, 192, 1, 3, 0.05735468864440918),\n",
       " (1024, 192, 1, 4, 1.8144800662994385),\n",
       " (1024, 192, 1, 5, 0.05869340896606445),\n",
       " (1024, 192, 1, 6, 0.057038068771362305),\n",
       " (1024, 192, 1, 7, 0.0629129409790039),\n",
       " (1024, 192, 1, 8, 0.0602877140045166),\n",
       " (1024, 192, 1, 9, 1.8403689861297607),\n",
       " (1024, 256, 1, 0, 0.06093478202819824),\n",
       " (1024, 256, 1, 1, 0.0576167106628418),\n",
       " (1024, 256, 1, 2, 2.386598825454712),\n",
       " (1024, 256, 1, 3, 0.05946826934814453),\n",
       " (1024, 256, 1, 4, 0.0572509765625),\n",
       " (1024, 256, 1, 5, 0.0571436882019043),\n",
       " (1024, 256, 1, 6, 2.3816936016082764),\n",
       " (1024, 256, 1, 7, 2.4230220317840576),\n",
       " (1024, 256, 1, 8, 2.445622444152832),\n",
       " (1024, 256, 1, 9, 0.06383395195007324),\n",
       " (1024, 320, 1, 0, 0.057001352310180664),\n",
       " (1024, 320, 1, 1, 0.05715298652648926),\n",
       " (1024, 320, 1, 2, 0.05712699890136719),\n",
       " (1024, 320, 1, 3, 0.057190895080566406),\n",
       " (1024, 320, 1, 4, 0.05766129493713379),\n",
       " (1024, 320, 1, 5, 3.043856620788574),\n",
       " (1024, 320, 1, 6, 0.06325483322143555),\n",
       " (1024, 320, 1, 7, 0.06099581718444824),\n",
       " (1024, 320, 1, 8, 2.996950387954712),\n",
       " (1024, 320, 1, 9, 0.0594334602355957),\n",
       " (1024, 384, 1, 0, 0.05818462371826172),\n",
       " (1024, 384, 1, 1, 3.6163506507873535),\n",
       " (1024, 384, 1, 2, 3.6070539951324463),\n",
       " (1024, 384, 1, 3, 3.6075878143310547),\n",
       " (1024, 384, 1, 4, 3.6089329719543457),\n",
       " (1024, 384, 1, 5, 0.05937838554382324),\n",
       " (1024, 384, 1, 6, 0.05714130401611328),\n",
       " (1024, 384, 1, 7, 3.5728862285614014),\n",
       " (1024, 384, 1, 8, 3.624727725982666),\n",
       " (1024, 384, 1, 9, 0.057070255279541016),\n",
       " (1024, 448, 1, 0, 0.06085062026977539),\n",
       " (1024, 448, 1, 1, 4.172409296035767),\n",
       " (1024, 448, 1, 2, 4.2403178215026855),\n",
       " (1024, 448, 1, 3, 4.232196092605591),\n",
       " (1024, 448, 1, 4, 4.246270418167114),\n",
       " (1024, 448, 1, 5, 4.1667256355285645),\n",
       " (1024, 448, 1, 6, 4.219056844711304),\n",
       " (1024, 448, 1, 7, 4.20268440246582),\n",
       " (1024, 448, 1, 8, 4.220275402069092),\n",
       " (1024, 448, 1, 9, 0.05707979202270508),\n",
       " (1024, 512, 1, 0, 0.05805540084838867),\n",
       " (1024, 512, 1, 1, 4.847328186035156),\n",
       " (1024, 512, 1, 2, 0.05918169021606445),\n",
       " (1024, 512, 1, 3, 0.05708169937133789),\n",
       " (1024, 512, 1, 4, 0.059093475341796875),\n",
       " (1024, 512, 1, 5, 4.809531211853027),\n",
       " (1024, 512, 1, 6, 4.804059028625488),\n",
       " (1024, 512, 1, 7, 0.05726885795593262),\n",
       " (1024, 512, 1, 8, 4.84493613243103),\n",
       " (1024, 512, 1, 9, 4.820620536804199)]"
      ]
     },
     "execution_count": 78,
     "metadata": {},
     "output_type": "execute_result"
    }
   ],
   "source": []
  },
  {
   "cell_type": "code",
   "execution_count": null,
   "id": "31245015-c04c-4983-a4a1-e1cfda938e78",
   "metadata": {},
   "outputs": [],
   "source": []
  }
 ],
 "metadata": {
  "kernelspec": {
   "display_name": "Python 3 (ipykernel)",
   "language": "python",
   "name": "python3"
  },
  "language_info": {
   "codemirror_mode": {
    "name": "ipython",
    "version": 3
   },
   "file_extension": ".py",
   "mimetype": "text/x-python",
   "name": "python",
   "nbconvert_exporter": "python",
   "pygments_lexer": "ipython3",
   "version": "3.10.12"
  }
 },
 "nbformat": 4,
 "nbformat_minor": 5
}
